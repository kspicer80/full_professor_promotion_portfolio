{
 "cells": [
  {
   "cell_type": "code",
   "execution_count": 40,
   "metadata": {},
   "outputs": [],
   "source": [
    "import matplotlib.pyplot as plt\n",
    "import numpy as np\n",
    "import os\n",
    "import pandas as pd\n",
    "pd.set_option('display.max_rows', None)\n",
    "import re\n",
    "from pathlib import Path\n",
    "import plotly.express as px\n",
    "from course_id_mapping import course_ids_dictionary"
   ]
  },
  {
   "cell_type": "code",
   "execution_count": 41,
   "metadata": {},
   "outputs": [
    {
     "name": "stdout",
     "output_type": "stream",
     "text": [
      "Successfully read in author_mentions\\main_posts\\1149116_author_mentions_main_posts.json.\n",
      "Successfully read in author_mentions\\main_posts\\1150006_author_mentions_main_posts.json.\n",
      "Successfully read in author_mentions\\main_posts\\1154406_author_mentions_main_posts.json.\n",
      "Successfully read in author_mentions\\main_posts\\1155902_author_mentions_main_posts.json.\n",
      "Successfully read in author_mentions\\main_posts\\1158756_author_mentions_main_posts.json.\n",
      "Successfully read in author_mentions\\main_posts\\1160142_author_mentions_main_posts.json.\n",
      "Successfully read in author_mentions\\main_posts\\1163902_author_mentions_main_posts.json.\n",
      "Successfully read in author_mentions\\main_posts\\1166460_author_mentions_main_posts.json.\n",
      "Successfully read in author_mentions\\main_posts\\1171836_author_mentions_main_posts.json.\n",
      "Successfully read in author_mentions\\main_posts\\1174984_author_mentions_main_posts.json.\n",
      "Successfully read in author_mentions\\reply_posts\\1149116_author_mentions_reply_posts.json.\n",
      "Successfully read in author_mentions\\reply_posts\\1150006_author_mentions_reply_posts.json.\n",
      "Successfully read in author_mentions\\reply_posts\\1154406_author_mentions_reply_posts.json.\n",
      "Successfully read in author_mentions\\reply_posts\\1155902_author_mentions_reply_posts.json.\n",
      "Successfully read in author_mentions\\reply_posts\\1158756_author_mentions_reply_posts.json.\n",
      "Successfully read in author_mentions\\reply_posts\\1160142_author_mentions_reply_posts.json.\n",
      "Successfully read in author_mentions\\reply_posts\\1163902_author_mentions_reply_posts.json.\n",
      "Successfully read in author_mentions\\reply_posts\\1166460_author_mentions_reply_posts.json.\n",
      "Successfully read in author_mentions\\reply_posts\\1171836_author_mentions_reply_posts.json.\n",
      "Successfully read in author_mentions\\reply_posts\\1174984_author_mentions_reply_posts.json.\n",
      "Index(['id', 'user_id', 'parent_id', 'created_at', 'updated_at',\n",
      "       'rating_count', 'rating_sum', 'user_name', 'message', 'user',\n",
      "       'read_state', 'forced_read_state', 'discussion_board_id',\n",
      "       'author_mentions', 'editor_id', 'canvas_course_id', 'attachment',\n",
      "       'attachments'],\n",
      "      dtype='object')\n"
     ]
    }
   ],
   "source": [
    "all_cleaned_path = Path(\"author_mentions\")\n",
    "\n",
    "# Initialize an empty list to store the data\n",
    "data = []\n",
    "\n",
    "# Iterate over each file in the folder and its subdirectories\n",
    "for file_path in all_cleaned_path.glob(\"**/*.json\"):\n",
    "    if file_path.is_file():\n",
    "\n",
    "        # Read the JSON file into a DataFrame\n",
    "        df = pd.read_json(file_path)\n",
    "        print(f\"Successfully read in {file_path}.\")\n",
    "        course_id = file_path.stem[:7]\n",
    "        \n",
    "        # Add a column for course_id\n",
    "        df['canvas_course_id'] = course_id\n",
    "\n",
    "        # Append the DataFrame to the data list\n",
    "        data.append(df)\n",
    "\n",
    "# Concatenate all the DataFrames into a single DataFrame\n",
    "all_together = pd.concat(data, ignore_index=True)\n",
    "\n",
    "# Print the final DataFrame\n",
    "print(all_together.columns)"
   ]
  },
  {
   "cell_type": "code",
   "execution_count": 42,
   "metadata": {},
   "outputs": [
    {
     "data": {
      "text/html": [
       "<div>\n",
       "<style scoped>\n",
       "    .dataframe tbody tr th:only-of-type {\n",
       "        vertical-align: middle;\n",
       "    }\n",
       "\n",
       "    .dataframe tbody tr th {\n",
       "        vertical-align: top;\n",
       "    }\n",
       "\n",
       "    .dataframe thead th {\n",
       "        text-align: right;\n",
       "    }\n",
       "</style>\n",
       "<table border=\"1\" class=\"dataframe\">\n",
       "  <thead>\n",
       "    <tr style=\"text-align: right;\">\n",
       "      <th></th>\n",
       "      <th>id</th>\n",
       "      <th>user_id</th>\n",
       "      <th>parent_id</th>\n",
       "      <th>created_at</th>\n",
       "      <th>updated_at</th>\n",
       "      <th>rating_count</th>\n",
       "      <th>rating_sum</th>\n",
       "      <th>user_name</th>\n",
       "      <th>message</th>\n",
       "      <th>user</th>\n",
       "      <th>read_state</th>\n",
       "      <th>forced_read_state</th>\n",
       "      <th>discussion_board_id</th>\n",
       "      <th>author_mentions</th>\n",
       "      <th>editor_id</th>\n",
       "      <th>canvas_course_id</th>\n",
       "      <th>attachment</th>\n",
       "      <th>attachments</th>\n",
       "    </tr>\n",
       "  </thead>\n",
       "  <tbody>\n",
       "    <tr>\n",
       "      <th>0</th>\n",
       "      <td>18813222</td>\n",
       "      <td>3885812</td>\n",
       "      <td>NaN</td>\n",
       "      <td>2019-12-13 05:05:22+00:00</td>\n",
       "      <td>2019-12-13 05:05:22+00:00</td>\n",
       "      <td>NaN</td>\n",
       "      <td>NaN</td>\n",
       "      <td>Emma Brown</td>\n",
       "      <td>&lt;p&gt;When I read foreweird and the introduction ...</td>\n",
       "      <td>{'id': 3885812, 'anonymous_id': '2bab8', 'disp...</td>\n",
       "      <td>read</td>\n",
       "      <td>False</td>\n",
       "      <td>3526380</td>\n",
       "      <td>[3, 4]</td>\n",
       "      <td>NaN</td>\n",
       "      <td>1149116</td>\n",
       "      <td>NaN</td>\n",
       "      <td>NaN</td>\n",
       "    </tr>\n",
       "    <tr>\n",
       "      <th>1</th>\n",
       "      <td>18594230</td>\n",
       "      <td>3878246</td>\n",
       "      <td>NaN</td>\n",
       "      <td>2019-09-06 13:56:16+00:00</td>\n",
       "      <td>2019-09-06 13:56:16+00:00</td>\n",
       "      <td>NaN</td>\n",
       "      <td>NaN</td>\n",
       "      <td>Clayton Cash</td>\n",
       "      <td>&lt;p&gt;&lt;span&gt;I believe a very notable concept was ...</td>\n",
       "      <td>{'id': 3878246, 'anonymous_id': '2b4h2', 'disp...</td>\n",
       "      <td>read</td>\n",
       "      <td>False</td>\n",
       "      <td>3526380</td>\n",
       "      <td>[2, 2]</td>\n",
       "      <td>NaN</td>\n",
       "      <td>1149116</td>\n",
       "      <td>NaN</td>\n",
       "      <td>NaN</td>\n",
       "    </tr>\n",
       "    <tr>\n",
       "      <th>2</th>\n",
       "      <td>18568066</td>\n",
       "      <td>3881196</td>\n",
       "      <td>NaN</td>\n",
       "      <td>2019-08-27 17:28:40+00:00</td>\n",
       "      <td>2019-08-27 17:28:40+00:00</td>\n",
       "      <td>NaN</td>\n",
       "      <td>NaN</td>\n",
       "      <td>Nelesa Oseguera</td>\n",
       "      <td>&lt;p&gt;What interested me the most about week one’...</td>\n",
       "      <td>{'id': 3881196, 'anonymous_id': '2b6r0', 'disp...</td>\n",
       "      <td>read</td>\n",
       "      <td>False</td>\n",
       "      <td>3526380</td>\n",
       "      <td>[1, 5, 5, 5, 5]</td>\n",
       "      <td>NaN</td>\n",
       "      <td>1149116</td>\n",
       "      <td>NaN</td>\n",
       "      <td>NaN</td>\n",
       "    </tr>\n",
       "    <tr>\n",
       "      <th>3</th>\n",
       "      <td>18568048</td>\n",
       "      <td>1612050</td>\n",
       "      <td>NaN</td>\n",
       "      <td>2019-08-27 17:15:17+00:00</td>\n",
       "      <td>2019-08-27 17:15:17+00:00</td>\n",
       "      <td>NaN</td>\n",
       "      <td>NaN</td>\n",
       "      <td>Kevin Spicer</td>\n",
       "      <td>&lt;p&gt;As mentioned in my short &lt;a id=\"media_comme...</td>\n",
       "      <td>{'id': 1612050, 'anonymous_id': 'yjv6', 'displ...</td>\n",
       "      <td>read</td>\n",
       "      <td>False</td>\n",
       "      <td>3526380</td>\n",
       "      <td>[]</td>\n",
       "      <td>NaN</td>\n",
       "      <td>1149116</td>\n",
       "      <td>NaN</td>\n",
       "      <td>NaN</td>\n",
       "    </tr>\n",
       "    <tr>\n",
       "      <th>4</th>\n",
       "      <td>18565190</td>\n",
       "      <td>3880146</td>\n",
       "      <td>NaN</td>\n",
       "      <td>2019-08-26 04:41:39+00:00</td>\n",
       "      <td>2019-08-26 04:41:39+00:00</td>\n",
       "      <td>NaN</td>\n",
       "      <td>NaN</td>\n",
       "      <td>Christian Bitangalo</td>\n",
       "      <td>&lt;p&gt;&lt;span style=\"font-family: Arial;\"&gt;&lt;span sty...</td>\n",
       "      <td>{'id': 3880146, 'anonymous_id': '2b5xu', 'disp...</td>\n",
       "      <td>read</td>\n",
       "      <td>False</td>\n",
       "      <td>3526380</td>\n",
       "      <td>[]</td>\n",
       "      <td>NaN</td>\n",
       "      <td>1149116</td>\n",
       "      <td>NaN</td>\n",
       "      <td>NaN</td>\n",
       "    </tr>\n",
       "  </tbody>\n",
       "</table>\n",
       "</div>"
      ],
      "text/plain": [
       "         id  user_id  parent_id                created_at   \n",
       "0  18813222  3885812        NaN 2019-12-13 05:05:22+00:00  \\\n",
       "1  18594230  3878246        NaN 2019-09-06 13:56:16+00:00   \n",
       "2  18568066  3881196        NaN 2019-08-27 17:28:40+00:00   \n",
       "3  18568048  1612050        NaN 2019-08-27 17:15:17+00:00   \n",
       "4  18565190  3880146        NaN 2019-08-26 04:41:39+00:00   \n",
       "\n",
       "                 updated_at  rating_count  rating_sum            user_name   \n",
       "0 2019-12-13 05:05:22+00:00           NaN         NaN           Emma Brown  \\\n",
       "1 2019-09-06 13:56:16+00:00           NaN         NaN         Clayton Cash   \n",
       "2 2019-08-27 17:28:40+00:00           NaN         NaN      Nelesa Oseguera   \n",
       "3 2019-08-27 17:15:17+00:00           NaN         NaN         Kevin Spicer   \n",
       "4 2019-08-26 04:41:39+00:00           NaN         NaN  Christian Bitangalo   \n",
       "\n",
       "                                             message   \n",
       "0  <p>When I read foreweird and the introduction ...  \\\n",
       "1  <p><span>I believe a very notable concept was ...   \n",
       "2  <p>What interested me the most about week one’...   \n",
       "3  <p>As mentioned in my short <a id=\"media_comme...   \n",
       "4  <p><span style=\"font-family: Arial;\"><span sty...   \n",
       "\n",
       "                                                user read_state   \n",
       "0  {'id': 3885812, 'anonymous_id': '2bab8', 'disp...       read  \\\n",
       "1  {'id': 3878246, 'anonymous_id': '2b4h2', 'disp...       read   \n",
       "2  {'id': 3881196, 'anonymous_id': '2b6r0', 'disp...       read   \n",
       "3  {'id': 1612050, 'anonymous_id': 'yjv6', 'displ...       read   \n",
       "4  {'id': 3880146, 'anonymous_id': '2b5xu', 'disp...       read   \n",
       "\n",
       "  forced_read_state  discussion_board_id  author_mentions  editor_id   \n",
       "0             False              3526380           [3, 4]        NaN  \\\n",
       "1             False              3526380           [2, 2]        NaN   \n",
       "2             False              3526380  [1, 5, 5, 5, 5]        NaN   \n",
       "3             False              3526380               []        NaN   \n",
       "4             False              3526380               []        NaN   \n",
       "\n",
       "  canvas_course_id attachment attachments  \n",
       "0          1149116        NaN         NaN  \n",
       "1          1149116        NaN         NaN  \n",
       "2          1149116        NaN         NaN  \n",
       "3          1149116        NaN         NaN  \n",
       "4          1149116        NaN         NaN  "
      ]
     },
     "execution_count": 42,
     "metadata": {},
     "output_type": "execute_result"
    }
   ],
   "source": [
    "all_together.head()"
   ]
  },
  {
   "cell_type": "code",
   "execution_count": 43,
   "metadata": {},
   "outputs": [],
   "source": [
    "all_together.drop(columns=['updated_at', 'rating_count', 'rating_sum', 'read_state', 'forced_read_state', 'editor_id', 'attachment', 'attachments', 'user'], inplace=True)"
   ]
  },
  {
   "cell_type": "code",
   "execution_count": 44,
   "metadata": {},
   "outputs": [
    {
     "data": {
      "text/html": [
       "<div>\n",
       "<style scoped>\n",
       "    .dataframe tbody tr th:only-of-type {\n",
       "        vertical-align: middle;\n",
       "    }\n",
       "\n",
       "    .dataframe tbody tr th {\n",
       "        vertical-align: top;\n",
       "    }\n",
       "\n",
       "    .dataframe thead th {\n",
       "        text-align: right;\n",
       "    }\n",
       "</style>\n",
       "<table border=\"1\" class=\"dataframe\">\n",
       "  <thead>\n",
       "    <tr style=\"text-align: right;\">\n",
       "      <th></th>\n",
       "      <th>id</th>\n",
       "      <th>user_id</th>\n",
       "      <th>parent_id</th>\n",
       "      <th>created_at</th>\n",
       "      <th>user_name</th>\n",
       "      <th>message</th>\n",
       "      <th>discussion_board_id</th>\n",
       "      <th>author_mentions</th>\n",
       "      <th>canvas_course_id</th>\n",
       "    </tr>\n",
       "  </thead>\n",
       "  <tbody>\n",
       "    <tr>\n",
       "      <th>0</th>\n",
       "      <td>18813222</td>\n",
       "      <td>3885812</td>\n",
       "      <td>NaN</td>\n",
       "      <td>2019-12-13 05:05:22+00:00</td>\n",
       "      <td>Emma Brown</td>\n",
       "      <td>&lt;p&gt;When I read foreweird and the introduction ...</td>\n",
       "      <td>3526380</td>\n",
       "      <td>[3, 4]</td>\n",
       "      <td>1149116</td>\n",
       "    </tr>\n",
       "    <tr>\n",
       "      <th>1</th>\n",
       "      <td>18594230</td>\n",
       "      <td>3878246</td>\n",
       "      <td>NaN</td>\n",
       "      <td>2019-09-06 13:56:16+00:00</td>\n",
       "      <td>Clayton Cash</td>\n",
       "      <td>&lt;p&gt;&lt;span&gt;I believe a very notable concept was ...</td>\n",
       "      <td>3526380</td>\n",
       "      <td>[2, 2]</td>\n",
       "      <td>1149116</td>\n",
       "    </tr>\n",
       "    <tr>\n",
       "      <th>2</th>\n",
       "      <td>18568066</td>\n",
       "      <td>3881196</td>\n",
       "      <td>NaN</td>\n",
       "      <td>2019-08-27 17:28:40+00:00</td>\n",
       "      <td>Nelesa Oseguera</td>\n",
       "      <td>&lt;p&gt;What interested me the most about week one’...</td>\n",
       "      <td>3526380</td>\n",
       "      <td>[1, 5, 5, 5, 5]</td>\n",
       "      <td>1149116</td>\n",
       "    </tr>\n",
       "    <tr>\n",
       "      <th>3</th>\n",
       "      <td>18568048</td>\n",
       "      <td>1612050</td>\n",
       "      <td>NaN</td>\n",
       "      <td>2019-08-27 17:15:17+00:00</td>\n",
       "      <td>Kevin Spicer</td>\n",
       "      <td>&lt;p&gt;As mentioned in my short &lt;a id=\"media_comme...</td>\n",
       "      <td>3526380</td>\n",
       "      <td>[]</td>\n",
       "      <td>1149116</td>\n",
       "    </tr>\n",
       "    <tr>\n",
       "      <th>4</th>\n",
       "      <td>18565190</td>\n",
       "      <td>3880146</td>\n",
       "      <td>NaN</td>\n",
       "      <td>2019-08-26 04:41:39+00:00</td>\n",
       "      <td>Christian Bitangalo</td>\n",
       "      <td>&lt;p&gt;&lt;span style=\"font-family: Arial;\"&gt;&lt;span sty...</td>\n",
       "      <td>3526380</td>\n",
       "      <td>[]</td>\n",
       "      <td>1149116</td>\n",
       "    </tr>\n",
       "  </tbody>\n",
       "</table>\n",
       "</div>"
      ],
      "text/plain": [
       "         id  user_id  parent_id                created_at   \n",
       "0  18813222  3885812        NaN 2019-12-13 05:05:22+00:00  \\\n",
       "1  18594230  3878246        NaN 2019-09-06 13:56:16+00:00   \n",
       "2  18568066  3881196        NaN 2019-08-27 17:28:40+00:00   \n",
       "3  18568048  1612050        NaN 2019-08-27 17:15:17+00:00   \n",
       "4  18565190  3880146        NaN 2019-08-26 04:41:39+00:00   \n",
       "\n",
       "             user_name                                            message   \n",
       "0           Emma Brown  <p>When I read foreweird and the introduction ...  \\\n",
       "1         Clayton Cash  <p><span>I believe a very notable concept was ...   \n",
       "2      Nelesa Oseguera  <p>What interested me the most about week one’...   \n",
       "3         Kevin Spicer  <p>As mentioned in my short <a id=\"media_comme...   \n",
       "4  Christian Bitangalo  <p><span style=\"font-family: Arial;\"><span sty...   \n",
       "\n",
       "   discussion_board_id  author_mentions canvas_course_id  \n",
       "0              3526380           [3, 4]          1149116  \n",
       "1              3526380           [2, 2]          1149116  \n",
       "2              3526380  [1, 5, 5, 5, 5]          1149116  \n",
       "3              3526380               []          1149116  \n",
       "4              3526380               []          1149116  "
      ]
     },
     "execution_count": 44,
     "metadata": {},
     "output_type": "execute_result"
    }
   ],
   "source": [
    "all_together.head()"
   ]
  },
  {
   "cell_type": "code",
   "execution_count": 45,
   "metadata": {},
   "outputs": [
    {
     "data": {
      "text/html": [
       "<div>\n",
       "<style scoped>\n",
       "    .dataframe tbody tr th:only-of-type {\n",
       "        vertical-align: middle;\n",
       "    }\n",
       "\n",
       "    .dataframe tbody tr th {\n",
       "        vertical-align: top;\n",
       "    }\n",
       "\n",
       "    .dataframe thead th {\n",
       "        text-align: right;\n",
       "    }\n",
       "</style>\n",
       "<table border=\"1\" class=\"dataframe\">\n",
       "  <thead>\n",
       "    <tr style=\"text-align: right;\">\n",
       "      <th></th>\n",
       "      <th>id</th>\n",
       "      <th>user_id</th>\n",
       "      <th>parent_id</th>\n",
       "      <th>created_at</th>\n",
       "      <th>user_name</th>\n",
       "      <th>message</th>\n",
       "      <th>discussion_board_id</th>\n",
       "      <th>author_mentions</th>\n",
       "      <th>canvas_course_id</th>\n",
       "      <th>semester_year</th>\n",
       "    </tr>\n",
       "  </thead>\n",
       "  <tbody>\n",
       "    <tr>\n",
       "      <th>0</th>\n",
       "      <td>18813222</td>\n",
       "      <td>3885812</td>\n",
       "      <td>NaN</td>\n",
       "      <td>2019-12-13 05:05:22+00:00</td>\n",
       "      <td>Emma Brown</td>\n",
       "      <td>&lt;p&gt;When I read foreweird and the introduction ...</td>\n",
       "      <td>3526380</td>\n",
       "      <td>[3, 4]</td>\n",
       "      <td>1149116</td>\n",
       "      <td>fall_2019</td>\n",
       "    </tr>\n",
       "    <tr>\n",
       "      <th>1</th>\n",
       "      <td>18594230</td>\n",
       "      <td>3878246</td>\n",
       "      <td>NaN</td>\n",
       "      <td>2019-09-06 13:56:16+00:00</td>\n",
       "      <td>Clayton Cash</td>\n",
       "      <td>&lt;p&gt;&lt;span&gt;I believe a very notable concept was ...</td>\n",
       "      <td>3526380</td>\n",
       "      <td>[2, 2]</td>\n",
       "      <td>1149116</td>\n",
       "      <td>fall_2019</td>\n",
       "    </tr>\n",
       "    <tr>\n",
       "      <th>2</th>\n",
       "      <td>18568066</td>\n",
       "      <td>3881196</td>\n",
       "      <td>NaN</td>\n",
       "      <td>2019-08-27 17:28:40+00:00</td>\n",
       "      <td>Nelesa Oseguera</td>\n",
       "      <td>&lt;p&gt;What interested me the most about week one’...</td>\n",
       "      <td>3526380</td>\n",
       "      <td>[1, 5, 5, 5, 5]</td>\n",
       "      <td>1149116</td>\n",
       "      <td>fall_2019</td>\n",
       "    </tr>\n",
       "    <tr>\n",
       "      <th>3</th>\n",
       "      <td>18568048</td>\n",
       "      <td>1612050</td>\n",
       "      <td>NaN</td>\n",
       "      <td>2019-08-27 17:15:17+00:00</td>\n",
       "      <td>Kevin Spicer</td>\n",
       "      <td>&lt;p&gt;As mentioned in my short &lt;a id=\"media_comme...</td>\n",
       "      <td>3526380</td>\n",
       "      <td>[]</td>\n",
       "      <td>1149116</td>\n",
       "      <td>fall_2019</td>\n",
       "    </tr>\n",
       "    <tr>\n",
       "      <th>4</th>\n",
       "      <td>18565190</td>\n",
       "      <td>3880146</td>\n",
       "      <td>NaN</td>\n",
       "      <td>2019-08-26 04:41:39+00:00</td>\n",
       "      <td>Christian Bitangalo</td>\n",
       "      <td>&lt;p&gt;&lt;span style=\"font-family: Arial;\"&gt;&lt;span sty...</td>\n",
       "      <td>3526380</td>\n",
       "      <td>[]</td>\n",
       "      <td>1149116</td>\n",
       "      <td>fall_2019</td>\n",
       "    </tr>\n",
       "  </tbody>\n",
       "</table>\n",
       "</div>"
      ],
      "text/plain": [
       "         id  user_id  parent_id                created_at   \n",
       "0  18813222  3885812        NaN 2019-12-13 05:05:22+00:00  \\\n",
       "1  18594230  3878246        NaN 2019-09-06 13:56:16+00:00   \n",
       "2  18568066  3881196        NaN 2019-08-27 17:28:40+00:00   \n",
       "3  18568048  1612050        NaN 2019-08-27 17:15:17+00:00   \n",
       "4  18565190  3880146        NaN 2019-08-26 04:41:39+00:00   \n",
       "\n",
       "             user_name                                            message   \n",
       "0           Emma Brown  <p>When I read foreweird and the introduction ...  \\\n",
       "1         Clayton Cash  <p><span>I believe a very notable concept was ...   \n",
       "2      Nelesa Oseguera  <p>What interested me the most about week one’...   \n",
       "3         Kevin Spicer  <p>As mentioned in my short <a id=\"media_comme...   \n",
       "4  Christian Bitangalo  <p><span style=\"font-family: Arial;\"><span sty...   \n",
       "\n",
       "   discussion_board_id  author_mentions  canvas_course_id semester_year  \n",
       "0              3526380           [3, 4]           1149116     fall_2019  \n",
       "1              3526380           [2, 2]           1149116     fall_2019  \n",
       "2              3526380  [1, 5, 5, 5, 5]           1149116     fall_2019  \n",
       "3              3526380               []           1149116     fall_2019  \n",
       "4              3526380               []           1149116     fall_2019  "
      ]
     },
     "execution_count": 45,
     "metadata": {},
     "output_type": "execute_result"
    }
   ],
   "source": [
    "all_together['canvas_course_id'] = all_together['canvas_course_id'].astype(int)\n",
    "all_together['semester_year'] = all_together['canvas_course_id'].map(course_ids_dictionary)\n",
    "all_together.head()"
   ]
  },
  {
   "cell_type": "code",
   "execution_count": 46,
   "metadata": {},
   "outputs": [
    {
     "name": "stdout",
     "output_type": "stream",
     "text": [
      "author_mentions\n",
      "1      35\n",
      "5      21\n",
      "124    16\n",
      "4       9\n",
      "123     3\n",
      "3       2\n",
      "2       1\n",
      "Name: count, dtype: int64\n"
     ]
    },
    {
     "name": "stderr",
     "output_type": "stream",
     "text": [
      "C:\\Users\\KSpicer\\AppData\\Local\\Temp\\ipykernel_23324\\1390208305.py:2: SettingWithCopyWarning:\n",
      "\n",
      "\n",
      "A value is trying to be set on a copy of a slice from a DataFrame.\n",
      "Try using .loc[row_indexer,col_indexer] = value instead\n",
      "\n",
      "See the caveats in the documentation: https://pandas.pydata.org/pandas-docs/stable/user_guide/indexing.html#returning-a-view-versus-a-copy\n",
      "\n"
     ]
    },
    {
     "data": {
      "text/plain": [
       "<AxesSubplot: xlabel='author_mentions'>"
      ]
     },
     "execution_count": 46,
     "metadata": {},
     "output_type": "execute_result"
    },
    {
     "data": {
      "image/png": "[encoded data removed]",
      "text/plain": [
       "<Figure size 640x480 with 1 Axes>"
      ]
     },
     "metadata": {},
     "output_type": "display_data"
    }
   ],
   "source": [
    "just_fall_2020 = all_together[all_together['semester_year'] == 'fall_2020']\n",
    "just_fall_2020['author_mentions'] = just_fall_2020['author_mentions'].apply(set)\n",
    "#print(just_fall_2020.head(15))\n",
    "just_fall_2020_exploded_df = just_fall_2020.explode('author_mentions')\n",
    "\n",
    "specific_author_ids = [1, 2, 3, 4, 5, 123, 124]\n",
    "\n",
    "# Filter the DataFrame based on the specific author_ids\n",
    "just_fall_2020_exploded_df = just_fall_2020_exploded_df[just_fall_2020_exploded_df['author_mentions'].isin(specific_author_ids)]\n",
    "print(just_fall_2020_exploded_df.author_mentions.value_counts())\n",
    "just_fall_2020_exploded_df.author_mentions.value_counts().plot(kind='bar')"
   ]
  },
  {
   "cell_type": "code",
   "execution_count": 47,
   "metadata": {},
   "outputs": [
    {
     "data": {
      "text/html": [
       "<div>\n",
       "<style scoped>\n",
       "    .dataframe tbody tr th:only-of-type {\n",
       "        vertical-align: middle;\n",
       "    }\n",
       "\n",
       "    .dataframe tbody tr th {\n",
       "        vertical-align: top;\n",
       "    }\n",
       "\n",
       "    .dataframe thead th {\n",
       "        text-align: right;\n",
       "    }\n",
       "</style>\n",
       "<table border=\"1\" class=\"dataframe\">\n",
       "  <thead>\n",
       "    <tr style=\"text-align: right;\">\n",
       "      <th></th>\n",
       "      <th>id</th>\n",
       "      <th>user_id</th>\n",
       "      <th>parent_id</th>\n",
       "      <th>created_at</th>\n",
       "      <th>user_name</th>\n",
       "      <th>message</th>\n",
       "      <th>discussion_board_id</th>\n",
       "      <th>author_mentions</th>\n",
       "      <th>canvas_course_id</th>\n",
       "      <th>semester_year</th>\n",
       "    </tr>\n",
       "  </thead>\n",
       "  <tbody>\n",
       "    <tr>\n",
       "      <th>2105</th>\n",
       "      <td>21177456</td>\n",
       "      <td>3908188</td>\n",
       "      <td>NaN</td>\n",
       "      <td>2023-01-12 02:54:36+00:00</td>\n",
       "      <td>Quetzalli Garcia</td>\n",
       "      <td>&lt;p&gt;Hello everyone, my name is Quetzalli Garcia...</td>\n",
       "      <td>3771490</td>\n",
       "      <td>[]</td>\n",
       "      <td>1174984</td>\n",
       "      <td>spring_2023</td>\n",
       "    </tr>\n",
       "    <tr>\n",
       "      <th>2106</th>\n",
       "      <td>21175644</td>\n",
       "      <td>3917034</td>\n",
       "      <td>NaN</td>\n",
       "      <td>2023-01-11 22:15:34+00:00</td>\n",
       "      <td>Julia Lara Fleige</td>\n",
       "      <td>&lt;p&gt;Hey everyone! &amp;nbsp;My name is Julia and I ...</td>\n",
       "      <td>3771490</td>\n",
       "      <td>[]</td>\n",
       "      <td>1174984</td>\n",
       "      <td>spring_2023</td>\n",
       "    </tr>\n",
       "    <tr>\n",
       "      <th>2107</th>\n",
       "      <td>21174476</td>\n",
       "      <td>3915600</td>\n",
       "      <td>NaN</td>\n",
       "      <td>2023-01-11 17:33:29+00:00</td>\n",
       "      <td>Dylan Holtz</td>\n",
       "      <td>&lt;p&gt;Hello, I am Dylan Holtz. I currently do not...</td>\n",
       "      <td>3771490</td>\n",
       "      <td>[]</td>\n",
       "      <td>1174984</td>\n",
       "      <td>spring_2023</td>\n",
       "    </tr>\n",
       "    <tr>\n",
       "      <th>2108</th>\n",
       "      <td>21172270</td>\n",
       "      <td>3907764</td>\n",
       "      <td>NaN</td>\n",
       "      <td>2023-01-11 01:18:31+00:00</td>\n",
       "      <td>Maya Willis Policandriotes</td>\n",
       "      <td>&lt;p&gt;My name is Maya Willis. I am majoring in nu...</td>\n",
       "      <td>3771490</td>\n",
       "      <td>[]</td>\n",
       "      <td>1174984</td>\n",
       "      <td>spring_2023</td>\n",
       "    </tr>\n",
       "    <tr>\n",
       "      <th>2109</th>\n",
       "      <td>21171266</td>\n",
       "      <td>3921600</td>\n",
       "      <td>NaN</td>\n",
       "      <td>2023-01-10 21:49:01+00:00</td>\n",
       "      <td>Rachel Holtz</td>\n",
       "      <td>&lt;p&gt;Good afternoon everyone! My name is Rachel ...</td>\n",
       "      <td>3771490</td>\n",
       "      <td>[]</td>\n",
       "      <td>1174984</td>\n",
       "      <td>spring_2023</td>\n",
       "    </tr>\n",
       "  </tbody>\n",
       "</table>\n",
       "</div>"
      ],
      "text/plain": [
       "            id  user_id  parent_id                created_at   \n",
       "2105  21177456  3908188        NaN 2023-01-12 02:54:36+00:00  \\\n",
       "2106  21175644  3917034        NaN 2023-01-11 22:15:34+00:00   \n",
       "2107  21174476  3915600        NaN 2023-01-11 17:33:29+00:00   \n",
       "2108  21172270  3907764        NaN 2023-01-11 01:18:31+00:00   \n",
       "2109  21171266  3921600        NaN 2023-01-10 21:49:01+00:00   \n",
       "\n",
       "                       user_name   \n",
       "2105            Quetzalli Garcia  \\\n",
       "2106           Julia Lara Fleige   \n",
       "2107                 Dylan Holtz   \n",
       "2108  Maya Willis Policandriotes   \n",
       "2109                Rachel Holtz   \n",
       "\n",
       "                                                message  discussion_board_id   \n",
       "2105  <p>Hello everyone, my name is Quetzalli Garcia...              3771490  \\\n",
       "2106  <p>Hey everyone! &nbsp;My name is Julia and I ...              3771490   \n",
       "2107  <p>Hello, I am Dylan Holtz. I currently do not...              3771490   \n",
       "2108  <p>My name is Maya Willis. I am majoring in nu...              3771490   \n",
       "2109  <p>Good afternoon everyone! My name is Rachel ...              3771490   \n",
       "\n",
       "     author_mentions  canvas_course_id semester_year  \n",
       "2105              []           1174984   spring_2023  \n",
       "2106              []           1174984   spring_2023  \n",
       "2107              []           1174984   spring_2023  \n",
       "2108              []           1174984   spring_2023  \n",
       "2109              []           1174984   spring_2023  "
      ]
     },
     "execution_count": 47,
     "metadata": {},
     "output_type": "execute_result"
    }
   ],
   "source": [
    "just_spring_2023 = all_together[all_together['semester_year'] == 'spring_2023']\n",
    "just_spring_2023.head()"
   ]
  },
  {
   "cell_type": "code",
   "execution_count": 48,
   "metadata": {},
   "outputs": [
    {
     "name": "stderr",
     "output_type": "stream",
     "text": [
      "C:\\Users\\KSpicer\\AppData\\Local\\Temp\\ipykernel_23324\\708031801.py:1: SettingWithCopyWarning:\n",
      "\n",
      "\n",
      "A value is trying to be set on a copy of a slice from a DataFrame.\n",
      "Try using .loc[row_indexer,col_indexer] = value instead\n",
      "\n",
      "See the caveats in the documentation: https://pandas.pydata.org/pandas-docs/stable/user_guide/indexing.html#returning-a-view-versus-a-copy\n",
      "\n"
     ]
    },
    {
     "data": {
      "text/html": [
       "<div>\n",
       "<style scoped>\n",
       "    .dataframe tbody tr th:only-of-type {\n",
       "        vertical-align: middle;\n",
       "    }\n",
       "\n",
       "    .dataframe tbody tr th {\n",
       "        vertical-align: top;\n",
       "    }\n",
       "\n",
       "    .dataframe thead th {\n",
       "        text-align: right;\n",
       "    }\n",
       "</style>\n",
       "<table border=\"1\" class=\"dataframe\">\n",
       "  <thead>\n",
       "    <tr style=\"text-align: right;\">\n",
       "      <th></th>\n",
       "      <th>id</th>\n",
       "      <th>user_id</th>\n",
       "      <th>parent_id</th>\n",
       "      <th>created_at</th>\n",
       "      <th>user_name</th>\n",
       "      <th>message</th>\n",
       "      <th>discussion_board_id</th>\n",
       "      <th>author_mentions</th>\n",
       "      <th>canvas_course_id</th>\n",
       "      <th>semester_year</th>\n",
       "    </tr>\n",
       "  </thead>\n",
       "  <tbody>\n",
       "    <tr>\n",
       "      <th>2105</th>\n",
       "      <td>21177456</td>\n",
       "      <td>3908188</td>\n",
       "      <td>NaN</td>\n",
       "      <td>2023-01-12 02:54:36+00:00</td>\n",
       "      <td>Quetzalli Garcia</td>\n",
       "      <td>&lt;p&gt;Hello everyone, my name is Quetzalli Garcia...</td>\n",
       "      <td>3771490</td>\n",
       "      <td>NaN</td>\n",
       "      <td>1174984</td>\n",
       "      <td>spring_2023</td>\n",
       "    </tr>\n",
       "    <tr>\n",
       "      <th>2106</th>\n",
       "      <td>21175644</td>\n",
       "      <td>3917034</td>\n",
       "      <td>NaN</td>\n",
       "      <td>2023-01-11 22:15:34+00:00</td>\n",
       "      <td>Julia Lara Fleige</td>\n",
       "      <td>&lt;p&gt;Hey everyone! &amp;nbsp;My name is Julia and I ...</td>\n",
       "      <td>3771490</td>\n",
       "      <td>NaN</td>\n",
       "      <td>1174984</td>\n",
       "      <td>spring_2023</td>\n",
       "    </tr>\n",
       "    <tr>\n",
       "      <th>2107</th>\n",
       "      <td>21174476</td>\n",
       "      <td>3915600</td>\n",
       "      <td>NaN</td>\n",
       "      <td>2023-01-11 17:33:29+00:00</td>\n",
       "      <td>Dylan Holtz</td>\n",
       "      <td>&lt;p&gt;Hello, I am Dylan Holtz. I currently do not...</td>\n",
       "      <td>3771490</td>\n",
       "      <td>NaN</td>\n",
       "      <td>1174984</td>\n",
       "      <td>spring_2023</td>\n",
       "    </tr>\n",
       "    <tr>\n",
       "      <th>2108</th>\n",
       "      <td>21172270</td>\n",
       "      <td>3907764</td>\n",
       "      <td>NaN</td>\n",
       "      <td>2023-01-11 01:18:31+00:00</td>\n",
       "      <td>Maya Willis Policandriotes</td>\n",
       "      <td>&lt;p&gt;My name is Maya Willis. I am majoring in nu...</td>\n",
       "      <td>3771490</td>\n",
       "      <td>NaN</td>\n",
       "      <td>1174984</td>\n",
       "      <td>spring_2023</td>\n",
       "    </tr>\n",
       "    <tr>\n",
       "      <th>2109</th>\n",
       "      <td>21171266</td>\n",
       "      <td>3921600</td>\n",
       "      <td>NaN</td>\n",
       "      <td>2023-01-10 21:49:01+00:00</td>\n",
       "      <td>Rachel Holtz</td>\n",
       "      <td>&lt;p&gt;Good afternoon everyone! My name is Rachel ...</td>\n",
       "      <td>3771490</td>\n",
       "      <td>NaN</td>\n",
       "      <td>1174984</td>\n",
       "      <td>spring_2023</td>\n",
       "    </tr>\n",
       "    <tr>\n",
       "      <th>2110</th>\n",
       "      <td>21170618</td>\n",
       "      <td>3916016</td>\n",
       "      <td>NaN</td>\n",
       "      <td>2023-01-10 18:38:21+00:00</td>\n",
       "      <td>Cassi Hemker</td>\n",
       "      <td>&lt;p&gt;Hello Everyone!&lt;/p&gt;\\n&lt;p&gt;My name is Cassi, a...</td>\n",
       "      <td>3771490</td>\n",
       "      <td>NaN</td>\n",
       "      <td>1174984</td>\n",
       "      <td>spring_2023</td>\n",
       "    </tr>\n",
       "    <tr>\n",
       "      <th>2111</th>\n",
       "      <td>21168964</td>\n",
       "      <td>3915586</td>\n",
       "      <td>NaN</td>\n",
       "      <td>2023-01-10 03:22:39+00:00</td>\n",
       "      <td>Ethan Fleming</td>\n",
       "      <td>&lt;p&gt;Hello Class. My name is Ethan Fleming, this...</td>\n",
       "      <td>3771490</td>\n",
       "      <td>NaN</td>\n",
       "      <td>1174984</td>\n",
       "      <td>spring_2023</td>\n",
       "    </tr>\n",
       "    <tr>\n",
       "      <th>2112</th>\n",
       "      <td>21168876</td>\n",
       "      <td>3918222</td>\n",
       "      <td>NaN</td>\n",
       "      <td>2023-01-10 03:05:55+00:00</td>\n",
       "      <td>Paulesha Brownson</td>\n",
       "      <td>&lt;p&gt;Hello, I'm Paulesha Brownson. I am in my fr...</td>\n",
       "      <td>3771490</td>\n",
       "      <td>NaN</td>\n",
       "      <td>1174984</td>\n",
       "      <td>spring_2023</td>\n",
       "    </tr>\n",
       "    <tr>\n",
       "      <th>2113</th>\n",
       "      <td>21168826</td>\n",
       "      <td>3922678</td>\n",
       "      <td>NaN</td>\n",
       "      <td>2023-01-10 02:56:09+00:00</td>\n",
       "      <td>Maria Garay</td>\n",
       "      <td>&lt;p&gt;&lt;span&gt;Hi Class!&lt;/span&gt;&lt;/p&gt;\\n&lt;p&gt;&lt;span&gt;My nam...</td>\n",
       "      <td>3771490</td>\n",
       "      <td>NaN</td>\n",
       "      <td>1174984</td>\n",
       "      <td>spring_2023</td>\n",
       "    </tr>\n",
       "    <tr>\n",
       "      <th>2114</th>\n",
       "      <td>21168048</td>\n",
       "      <td>3918220</td>\n",
       "      <td>NaN</td>\n",
       "      <td>2023-01-10 00:15:15+00:00</td>\n",
       "      <td>Pauline Brownson</td>\n",
       "      <td>Pauline Brownson here; nice to meet you all. I...</td>\n",
       "      <td>3771490</td>\n",
       "      <td>NaN</td>\n",
       "      <td>1174984</td>\n",
       "      <td>spring_2023</td>\n",
       "    </tr>\n",
       "    <tr>\n",
       "      <th>2115</th>\n",
       "      <td>21167616</td>\n",
       "      <td>3907752</td>\n",
       "      <td>NaN</td>\n",
       "      <td>2023-01-09 22:21:58+00:00</td>\n",
       "      <td>Stefani Magana-Guzman</td>\n",
       "      <td>&lt;p&gt;Hi Class!&lt;/p&gt;\\n&lt;p&gt;My name is Stefani and it...</td>\n",
       "      <td>3771490</td>\n",
       "      <td>21</td>\n",
       "      <td>1174984</td>\n",
       "      <td>spring_2023</td>\n",
       "    </tr>\n",
       "    <tr>\n",
       "      <th>2116</th>\n",
       "      <td>21167228</td>\n",
       "      <td>3923036</td>\n",
       "      <td>NaN</td>\n",
       "      <td>2023-01-09 20:28:56+00:00</td>\n",
       "      <td>Timothy Milazzo</td>\n",
       "      <td>&lt;p&gt;Hello everyone, I'm Timothy Milazzo but you...</td>\n",
       "      <td>3771490</td>\n",
       "      <td>NaN</td>\n",
       "      <td>1174984</td>\n",
       "      <td>spring_2023</td>\n",
       "    </tr>\n",
       "    <tr>\n",
       "      <th>2117</th>\n",
       "      <td>21176334</td>\n",
       "      <td>3913286</td>\n",
       "      <td>NaN</td>\n",
       "      <td>2023-01-12 00:37:20+00:00</td>\n",
       "      <td>Jasmin Raheem</td>\n",
       "      <td>Hi Everyone,&amp;nbsp;&lt;div&gt;My name is Jasmin. I am...</td>\n",
       "      <td>3771488</td>\n",
       "      <td>NaN</td>\n",
       "      <td>1174984</td>\n",
       "      <td>spring_2023</td>\n",
       "    </tr>\n",
       "    <tr>\n",
       "      <th>2118</th>\n",
       "      <td>21170322</td>\n",
       "      <td>3907240</td>\n",
       "      <td>NaN</td>\n",
       "      <td>2023-01-10 17:39:11+00:00</td>\n",
       "      <td>Kamiya Mingo</td>\n",
       "      <td>&amp;nbsp; &amp;nbsp; &amp;nbsp; Hey everyone my names Kam...</td>\n",
       "      <td>3771488</td>\n",
       "      <td>NaN</td>\n",
       "      <td>1174984</td>\n",
       "      <td>spring_2023</td>\n",
       "    </tr>\n",
       "    <tr>\n",
       "      <th>2119</th>\n",
       "      <td>21170138</td>\n",
       "      <td>3902458</td>\n",
       "      <td>NaN</td>\n",
       "      <td>2023-01-10 16:56:32+00:00</td>\n",
       "      <td>Abdul-Aziz Muhammad</td>\n",
       "      <td>&lt;p&gt;&lt;span&gt;Hello everyone my name is Abdul-Aziz ...</td>\n",
       "      <td>3771488</td>\n",
       "      <td>NaN</td>\n",
       "      <td>1174984</td>\n",
       "      <td>spring_2023</td>\n",
       "    </tr>\n",
       "    <tr>\n",
       "      <th>2120</th>\n",
       "      <td>21170110</td>\n",
       "      <td>3916174</td>\n",
       "      <td>NaN</td>\n",
       "      <td>2023-01-10 16:42:25+00:00</td>\n",
       "      <td>Madison Franciskovich</td>\n",
       "      <td>&lt;p&gt;Hello Everyone!&lt;/p&gt;\\n&lt;p&gt;My name is Madison,...</td>\n",
       "      <td>3771488</td>\n",
       "      <td>NaN</td>\n",
       "      <td>1174984</td>\n",
       "      <td>spring_2023</td>\n",
       "    </tr>\n",
       "    <tr>\n",
       "      <th>2121</th>\n",
       "      <td>21192312</td>\n",
       "      <td>3908188</td>\n",
       "      <td>NaN</td>\n",
       "      <td>2023-01-16 05:54:32+00:00</td>\n",
       "      <td>Quetzalli Garcia</td>\n",
       "      <td>&lt;p&gt;&lt;span&gt;My first option that I chose to respo...</td>\n",
       "      <td>3771486</td>\n",
       "      <td>1</td>\n",
       "      <td>1174984</td>\n",
       "      <td>spring_2023</td>\n",
       "    </tr>\n",
       "    <tr>\n",
       "      <th>2121</th>\n",
       "      <td>21192312</td>\n",
       "      <td>3908188</td>\n",
       "      <td>NaN</td>\n",
       "      <td>2023-01-16 05:54:32+00:00</td>\n",
       "      <td>Quetzalli Garcia</td>\n",
       "      <td>&lt;p&gt;&lt;span&gt;My first option that I chose to respo...</td>\n",
       "      <td>3771486</td>\n",
       "      <td>5</td>\n",
       "      <td>1174984</td>\n",
       "      <td>spring_2023</td>\n",
       "    </tr>\n",
       "    <tr>\n",
       "      <th>2122</th>\n",
       "      <td>21191844</td>\n",
       "      <td>3915600</td>\n",
       "      <td>NaN</td>\n",
       "      <td>2023-01-16 04:23:04+00:00</td>\n",
       "      <td>Dylan Holtz</td>\n",
       "      <td>&lt;p&gt;After reading a short bit of H.P. Lovecraft...</td>\n",
       "      <td>3771486</td>\n",
       "      <td>1</td>\n",
       "      <td>1174984</td>\n",
       "      <td>spring_2023</td>\n",
       "    </tr>\n",
       "    <tr>\n",
       "      <th>2122</th>\n",
       "      <td>21191844</td>\n",
       "      <td>3915600</td>\n",
       "      <td>NaN</td>\n",
       "      <td>2023-01-16 04:23:04+00:00</td>\n",
       "      <td>Dylan Holtz</td>\n",
       "      <td>&lt;p&gt;After reading a short bit of H.P. Lovecraft...</td>\n",
       "      <td>3771486</td>\n",
       "      <td>124</td>\n",
       "      <td>1174984</td>\n",
       "      <td>spring_2023</td>\n",
       "    </tr>\n",
       "    <tr>\n",
       "      <th>2123</th>\n",
       "      <td>21191804</td>\n",
       "      <td>3915586</td>\n",
       "      <td>NaN</td>\n",
       "      <td>2023-01-16 04:13:57+00:00</td>\n",
       "      <td>Ethan Fleming</td>\n",
       "      <td>&lt;p&gt;&lt;span&gt;I chose to read the “Introduction” in...</td>\n",
       "      <td>3771486</td>\n",
       "      <td>124</td>\n",
       "      <td>1174984</td>\n",
       "      <td>spring_2023</td>\n",
       "    </tr>\n",
       "    <tr>\n",
       "      <th>2123</th>\n",
       "      <td>21191804</td>\n",
       "      <td>3915586</td>\n",
       "      <td>NaN</td>\n",
       "      <td>2023-01-16 04:13:57+00:00</td>\n",
       "      <td>Ethan Fleming</td>\n",
       "      <td>&lt;p&gt;&lt;span&gt;I chose to read the “Introduction” in...</td>\n",
       "      <td>3771486</td>\n",
       "      <td>1</td>\n",
       "      <td>1174984</td>\n",
       "      <td>spring_2023</td>\n",
       "    </tr>\n",
       "    <tr>\n",
       "      <th>2123</th>\n",
       "      <td>21191804</td>\n",
       "      <td>3915586</td>\n",
       "      <td>NaN</td>\n",
       "      <td>2023-01-16 04:13:57+00:00</td>\n",
       "      <td>Ethan Fleming</td>\n",
       "      <td>&lt;p&gt;&lt;span&gt;I chose to read the “Introduction” in...</td>\n",
       "      <td>3771486</td>\n",
       "      <td>4</td>\n",
       "      <td>1174984</td>\n",
       "      <td>spring_2023</td>\n",
       "    </tr>\n",
       "    <tr>\n",
       "      <th>2124</th>\n",
       "      <td>21190522</td>\n",
       "      <td>3922678</td>\n",
       "      <td>NaN</td>\n",
       "      <td>2023-01-16 00:23:04+00:00</td>\n",
       "      <td>Maria Garay</td>\n",
       "      <td>&lt;p&gt;Hello,&amp;nbsp;&lt;/p&gt;\\n&lt;ol start=\"1\" type=\"1\"&gt;\\n...</td>\n",
       "      <td>3771486</td>\n",
       "      <td>1</td>\n",
       "      <td>1174984</td>\n",
       "      <td>spring_2023</td>\n",
       "    </tr>\n",
       "    <tr>\n",
       "      <th>2125</th>\n",
       "      <td>21190130</td>\n",
       "      <td>3918222</td>\n",
       "      <td>NaN</td>\n",
       "      <td>2023-01-15 23:07:34+00:00</td>\n",
       "      <td>Paulesha Brownson</td>\n",
       "      <td>&lt;p&gt;Hello everyone!&lt;/p&gt;\\n&lt;p&gt;&lt;span data-contrast...</td>\n",
       "      <td>3771486</td>\n",
       "      <td>1</td>\n",
       "      <td>1174984</td>\n",
       "      <td>spring_2023</td>\n",
       "    </tr>\n",
       "  </tbody>\n",
       "</table>\n",
       "</div>"
      ],
      "text/plain": [
       "            id  user_id  parent_id                created_at   \n",
       "2105  21177456  3908188        NaN 2023-01-12 02:54:36+00:00  \\\n",
       "2106  21175644  3917034        NaN 2023-01-11 22:15:34+00:00   \n",
       "2107  21174476  3915600        NaN 2023-01-11 17:33:29+00:00   \n",
       "2108  21172270  3907764        NaN 2023-01-11 01:18:31+00:00   \n",
       "2109  21171266  3921600        NaN 2023-01-10 21:49:01+00:00   \n",
       "2110  21170618  3916016        NaN 2023-01-10 18:38:21+00:00   \n",
       "2111  21168964  3915586        NaN 2023-01-10 03:22:39+00:00   \n",
       "2112  21168876  3918222        NaN 2023-01-10 03:05:55+00:00   \n",
       "2113  21168826  3922678        NaN 2023-01-10 02:56:09+00:00   \n",
       "2114  21168048  3918220        NaN 2023-01-10 00:15:15+00:00   \n",
       "2115  21167616  3907752        NaN 2023-01-09 22:21:58+00:00   \n",
       "2116  21167228  3923036        NaN 2023-01-09 20:28:56+00:00   \n",
       "2117  21176334  3913286        NaN 2023-01-12 00:37:20+00:00   \n",
       "2118  21170322  3907240        NaN 2023-01-10 17:39:11+00:00   \n",
       "2119  21170138  3902458        NaN 2023-01-10 16:56:32+00:00   \n",
       "2120  21170110  3916174        NaN 2023-01-10 16:42:25+00:00   \n",
       "2121  21192312  3908188        NaN 2023-01-16 05:54:32+00:00   \n",
       "2121  21192312  3908188        NaN 2023-01-16 05:54:32+00:00   \n",
       "2122  21191844  3915600        NaN 2023-01-16 04:23:04+00:00   \n",
       "2122  21191844  3915600        NaN 2023-01-16 04:23:04+00:00   \n",
       "2123  21191804  3915586        NaN 2023-01-16 04:13:57+00:00   \n",
       "2123  21191804  3915586        NaN 2023-01-16 04:13:57+00:00   \n",
       "2123  21191804  3915586        NaN 2023-01-16 04:13:57+00:00   \n",
       "2124  21190522  3922678        NaN 2023-01-16 00:23:04+00:00   \n",
       "2125  21190130  3918222        NaN 2023-01-15 23:07:34+00:00   \n",
       "\n",
       "                       user_name   \n",
       "2105            Quetzalli Garcia  \\\n",
       "2106           Julia Lara Fleige   \n",
       "2107                 Dylan Holtz   \n",
       "2108  Maya Willis Policandriotes   \n",
       "2109                Rachel Holtz   \n",
       "2110                Cassi Hemker   \n",
       "2111               Ethan Fleming   \n",
       "2112           Paulesha Brownson   \n",
       "2113                 Maria Garay   \n",
       "2114            Pauline Brownson   \n",
       "2115       Stefani Magana-Guzman   \n",
       "2116             Timothy Milazzo   \n",
       "2117               Jasmin Raheem   \n",
       "2118                Kamiya Mingo   \n",
       "2119         Abdul-Aziz Muhammad   \n",
       "2120       Madison Franciskovich   \n",
       "2121            Quetzalli Garcia   \n",
       "2121            Quetzalli Garcia   \n",
       "2122                 Dylan Holtz   \n",
       "2122                 Dylan Holtz   \n",
       "2123               Ethan Fleming   \n",
       "2123               Ethan Fleming   \n",
       "2123               Ethan Fleming   \n",
       "2124                 Maria Garay   \n",
       "2125           Paulesha Brownson   \n",
       "\n",
       "                                                message  discussion_board_id   \n",
       "2105  <p>Hello everyone, my name is Quetzalli Garcia...              3771490  \\\n",
       "2106  <p>Hey everyone! &nbsp;My name is Julia and I ...              3771490   \n",
       "2107  <p>Hello, I am Dylan Holtz. I currently do not...              3771490   \n",
       "2108  <p>My name is Maya Willis. I am majoring in nu...              3771490   \n",
       "2109  <p>Good afternoon everyone! My name is Rachel ...              3771490   \n",
       "2110  <p>Hello Everyone!</p>\\n<p>My name is Cassi, a...              3771490   \n",
       "2111  <p>Hello Class. My name is Ethan Fleming, this...              3771490   \n",
       "2112  <p>Hello, I'm Paulesha Brownson. I am in my fr...              3771490   \n",
       "2113  <p><span>Hi Class!</span></p>\\n<p><span>My nam...              3771490   \n",
       "2114  Pauline Brownson here; nice to meet you all. I...              3771490   \n",
       "2115  <p>Hi Class!</p>\\n<p>My name is Stefani and it...              3771490   \n",
       "2116  <p>Hello everyone, I'm Timothy Milazzo but you...              3771490   \n",
       "2117  Hi Everyone,&nbsp;<div>My name is Jasmin. I am...              3771488   \n",
       "2118  &nbsp; &nbsp; &nbsp; Hey everyone my names Kam...              3771488   \n",
       "2119  <p><span>Hello everyone my name is Abdul-Aziz ...              3771488   \n",
       "2120  <p>Hello Everyone!</p>\\n<p>My name is Madison,...              3771488   \n",
       "2121  <p><span>My first option that I chose to respo...              3771486   \n",
       "2121  <p><span>My first option that I chose to respo...              3771486   \n",
       "2122  <p>After reading a short bit of H.P. Lovecraft...              3771486   \n",
       "2122  <p>After reading a short bit of H.P. Lovecraft...              3771486   \n",
       "2123  <p><span>I chose to read the “Introduction” in...              3771486   \n",
       "2123  <p><span>I chose to read the “Introduction” in...              3771486   \n",
       "2123  <p><span>I chose to read the “Introduction” in...              3771486   \n",
       "2124  <p>Hello,&nbsp;</p>\\n<ol start=\"1\" type=\"1\">\\n...              3771486   \n",
       "2125  <p>Hello everyone!</p>\\n<p><span data-contrast...              3771486   \n",
       "\n",
       "     author_mentions  canvas_course_id semester_year  \n",
       "2105             NaN           1174984   spring_2023  \n",
       "2106             NaN           1174984   spring_2023  \n",
       "2107             NaN           1174984   spring_2023  \n",
       "2108             NaN           1174984   spring_2023  \n",
       "2109             NaN           1174984   spring_2023  \n",
       "2110             NaN           1174984   spring_2023  \n",
       "2111             NaN           1174984   spring_2023  \n",
       "2112             NaN           1174984   spring_2023  \n",
       "2113             NaN           1174984   spring_2023  \n",
       "2114             NaN           1174984   spring_2023  \n",
       "2115              21           1174984   spring_2023  \n",
       "2116             NaN           1174984   spring_2023  \n",
       "2117             NaN           1174984   spring_2023  \n",
       "2118             NaN           1174984   spring_2023  \n",
       "2119             NaN           1174984   spring_2023  \n",
       "2120             NaN           1174984   spring_2023  \n",
       "2121               1           1174984   spring_2023  \n",
       "2121               5           1174984   spring_2023  \n",
       "2122               1           1174984   spring_2023  \n",
       "2122             124           1174984   spring_2023  \n",
       "2123             124           1174984   spring_2023  \n",
       "2123               1           1174984   spring_2023  \n",
       "2123               4           1174984   spring_2023  \n",
       "2124               1           1174984   spring_2023  \n",
       "2125               1           1174984   spring_2023  "
      ]
     },
     "execution_count": 48,
     "metadata": {},
     "output_type": "execute_result"
    }
   ],
   "source": [
    "just_spring_2023['author_mentions'] = just_spring_2023['author_mentions'].apply(set)\n",
    "just_spring_2023_exploded_df = just_spring_2023.explode('author_mentions')\n",
    "just_spring_2023_exploded_df.head(25)"
   ]
  },
  {
   "cell_type": "code",
   "execution_count": 49,
   "metadata": {},
   "outputs": [
    {
     "data": {
      "text/html": [
       "<div>\n",
       "<style scoped>\n",
       "    .dataframe tbody tr th:only-of-type {\n",
       "        vertical-align: middle;\n",
       "    }\n",
       "\n",
       "    .dataframe tbody tr th {\n",
       "        vertical-align: top;\n",
       "    }\n",
       "\n",
       "    .dataframe thead th {\n",
       "        text-align: right;\n",
       "    }\n",
       "</style>\n",
       "<table border=\"1\" class=\"dataframe\">\n",
       "  <thead>\n",
       "    <tr style=\"text-align: right;\">\n",
       "      <th></th>\n",
       "      <th>id</th>\n",
       "      <th>user_id</th>\n",
       "      <th>parent_id</th>\n",
       "      <th>created_at</th>\n",
       "      <th>user_name</th>\n",
       "      <th>message</th>\n",
       "      <th>discussion_board_id</th>\n",
       "      <th>author_mentions</th>\n",
       "      <th>canvas_course_id</th>\n",
       "      <th>semester_year</th>\n",
       "    </tr>\n",
       "  </thead>\n",
       "  <tbody>\n",
       "    <tr>\n",
       "      <th>2121</th>\n",
       "      <td>21192312</td>\n",
       "      <td>3908188</td>\n",
       "      <td>NaN</td>\n",
       "      <td>2023-01-16 05:54:32+00:00</td>\n",
       "      <td>Quetzalli Garcia</td>\n",
       "      <td>&lt;p&gt;&lt;span&gt;My first option that I chose to respo...</td>\n",
       "      <td>3771486</td>\n",
       "      <td>1</td>\n",
       "      <td>1174984</td>\n",
       "      <td>spring_2023</td>\n",
       "    </tr>\n",
       "    <tr>\n",
       "      <th>2121</th>\n",
       "      <td>21192312</td>\n",
       "      <td>3908188</td>\n",
       "      <td>NaN</td>\n",
       "      <td>2023-01-16 05:54:32+00:00</td>\n",
       "      <td>Quetzalli Garcia</td>\n",
       "      <td>&lt;p&gt;&lt;span&gt;My first option that I chose to respo...</td>\n",
       "      <td>3771486</td>\n",
       "      <td>5</td>\n",
       "      <td>1174984</td>\n",
       "      <td>spring_2023</td>\n",
       "    </tr>\n",
       "    <tr>\n",
       "      <th>2122</th>\n",
       "      <td>21191844</td>\n",
       "      <td>3915600</td>\n",
       "      <td>NaN</td>\n",
       "      <td>2023-01-16 04:23:04+00:00</td>\n",
       "      <td>Dylan Holtz</td>\n",
       "      <td>&lt;p&gt;After reading a short bit of H.P. Lovecraft...</td>\n",
       "      <td>3771486</td>\n",
       "      <td>1</td>\n",
       "      <td>1174984</td>\n",
       "      <td>spring_2023</td>\n",
       "    </tr>\n",
       "    <tr>\n",
       "      <th>2122</th>\n",
       "      <td>21191844</td>\n",
       "      <td>3915600</td>\n",
       "      <td>NaN</td>\n",
       "      <td>2023-01-16 04:23:04+00:00</td>\n",
       "      <td>Dylan Holtz</td>\n",
       "      <td>&lt;p&gt;After reading a short bit of H.P. Lovecraft...</td>\n",
       "      <td>3771486</td>\n",
       "      <td>124</td>\n",
       "      <td>1174984</td>\n",
       "      <td>spring_2023</td>\n",
       "    </tr>\n",
       "    <tr>\n",
       "      <th>2123</th>\n",
       "      <td>21191804</td>\n",
       "      <td>3915586</td>\n",
       "      <td>NaN</td>\n",
       "      <td>2023-01-16 04:13:57+00:00</td>\n",
       "      <td>Ethan Fleming</td>\n",
       "      <td>&lt;p&gt;&lt;span&gt;I chose to read the “Introduction” in...</td>\n",
       "      <td>3771486</td>\n",
       "      <td>124</td>\n",
       "      <td>1174984</td>\n",
       "      <td>spring_2023</td>\n",
       "    </tr>\n",
       "  </tbody>\n",
       "</table>\n",
       "</div>"
      ],
      "text/plain": [
       "            id  user_id  parent_id                created_at   \n",
       "2121  21192312  3908188        NaN 2023-01-16 05:54:32+00:00  \\\n",
       "2121  21192312  3908188        NaN 2023-01-16 05:54:32+00:00   \n",
       "2122  21191844  3915600        NaN 2023-01-16 04:23:04+00:00   \n",
       "2122  21191844  3915600        NaN 2023-01-16 04:23:04+00:00   \n",
       "2123  21191804  3915586        NaN 2023-01-16 04:13:57+00:00   \n",
       "\n",
       "             user_name                                            message   \n",
       "2121  Quetzalli Garcia  <p><span>My first option that I chose to respo...  \\\n",
       "2121  Quetzalli Garcia  <p><span>My first option that I chose to respo...   \n",
       "2122       Dylan Holtz  <p>After reading a short bit of H.P. Lovecraft...   \n",
       "2122       Dylan Holtz  <p>After reading a short bit of H.P. Lovecraft...   \n",
       "2123     Ethan Fleming  <p><span>I chose to read the “Introduction” in...   \n",
       "\n",
       "      discussion_board_id author_mentions  canvas_course_id semester_year  \n",
       "2121              3771486               1           1174984   spring_2023  \n",
       "2121              3771486               5           1174984   spring_2023  \n",
       "2122              3771486               1           1174984   spring_2023  \n",
       "2122              3771486             124           1174984   spring_2023  \n",
       "2123              3771486             124           1174984   spring_2023  "
      ]
     },
     "execution_count": 49,
     "metadata": {},
     "output_type": "execute_result"
    }
   ],
   "source": [
    "specific_author_ids = [1, 2, 3, 4, 5, 123, 124]\n",
    "\n",
    "# Filter the DataFrame based on the specific author_ids\n",
    "just_spring_2023_first_week = just_spring_2023_exploded_df[just_spring_2023_exploded_df['author_mentions'].isin(specific_author_ids)]\n",
    "\n",
    "# Print the filtered DataFrame\n",
    "just_spring_2023_first_week.head()"
   ]
  },
  {
   "cell_type": "code",
   "execution_count": 50,
   "metadata": {},
   "outputs": [
    {
     "name": "stdout",
     "output_type": "stream",
     "text": [
      "author_mentions\n",
      "1      32\n",
      "5      20\n",
      "124    13\n",
      "4       7\n",
      "3       2\n",
      "123     1\n",
      "Name: count, dtype: int64\n"
     ]
    },
    {
     "data": {
      "text/plain": [
       "<AxesSubplot: xlabel='author_mentions'>"
      ]
     },
     "execution_count": 50,
     "metadata": {},
     "output_type": "execute_result"
    },
    {
     "data": {
      "image/png": "[encoded data removed]",
      "text/plain": [
       "<Figure size 640x480 with 1 Axes>"
      ]
     },
     "metadata": {},
     "output_type": "display_data"
    }
   ],
   "source": [
    "print(just_spring_2023_first_week.author_mentions.value_counts())\n",
    "just_spring_2023_first_week.author_mentions.value_counts().plot(kind='bar')"
   ]
  },
  {
   "cell_type": "code",
   "execution_count": 51,
   "metadata": {},
   "outputs": [
    {
     "data": {
      "text/html": [
       "<div>\n",
       "<style scoped>\n",
       "    .dataframe tbody tr th:only-of-type {\n",
       "        vertical-align: middle;\n",
       "    }\n",
       "\n",
       "    .dataframe tbody tr th {\n",
       "        vertical-align: top;\n",
       "    }\n",
       "\n",
       "    .dataframe thead th {\n",
       "        text-align: right;\n",
       "    }\n",
       "</style>\n",
       "<table border=\"1\" class=\"dataframe\">\n",
       "  <thead>\n",
       "    <tr style=\"text-align: right;\">\n",
       "      <th></th>\n",
       "      <th>id</th>\n",
       "      <th>user_id</th>\n",
       "      <th>parent_id</th>\n",
       "      <th>created_at</th>\n",
       "      <th>user_name</th>\n",
       "      <th>message</th>\n",
       "      <th>discussion_board_id</th>\n",
       "      <th>author_mentions</th>\n",
       "      <th>canvas_course_id</th>\n",
       "      <th>semester_year</th>\n",
       "    </tr>\n",
       "  </thead>\n",
       "  <tbody>\n",
       "    <tr>\n",
       "      <th>0</th>\n",
       "      <td>18813222</td>\n",
       "      <td>3885812</td>\n",
       "      <td>NaN</td>\n",
       "      <td>2019-12-13 05:05:22+00:00</td>\n",
       "      <td>Emma Brown</td>\n",
       "      <td>&lt;p&gt;When I read foreweird and the introduction ...</td>\n",
       "      <td>3526380</td>\n",
       "      <td>3</td>\n",
       "      <td>1149116</td>\n",
       "      <td>fall_2019</td>\n",
       "    </tr>\n",
       "    <tr>\n",
       "      <th>0</th>\n",
       "      <td>18813222</td>\n",
       "      <td>3885812</td>\n",
       "      <td>NaN</td>\n",
       "      <td>2019-12-13 05:05:22+00:00</td>\n",
       "      <td>Emma Brown</td>\n",
       "      <td>&lt;p&gt;When I read foreweird and the introduction ...</td>\n",
       "      <td>3526380</td>\n",
       "      <td>4</td>\n",
       "      <td>1149116</td>\n",
       "      <td>fall_2019</td>\n",
       "    </tr>\n",
       "    <tr>\n",
       "      <th>1</th>\n",
       "      <td>18594230</td>\n",
       "      <td>3878246</td>\n",
       "      <td>NaN</td>\n",
       "      <td>2019-09-06 13:56:16+00:00</td>\n",
       "      <td>Clayton Cash</td>\n",
       "      <td>&lt;p&gt;&lt;span&gt;I believe a very notable concept was ...</td>\n",
       "      <td>3526380</td>\n",
       "      <td>2</td>\n",
       "      <td>1149116</td>\n",
       "      <td>fall_2019</td>\n",
       "    </tr>\n",
       "    <tr>\n",
       "      <th>1</th>\n",
       "      <td>18594230</td>\n",
       "      <td>3878246</td>\n",
       "      <td>NaN</td>\n",
       "      <td>2019-09-06 13:56:16+00:00</td>\n",
       "      <td>Clayton Cash</td>\n",
       "      <td>&lt;p&gt;&lt;span&gt;I believe a very notable concept was ...</td>\n",
       "      <td>3526380</td>\n",
       "      <td>2</td>\n",
       "      <td>1149116</td>\n",
       "      <td>fall_2019</td>\n",
       "    </tr>\n",
       "    <tr>\n",
       "      <th>2</th>\n",
       "      <td>18568066</td>\n",
       "      <td>3881196</td>\n",
       "      <td>NaN</td>\n",
       "      <td>2019-08-27 17:28:40+00:00</td>\n",
       "      <td>Nelesa Oseguera</td>\n",
       "      <td>&lt;p&gt;What interested me the most about week one’...</td>\n",
       "      <td>3526380</td>\n",
       "      <td>1</td>\n",
       "      <td>1149116</td>\n",
       "      <td>fall_2019</td>\n",
       "    </tr>\n",
       "    <tr>\n",
       "      <th>2</th>\n",
       "      <td>18568066</td>\n",
       "      <td>3881196</td>\n",
       "      <td>NaN</td>\n",
       "      <td>2019-08-27 17:28:40+00:00</td>\n",
       "      <td>Nelesa Oseguera</td>\n",
       "      <td>&lt;p&gt;What interested me the most about week one’...</td>\n",
       "      <td>3526380</td>\n",
       "      <td>5</td>\n",
       "      <td>1149116</td>\n",
       "      <td>fall_2019</td>\n",
       "    </tr>\n",
       "    <tr>\n",
       "      <th>2</th>\n",
       "      <td>18568066</td>\n",
       "      <td>3881196</td>\n",
       "      <td>NaN</td>\n",
       "      <td>2019-08-27 17:28:40+00:00</td>\n",
       "      <td>Nelesa Oseguera</td>\n",
       "      <td>&lt;p&gt;What interested me the most about week one’...</td>\n",
       "      <td>3526380</td>\n",
       "      <td>5</td>\n",
       "      <td>1149116</td>\n",
       "      <td>fall_2019</td>\n",
       "    </tr>\n",
       "    <tr>\n",
       "      <th>2</th>\n",
       "      <td>18568066</td>\n",
       "      <td>3881196</td>\n",
       "      <td>NaN</td>\n",
       "      <td>2019-08-27 17:28:40+00:00</td>\n",
       "      <td>Nelesa Oseguera</td>\n",
       "      <td>&lt;p&gt;What interested me the most about week one’...</td>\n",
       "      <td>3526380</td>\n",
       "      <td>5</td>\n",
       "      <td>1149116</td>\n",
       "      <td>fall_2019</td>\n",
       "    </tr>\n",
       "    <tr>\n",
       "      <th>2</th>\n",
       "      <td>18568066</td>\n",
       "      <td>3881196</td>\n",
       "      <td>NaN</td>\n",
       "      <td>2019-08-27 17:28:40+00:00</td>\n",
       "      <td>Nelesa Oseguera</td>\n",
       "      <td>&lt;p&gt;What interested me the most about week one’...</td>\n",
       "      <td>3526380</td>\n",
       "      <td>5</td>\n",
       "      <td>1149116</td>\n",
       "      <td>fall_2019</td>\n",
       "    </tr>\n",
       "    <tr>\n",
       "      <th>5</th>\n",
       "      <td>18565148</td>\n",
       "      <td>3885800</td>\n",
       "      <td>NaN</td>\n",
       "      <td>2019-08-26 04:28:56+00:00</td>\n",
       "      <td>Jazmyn Warner</td>\n",
       "      <td>&lt;p&gt;\"You can't always get what you want, but yo...</td>\n",
       "      <td>3526380</td>\n",
       "      <td>2</td>\n",
       "      <td>1149116</td>\n",
       "      <td>fall_2019</td>\n",
       "    </tr>\n",
       "    <tr>\n",
       "      <th>5</th>\n",
       "      <td>18565148</td>\n",
       "      <td>3885800</td>\n",
       "      <td>NaN</td>\n",
       "      <td>2019-08-26 04:28:56+00:00</td>\n",
       "      <td>Jazmyn Warner</td>\n",
       "      <td>&lt;p&gt;\"You can't always get what you want, but yo...</td>\n",
       "      <td>3526380</td>\n",
       "      <td>2</td>\n",
       "      <td>1149116</td>\n",
       "      <td>fall_2019</td>\n",
       "    </tr>\n",
       "    <tr>\n",
       "      <th>5</th>\n",
       "      <td>18565148</td>\n",
       "      <td>3885800</td>\n",
       "      <td>NaN</td>\n",
       "      <td>2019-08-26 04:28:56+00:00</td>\n",
       "      <td>Jazmyn Warner</td>\n",
       "      <td>&lt;p&gt;\"You can't always get what you want, but yo...</td>\n",
       "      <td>3526380</td>\n",
       "      <td>2</td>\n",
       "      <td>1149116</td>\n",
       "      <td>fall_2019</td>\n",
       "    </tr>\n",
       "    <tr>\n",
       "      <th>5</th>\n",
       "      <td>18565148</td>\n",
       "      <td>3885800</td>\n",
       "      <td>NaN</td>\n",
       "      <td>2019-08-26 04:28:56+00:00</td>\n",
       "      <td>Jazmyn Warner</td>\n",
       "      <td>&lt;p&gt;\"You can't always get what you want, but yo...</td>\n",
       "      <td>3526380</td>\n",
       "      <td>2</td>\n",
       "      <td>1149116</td>\n",
       "      <td>fall_2019</td>\n",
       "    </tr>\n",
       "    <tr>\n",
       "      <th>6</th>\n",
       "      <td>18565142</td>\n",
       "      <td>3878152</td>\n",
       "      <td>NaN</td>\n",
       "      <td>2019-08-26 04:25:54+00:00</td>\n",
       "      <td>Martina Kotrba</td>\n",
       "      <td>&lt;p&gt;Out of all the text, the \"Supernatural Horr...</td>\n",
       "      <td>3526380</td>\n",
       "      <td>1</td>\n",
       "      <td>1149116</td>\n",
       "      <td>fall_2019</td>\n",
       "    </tr>\n",
       "    <tr>\n",
       "      <th>6</th>\n",
       "      <td>18565142</td>\n",
       "      <td>3878152</td>\n",
       "      <td>NaN</td>\n",
       "      <td>2019-08-26 04:25:54+00:00</td>\n",
       "      <td>Martina Kotrba</td>\n",
       "      <td>&lt;p&gt;Out of all the text, the \"Supernatural Horr...</td>\n",
       "      <td>3526380</td>\n",
       "      <td>1</td>\n",
       "      <td>1149116</td>\n",
       "      <td>fall_2019</td>\n",
       "    </tr>\n",
       "    <tr>\n",
       "      <th>6</th>\n",
       "      <td>18565142</td>\n",
       "      <td>3878152</td>\n",
       "      <td>NaN</td>\n",
       "      <td>2019-08-26 04:25:54+00:00</td>\n",
       "      <td>Martina Kotrba</td>\n",
       "      <td>&lt;p&gt;Out of all the text, the \"Supernatural Horr...</td>\n",
       "      <td>3526380</td>\n",
       "      <td>4</td>\n",
       "      <td>1149116</td>\n",
       "      <td>fall_2019</td>\n",
       "    </tr>\n",
       "    <tr>\n",
       "      <th>7</th>\n",
       "      <td>18564628</td>\n",
       "      <td>3889400</td>\n",
       "      <td>NaN</td>\n",
       "      <td>2019-08-26 02:46:25+00:00</td>\n",
       "      <td>Tiffaney Miller Mack</td>\n",
       "      <td>What stood out to me was reading about fear an...</td>\n",
       "      <td>3526380</td>\n",
       "      <td>2</td>\n",
       "      <td>1149116</td>\n",
       "      <td>fall_2019</td>\n",
       "    </tr>\n",
       "    <tr>\n",
       "      <th>7</th>\n",
       "      <td>18564628</td>\n",
       "      <td>3889400</td>\n",
       "      <td>NaN</td>\n",
       "      <td>2019-08-26 02:46:25+00:00</td>\n",
       "      <td>Tiffaney Miller Mack</td>\n",
       "      <td>What stood out to me was reading about fear an...</td>\n",
       "      <td>3526380</td>\n",
       "      <td>2</td>\n",
       "      <td>1149116</td>\n",
       "      <td>fall_2019</td>\n",
       "    </tr>\n",
       "    <tr>\n",
       "      <th>7</th>\n",
       "      <td>18564628</td>\n",
       "      <td>3889400</td>\n",
       "      <td>NaN</td>\n",
       "      <td>2019-08-26 02:46:25+00:00</td>\n",
       "      <td>Tiffaney Miller Mack</td>\n",
       "      <td>What stood out to me was reading about fear an...</td>\n",
       "      <td>3526380</td>\n",
       "      <td>2</td>\n",
       "      <td>1149116</td>\n",
       "      <td>fall_2019</td>\n",
       "    </tr>\n",
       "    <tr>\n",
       "      <th>7</th>\n",
       "      <td>18564628</td>\n",
       "      <td>3889400</td>\n",
       "      <td>NaN</td>\n",
       "      <td>2019-08-26 02:46:25+00:00</td>\n",
       "      <td>Tiffaney Miller Mack</td>\n",
       "      <td>What stood out to me was reading about fear an...</td>\n",
       "      <td>3526380</td>\n",
       "      <td>2</td>\n",
       "      <td>1149116</td>\n",
       "      <td>fall_2019</td>\n",
       "    </tr>\n",
       "    <tr>\n",
       "      <th>8</th>\n",
       "      <td>18564440</td>\n",
       "      <td>3885848</td>\n",
       "      <td>NaN</td>\n",
       "      <td>2019-08-26 02:26:10+00:00</td>\n",
       "      <td>Arely Sanchez</td>\n",
       "      <td>&lt;p&gt;What stood out to me the most would be Sigm...</td>\n",
       "      <td>3526380</td>\n",
       "      <td>5</td>\n",
       "      <td>1149116</td>\n",
       "      <td>fall_2019</td>\n",
       "    </tr>\n",
       "    <tr>\n",
       "      <th>8</th>\n",
       "      <td>18564440</td>\n",
       "      <td>3885848</td>\n",
       "      <td>NaN</td>\n",
       "      <td>2019-08-26 02:26:10+00:00</td>\n",
       "      <td>Arely Sanchez</td>\n",
       "      <td>&lt;p&gt;What stood out to me the most would be Sigm...</td>\n",
       "      <td>3526380</td>\n",
       "      <td>5</td>\n",
       "      <td>1149116</td>\n",
       "      <td>fall_2019</td>\n",
       "    </tr>\n",
       "    <tr>\n",
       "      <th>8</th>\n",
       "      <td>18564440</td>\n",
       "      <td>3885848</td>\n",
       "      <td>NaN</td>\n",
       "      <td>2019-08-26 02:26:10+00:00</td>\n",
       "      <td>Arely Sanchez</td>\n",
       "      <td>&lt;p&gt;What stood out to me the most would be Sigm...</td>\n",
       "      <td>3526380</td>\n",
       "      <td>5</td>\n",
       "      <td>1149116</td>\n",
       "      <td>fall_2019</td>\n",
       "    </tr>\n",
       "    <tr>\n",
       "      <th>8</th>\n",
       "      <td>18564440</td>\n",
       "      <td>3885848</td>\n",
       "      <td>NaN</td>\n",
       "      <td>2019-08-26 02:26:10+00:00</td>\n",
       "      <td>Arely Sanchez</td>\n",
       "      <td>&lt;p&gt;What stood out to me the most would be Sigm...</td>\n",
       "      <td>3526380</td>\n",
       "      <td>5</td>\n",
       "      <td>1149116</td>\n",
       "      <td>fall_2019</td>\n",
       "    </tr>\n",
       "    <tr>\n",
       "      <th>9</th>\n",
       "      <td>18564190</td>\n",
       "      <td>3815649</td>\n",
       "      <td>NaN</td>\n",
       "      <td>2019-08-26 01:58:06+00:00</td>\n",
       "      <td>Olivia Hollander</td>\n",
       "      <td>&lt;p&gt;I didn't know what to expect from weird fic...</td>\n",
       "      <td>3526380</td>\n",
       "      <td>1</td>\n",
       "      <td>1149116</td>\n",
       "      <td>fall_2019</td>\n",
       "    </tr>\n",
       "  </tbody>\n",
       "</table>\n",
       "</div>"
      ],
      "text/plain": [
       "         id  user_id  parent_id                created_at   \n",
       "0  18813222  3885812        NaN 2019-12-13 05:05:22+00:00  \\\n",
       "0  18813222  3885812        NaN 2019-12-13 05:05:22+00:00   \n",
       "1  18594230  3878246        NaN 2019-09-06 13:56:16+00:00   \n",
       "1  18594230  3878246        NaN 2019-09-06 13:56:16+00:00   \n",
       "2  18568066  3881196        NaN 2019-08-27 17:28:40+00:00   \n",
       "2  18568066  3881196        NaN 2019-08-27 17:28:40+00:00   \n",
       "2  18568066  3881196        NaN 2019-08-27 17:28:40+00:00   \n",
       "2  18568066  3881196        NaN 2019-08-27 17:28:40+00:00   \n",
       "2  18568066  3881196        NaN 2019-08-27 17:28:40+00:00   \n",
       "5  18565148  3885800        NaN 2019-08-26 04:28:56+00:00   \n",
       "5  18565148  3885800        NaN 2019-08-26 04:28:56+00:00   \n",
       "5  18565148  3885800        NaN 2019-08-26 04:28:56+00:00   \n",
       "5  18565148  3885800        NaN 2019-08-26 04:28:56+00:00   \n",
       "6  18565142  3878152        NaN 2019-08-26 04:25:54+00:00   \n",
       "6  18565142  3878152        NaN 2019-08-26 04:25:54+00:00   \n",
       "6  18565142  3878152        NaN 2019-08-26 04:25:54+00:00   \n",
       "7  18564628  3889400        NaN 2019-08-26 02:46:25+00:00   \n",
       "7  18564628  3889400        NaN 2019-08-26 02:46:25+00:00   \n",
       "7  18564628  3889400        NaN 2019-08-26 02:46:25+00:00   \n",
       "7  18564628  3889400        NaN 2019-08-26 02:46:25+00:00   \n",
       "8  18564440  3885848        NaN 2019-08-26 02:26:10+00:00   \n",
       "8  18564440  3885848        NaN 2019-08-26 02:26:10+00:00   \n",
       "8  18564440  3885848        NaN 2019-08-26 02:26:10+00:00   \n",
       "8  18564440  3885848        NaN 2019-08-26 02:26:10+00:00   \n",
       "9  18564190  3815649        NaN 2019-08-26 01:58:06+00:00   \n",
       "\n",
       "              user_name                                            message   \n",
       "0            Emma Brown  <p>When I read foreweird and the introduction ...  \\\n",
       "0            Emma Brown  <p>When I read foreweird and the introduction ...   \n",
       "1          Clayton Cash  <p><span>I believe a very notable concept was ...   \n",
       "1          Clayton Cash  <p><span>I believe a very notable concept was ...   \n",
       "2       Nelesa Oseguera  <p>What interested me the most about week one’...   \n",
       "2       Nelesa Oseguera  <p>What interested me the most about week one’...   \n",
       "2       Nelesa Oseguera  <p>What interested me the most about week one’...   \n",
       "2       Nelesa Oseguera  <p>What interested me the most about week one’...   \n",
       "2       Nelesa Oseguera  <p>What interested me the most about week one’...   \n",
       "5         Jazmyn Warner  <p>\"You can't always get what you want, but yo...   \n",
       "5         Jazmyn Warner  <p>\"You can't always get what you want, but yo...   \n",
       "5         Jazmyn Warner  <p>\"You can't always get what you want, but yo...   \n",
       "5         Jazmyn Warner  <p>\"You can't always get what you want, but yo...   \n",
       "6        Martina Kotrba  <p>Out of all the text, the \"Supernatural Horr...   \n",
       "6        Martina Kotrba  <p>Out of all the text, the \"Supernatural Horr...   \n",
       "6        Martina Kotrba  <p>Out of all the text, the \"Supernatural Horr...   \n",
       "7  Tiffaney Miller Mack  What stood out to me was reading about fear an...   \n",
       "7  Tiffaney Miller Mack  What stood out to me was reading about fear an...   \n",
       "7  Tiffaney Miller Mack  What stood out to me was reading about fear an...   \n",
       "7  Tiffaney Miller Mack  What stood out to me was reading about fear an...   \n",
       "8         Arely Sanchez  <p>What stood out to me the most would be Sigm...   \n",
       "8         Arely Sanchez  <p>What stood out to me the most would be Sigm...   \n",
       "8         Arely Sanchez  <p>What stood out to me the most would be Sigm...   \n",
       "8         Arely Sanchez  <p>What stood out to me the most would be Sigm...   \n",
       "9      Olivia Hollander  <p>I didn't know what to expect from weird fic...   \n",
       "\n",
       "   discussion_board_id author_mentions  canvas_course_id semester_year  \n",
       "0              3526380               3           1149116     fall_2019  \n",
       "0              3526380               4           1149116     fall_2019  \n",
       "1              3526380               2           1149116     fall_2019  \n",
       "1              3526380               2           1149116     fall_2019  \n",
       "2              3526380               1           1149116     fall_2019  \n",
       "2              3526380               5           1149116     fall_2019  \n",
       "2              3526380               5           1149116     fall_2019  \n",
       "2              3526380               5           1149116     fall_2019  \n",
       "2              3526380               5           1149116     fall_2019  \n",
       "5              3526380               2           1149116     fall_2019  \n",
       "5              3526380               2           1149116     fall_2019  \n",
       "5              3526380               2           1149116     fall_2019  \n",
       "5              3526380               2           1149116     fall_2019  \n",
       "6              3526380               1           1149116     fall_2019  \n",
       "6              3526380               1           1149116     fall_2019  \n",
       "6              3526380               4           1149116     fall_2019  \n",
       "7              3526380               2           1149116     fall_2019  \n",
       "7              3526380               2           1149116     fall_2019  \n",
       "7              3526380               2           1149116     fall_2019  \n",
       "7              3526380               2           1149116     fall_2019  \n",
       "8              3526380               5           1149116     fall_2019  \n",
       "8              3526380               5           1149116     fall_2019  \n",
       "8              3526380               5           1149116     fall_2019  \n",
       "8              3526380               5           1149116     fall_2019  \n",
       "9              3526380               1           1149116     fall_2019  "
      ]
     },
     "execution_count": 51,
     "metadata": {},
     "output_type": "execute_result"
    }
   ],
   "source": [
    "all_together_exploded = all_together.explode('author_mentions')\n",
    "all_together_exploded.dropna(subset=['author_mentions'], inplace=True)\n",
    "all_together_exploded.head(25)"
   ]
  },
  {
   "cell_type": "code",
   "execution_count": 52,
   "metadata": {},
   "outputs": [],
   "source": [
    "all_together_first_week_filtered = all_together_exploded[all_together_exploded['author_mentions'].isin(specific_author_ids)]"
   ]
  },
  {
   "cell_type": "code",
   "execution_count": 53,
   "metadata": {},
   "outputs": [
    {
     "data": {
      "text/html": [
       "<div>\n",
       "<style scoped>\n",
       "    .dataframe tbody tr th:only-of-type {\n",
       "        vertical-align: middle;\n",
       "    }\n",
       "\n",
       "    .dataframe tbody tr th {\n",
       "        vertical-align: top;\n",
       "    }\n",
       "\n",
       "    .dataframe thead th {\n",
       "        text-align: right;\n",
       "    }\n",
       "</style>\n",
       "<table border=\"1\" class=\"dataframe\">\n",
       "  <thead>\n",
       "    <tr style=\"text-align: right;\">\n",
       "      <th></th>\n",
       "      <th>id</th>\n",
       "      <th>user_id</th>\n",
       "      <th>parent_id</th>\n",
       "      <th>created_at</th>\n",
       "      <th>user_name</th>\n",
       "      <th>message</th>\n",
       "      <th>discussion_board_id</th>\n",
       "      <th>author_mentions</th>\n",
       "      <th>canvas_course_id</th>\n",
       "      <th>semester_year</th>\n",
       "    </tr>\n",
       "  </thead>\n",
       "  <tbody>\n",
       "    <tr>\n",
       "      <th>0</th>\n",
       "      <td>18813222</td>\n",
       "      <td>3885812</td>\n",
       "      <td>NaN</td>\n",
       "      <td>2019-12-13 05:05:22+00:00</td>\n",
       "      <td>Emma Brown</td>\n",
       "      <td>&lt;p&gt;When I read foreweird and the introduction ...</td>\n",
       "      <td>3526380</td>\n",
       "      <td>3</td>\n",
       "      <td>1149116</td>\n",
       "      <td>fall_2019</td>\n",
       "    </tr>\n",
       "    <tr>\n",
       "      <th>0</th>\n",
       "      <td>18813222</td>\n",
       "      <td>3885812</td>\n",
       "      <td>NaN</td>\n",
       "      <td>2019-12-13 05:05:22+00:00</td>\n",
       "      <td>Emma Brown</td>\n",
       "      <td>&lt;p&gt;When I read foreweird and the introduction ...</td>\n",
       "      <td>3526380</td>\n",
       "      <td>4</td>\n",
       "      <td>1149116</td>\n",
       "      <td>fall_2019</td>\n",
       "    </tr>\n",
       "    <tr>\n",
       "      <th>1</th>\n",
       "      <td>18594230</td>\n",
       "      <td>3878246</td>\n",
       "      <td>NaN</td>\n",
       "      <td>2019-09-06 13:56:16+00:00</td>\n",
       "      <td>Clayton Cash</td>\n",
       "      <td>&lt;p&gt;&lt;span&gt;I believe a very notable concept was ...</td>\n",
       "      <td>3526380</td>\n",
       "      <td>2</td>\n",
       "      <td>1149116</td>\n",
       "      <td>fall_2019</td>\n",
       "    </tr>\n",
       "    <tr>\n",
       "      <th>1</th>\n",
       "      <td>18594230</td>\n",
       "      <td>3878246</td>\n",
       "      <td>NaN</td>\n",
       "      <td>2019-09-06 13:56:16+00:00</td>\n",
       "      <td>Clayton Cash</td>\n",
       "      <td>&lt;p&gt;&lt;span&gt;I believe a very notable concept was ...</td>\n",
       "      <td>3526380</td>\n",
       "      <td>2</td>\n",
       "      <td>1149116</td>\n",
       "      <td>fall_2019</td>\n",
       "    </tr>\n",
       "    <tr>\n",
       "      <th>2</th>\n",
       "      <td>18568066</td>\n",
       "      <td>3881196</td>\n",
       "      <td>NaN</td>\n",
       "      <td>2019-08-27 17:28:40+00:00</td>\n",
       "      <td>Nelesa Oseguera</td>\n",
       "      <td>&lt;p&gt;What interested me the most about week one’...</td>\n",
       "      <td>3526380</td>\n",
       "      <td>1</td>\n",
       "      <td>1149116</td>\n",
       "      <td>fall_2019</td>\n",
       "    </tr>\n",
       "    <tr>\n",
       "      <th>2</th>\n",
       "      <td>18568066</td>\n",
       "      <td>3881196</td>\n",
       "      <td>NaN</td>\n",
       "      <td>2019-08-27 17:28:40+00:00</td>\n",
       "      <td>Nelesa Oseguera</td>\n",
       "      <td>&lt;p&gt;What interested me the most about week one’...</td>\n",
       "      <td>3526380</td>\n",
       "      <td>5</td>\n",
       "      <td>1149116</td>\n",
       "      <td>fall_2019</td>\n",
       "    </tr>\n",
       "    <tr>\n",
       "      <th>2</th>\n",
       "      <td>18568066</td>\n",
       "      <td>3881196</td>\n",
       "      <td>NaN</td>\n",
       "      <td>2019-08-27 17:28:40+00:00</td>\n",
       "      <td>Nelesa Oseguera</td>\n",
       "      <td>&lt;p&gt;What interested me the most about week one’...</td>\n",
       "      <td>3526380</td>\n",
       "      <td>5</td>\n",
       "      <td>1149116</td>\n",
       "      <td>fall_2019</td>\n",
       "    </tr>\n",
       "    <tr>\n",
       "      <th>2</th>\n",
       "      <td>18568066</td>\n",
       "      <td>3881196</td>\n",
       "      <td>NaN</td>\n",
       "      <td>2019-08-27 17:28:40+00:00</td>\n",
       "      <td>Nelesa Oseguera</td>\n",
       "      <td>&lt;p&gt;What interested me the most about week one’...</td>\n",
       "      <td>3526380</td>\n",
       "      <td>5</td>\n",
       "      <td>1149116</td>\n",
       "      <td>fall_2019</td>\n",
       "    </tr>\n",
       "    <tr>\n",
       "      <th>2</th>\n",
       "      <td>18568066</td>\n",
       "      <td>3881196</td>\n",
       "      <td>NaN</td>\n",
       "      <td>2019-08-27 17:28:40+00:00</td>\n",
       "      <td>Nelesa Oseguera</td>\n",
       "      <td>&lt;p&gt;What interested me the most about week one’...</td>\n",
       "      <td>3526380</td>\n",
       "      <td>5</td>\n",
       "      <td>1149116</td>\n",
       "      <td>fall_2019</td>\n",
       "    </tr>\n",
       "    <tr>\n",
       "      <th>5</th>\n",
       "      <td>18565148</td>\n",
       "      <td>3885800</td>\n",
       "      <td>NaN</td>\n",
       "      <td>2019-08-26 04:28:56+00:00</td>\n",
       "      <td>Jazmyn Warner</td>\n",
       "      <td>&lt;p&gt;\"You can't always get what you want, but yo...</td>\n",
       "      <td>3526380</td>\n",
       "      <td>2</td>\n",
       "      <td>1149116</td>\n",
       "      <td>fall_2019</td>\n",
       "    </tr>\n",
       "    <tr>\n",
       "      <th>5</th>\n",
       "      <td>18565148</td>\n",
       "      <td>3885800</td>\n",
       "      <td>NaN</td>\n",
       "      <td>2019-08-26 04:28:56+00:00</td>\n",
       "      <td>Jazmyn Warner</td>\n",
       "      <td>&lt;p&gt;\"You can't always get what you want, but yo...</td>\n",
       "      <td>3526380</td>\n",
       "      <td>2</td>\n",
       "      <td>1149116</td>\n",
       "      <td>fall_2019</td>\n",
       "    </tr>\n",
       "    <tr>\n",
       "      <th>5</th>\n",
       "      <td>18565148</td>\n",
       "      <td>3885800</td>\n",
       "      <td>NaN</td>\n",
       "      <td>2019-08-26 04:28:56+00:00</td>\n",
       "      <td>Jazmyn Warner</td>\n",
       "      <td>&lt;p&gt;\"You can't always get what you want, but yo...</td>\n",
       "      <td>3526380</td>\n",
       "      <td>2</td>\n",
       "      <td>1149116</td>\n",
       "      <td>fall_2019</td>\n",
       "    </tr>\n",
       "    <tr>\n",
       "      <th>5</th>\n",
       "      <td>18565148</td>\n",
       "      <td>3885800</td>\n",
       "      <td>NaN</td>\n",
       "      <td>2019-08-26 04:28:56+00:00</td>\n",
       "      <td>Jazmyn Warner</td>\n",
       "      <td>&lt;p&gt;\"You can't always get what you want, but yo...</td>\n",
       "      <td>3526380</td>\n",
       "      <td>2</td>\n",
       "      <td>1149116</td>\n",
       "      <td>fall_2019</td>\n",
       "    </tr>\n",
       "    <tr>\n",
       "      <th>6</th>\n",
       "      <td>18565142</td>\n",
       "      <td>3878152</td>\n",
       "      <td>NaN</td>\n",
       "      <td>2019-08-26 04:25:54+00:00</td>\n",
       "      <td>Martina Kotrba</td>\n",
       "      <td>&lt;p&gt;Out of all the text, the \"Supernatural Horr...</td>\n",
       "      <td>3526380</td>\n",
       "      <td>1</td>\n",
       "      <td>1149116</td>\n",
       "      <td>fall_2019</td>\n",
       "    </tr>\n",
       "    <tr>\n",
       "      <th>6</th>\n",
       "      <td>18565142</td>\n",
       "      <td>3878152</td>\n",
       "      <td>NaN</td>\n",
       "      <td>2019-08-26 04:25:54+00:00</td>\n",
       "      <td>Martina Kotrba</td>\n",
       "      <td>&lt;p&gt;Out of all the text, the \"Supernatural Horr...</td>\n",
       "      <td>3526380</td>\n",
       "      <td>1</td>\n",
       "      <td>1149116</td>\n",
       "      <td>fall_2019</td>\n",
       "    </tr>\n",
       "    <tr>\n",
       "      <th>6</th>\n",
       "      <td>18565142</td>\n",
       "      <td>3878152</td>\n",
       "      <td>NaN</td>\n",
       "      <td>2019-08-26 04:25:54+00:00</td>\n",
       "      <td>Martina Kotrba</td>\n",
       "      <td>&lt;p&gt;Out of all the text, the \"Supernatural Horr...</td>\n",
       "      <td>3526380</td>\n",
       "      <td>4</td>\n",
       "      <td>1149116</td>\n",
       "      <td>fall_2019</td>\n",
       "    </tr>\n",
       "    <tr>\n",
       "      <th>7</th>\n",
       "      <td>18564628</td>\n",
       "      <td>3889400</td>\n",
       "      <td>NaN</td>\n",
       "      <td>2019-08-26 02:46:25+00:00</td>\n",
       "      <td>Tiffaney Miller Mack</td>\n",
       "      <td>What stood out to me was reading about fear an...</td>\n",
       "      <td>3526380</td>\n",
       "      <td>2</td>\n",
       "      <td>1149116</td>\n",
       "      <td>fall_2019</td>\n",
       "    </tr>\n",
       "    <tr>\n",
       "      <th>7</th>\n",
       "      <td>18564628</td>\n",
       "      <td>3889400</td>\n",
       "      <td>NaN</td>\n",
       "      <td>2019-08-26 02:46:25+00:00</td>\n",
       "      <td>Tiffaney Miller Mack</td>\n",
       "      <td>What stood out to me was reading about fear an...</td>\n",
       "      <td>3526380</td>\n",
       "      <td>2</td>\n",
       "      <td>1149116</td>\n",
       "      <td>fall_2019</td>\n",
       "    </tr>\n",
       "    <tr>\n",
       "      <th>7</th>\n",
       "      <td>18564628</td>\n",
       "      <td>3889400</td>\n",
       "      <td>NaN</td>\n",
       "      <td>2019-08-26 02:46:25+00:00</td>\n",
       "      <td>Tiffaney Miller Mack</td>\n",
       "      <td>What stood out to me was reading about fear an...</td>\n",
       "      <td>3526380</td>\n",
       "      <td>2</td>\n",
       "      <td>1149116</td>\n",
       "      <td>fall_2019</td>\n",
       "    </tr>\n",
       "    <tr>\n",
       "      <th>7</th>\n",
       "      <td>18564628</td>\n",
       "      <td>3889400</td>\n",
       "      <td>NaN</td>\n",
       "      <td>2019-08-26 02:46:25+00:00</td>\n",
       "      <td>Tiffaney Miller Mack</td>\n",
       "      <td>What stood out to me was reading about fear an...</td>\n",
       "      <td>3526380</td>\n",
       "      <td>2</td>\n",
       "      <td>1149116</td>\n",
       "      <td>fall_2019</td>\n",
       "    </tr>\n",
       "  </tbody>\n",
       "</table>\n",
       "</div>"
      ],
      "text/plain": [
       "         id  user_id  parent_id                created_at   \n",
       "0  18813222  3885812        NaN 2019-12-13 05:05:22+00:00  \\\n",
       "0  18813222  3885812        NaN 2019-12-13 05:05:22+00:00   \n",
       "1  18594230  3878246        NaN 2019-09-06 13:56:16+00:00   \n",
       "1  18594230  3878246        NaN 2019-09-06 13:56:16+00:00   \n",
       "2  18568066  3881196        NaN 2019-08-27 17:28:40+00:00   \n",
       "2  18568066  3881196        NaN 2019-08-27 17:28:40+00:00   \n",
       "2  18568066  3881196        NaN 2019-08-27 17:28:40+00:00   \n",
       "2  18568066  3881196        NaN 2019-08-27 17:28:40+00:00   \n",
       "2  18568066  3881196        NaN 2019-08-27 17:28:40+00:00   \n",
       "5  18565148  3885800        NaN 2019-08-26 04:28:56+00:00   \n",
       "5  18565148  3885800        NaN 2019-08-26 04:28:56+00:00   \n",
       "5  18565148  3885800        NaN 2019-08-26 04:28:56+00:00   \n",
       "5  18565148  3885800        NaN 2019-08-26 04:28:56+00:00   \n",
       "6  18565142  3878152        NaN 2019-08-26 04:25:54+00:00   \n",
       "6  18565142  3878152        NaN 2019-08-26 04:25:54+00:00   \n",
       "6  18565142  3878152        NaN 2019-08-26 04:25:54+00:00   \n",
       "7  18564628  3889400        NaN 2019-08-26 02:46:25+00:00   \n",
       "7  18564628  3889400        NaN 2019-08-26 02:46:25+00:00   \n",
       "7  18564628  3889400        NaN 2019-08-26 02:46:25+00:00   \n",
       "7  18564628  3889400        NaN 2019-08-26 02:46:25+00:00   \n",
       "\n",
       "              user_name                                            message   \n",
       "0            Emma Brown  <p>When I read foreweird and the introduction ...  \\\n",
       "0            Emma Brown  <p>When I read foreweird and the introduction ...   \n",
       "1          Clayton Cash  <p><span>I believe a very notable concept was ...   \n",
       "1          Clayton Cash  <p><span>I believe a very notable concept was ...   \n",
       "2       Nelesa Oseguera  <p>What interested me the most about week one’...   \n",
       "2       Nelesa Oseguera  <p>What interested me the most about week one’...   \n",
       "2       Nelesa Oseguera  <p>What interested me the most about week one’...   \n",
       "2       Nelesa Oseguera  <p>What interested me the most about week one’...   \n",
       "2       Nelesa Oseguera  <p>What interested me the most about week one’...   \n",
       "5         Jazmyn Warner  <p>\"You can't always get what you want, but yo...   \n",
       "5         Jazmyn Warner  <p>\"You can't always get what you want, but yo...   \n",
       "5         Jazmyn Warner  <p>\"You can't always get what you want, but yo...   \n",
       "5         Jazmyn Warner  <p>\"You can't always get what you want, but yo...   \n",
       "6        Martina Kotrba  <p>Out of all the text, the \"Supernatural Horr...   \n",
       "6        Martina Kotrba  <p>Out of all the text, the \"Supernatural Horr...   \n",
       "6        Martina Kotrba  <p>Out of all the text, the \"Supernatural Horr...   \n",
       "7  Tiffaney Miller Mack  What stood out to me was reading about fear an...   \n",
       "7  Tiffaney Miller Mack  What stood out to me was reading about fear an...   \n",
       "7  Tiffaney Miller Mack  What stood out to me was reading about fear an...   \n",
       "7  Tiffaney Miller Mack  What stood out to me was reading about fear an...   \n",
       "\n",
       "   discussion_board_id author_mentions  canvas_course_id semester_year  \n",
       "0              3526380               3           1149116     fall_2019  \n",
       "0              3526380               4           1149116     fall_2019  \n",
       "1              3526380               2           1149116     fall_2019  \n",
       "1              3526380               2           1149116     fall_2019  \n",
       "2              3526380               1           1149116     fall_2019  \n",
       "2              3526380               5           1149116     fall_2019  \n",
       "2              3526380               5           1149116     fall_2019  \n",
       "2              3526380               5           1149116     fall_2019  \n",
       "2              3526380               5           1149116     fall_2019  \n",
       "5              3526380               2           1149116     fall_2019  \n",
       "5              3526380               2           1149116     fall_2019  \n",
       "5              3526380               2           1149116     fall_2019  \n",
       "5              3526380               2           1149116     fall_2019  \n",
       "6              3526380               1           1149116     fall_2019  \n",
       "6              3526380               1           1149116     fall_2019  \n",
       "6              3526380               4           1149116     fall_2019  \n",
       "7              3526380               2           1149116     fall_2019  \n",
       "7              3526380               2           1149116     fall_2019  \n",
       "7              3526380               2           1149116     fall_2019  \n",
       "7              3526380               2           1149116     fall_2019  "
      ]
     },
     "execution_count": 53,
     "metadata": {},
     "output_type": "execute_result"
    }
   ],
   "source": [
    "all_together_first_week_filtered.head(20)"
   ]
  },
  {
   "cell_type": "code",
   "execution_count": 54,
   "metadata": {},
   "outputs": [
    {
     "data": {
      "text/html": [
       "<div>\n",
       "<style scoped>\n",
       "    .dataframe tbody tr th:only-of-type {\n",
       "        vertical-align: middle;\n",
       "    }\n",
       "\n",
       "    .dataframe tbody tr th {\n",
       "        vertical-align: top;\n",
       "    }\n",
       "\n",
       "    .dataframe thead th {\n",
       "        text-align: right;\n",
       "    }\n",
       "</style>\n",
       "<table border=\"1\" class=\"dataframe\">\n",
       "  <thead>\n",
       "    <tr style=\"text-align: right;\">\n",
       "      <th></th>\n",
       "      <th>created_at</th>\n",
       "      <th>discussion_board_id</th>\n",
       "      <th>semester_year</th>\n",
       "      <th>author_mentions</th>\n",
       "      <th>count</th>\n",
       "    </tr>\n",
       "  </thead>\n",
       "  <tbody>\n",
       "    <tr>\n",
       "      <th>0</th>\n",
       "      <td>2019-08-20 02:31:34+00:00</td>\n",
       "      <td>3526348</td>\n",
       "      <td>fall_2019</td>\n",
       "      <td>1</td>\n",
       "      <td>1</td>\n",
       "    </tr>\n",
       "    <tr>\n",
       "      <th>1</th>\n",
       "      <td>2019-08-21 23:01:15+00:00</td>\n",
       "      <td>3526380</td>\n",
       "      <td>fall_2019</td>\n",
       "      <td>2</td>\n",
       "      <td>4</td>\n",
       "    </tr>\n",
       "    <tr>\n",
       "      <th>2</th>\n",
       "      <td>2019-08-21 23:01:15+00:00</td>\n",
       "      <td>3526380</td>\n",
       "      <td>fall_2019</td>\n",
       "      <td>3</td>\n",
       "      <td>3</td>\n",
       "    </tr>\n",
       "    <tr>\n",
       "      <th>3</th>\n",
       "      <td>2019-08-21 23:01:15+00:00</td>\n",
       "      <td>3526380</td>\n",
       "      <td>fall_2019</td>\n",
       "      <td>4</td>\n",
       "      <td>1</td>\n",
       "    </tr>\n",
       "    <tr>\n",
       "      <th>4</th>\n",
       "      <td>2019-08-22 00:24:34+00:00</td>\n",
       "      <td>3526380</td>\n",
       "      <td>fall_2019</td>\n",
       "      <td>2</td>\n",
       "      <td>3</td>\n",
       "    </tr>\n",
       "    <tr>\n",
       "      <th>5</th>\n",
       "      <td>2019-08-22 01:40:44+00:00</td>\n",
       "      <td>3526380</td>\n",
       "      <td>fall_2019</td>\n",
       "      <td>2</td>\n",
       "      <td>4</td>\n",
       "    </tr>\n",
       "    <tr>\n",
       "      <th>6</th>\n",
       "      <td>2019-08-22 21:28:46+00:00</td>\n",
       "      <td>3526380</td>\n",
       "      <td>fall_2019</td>\n",
       "      <td>1</td>\n",
       "      <td>1</td>\n",
       "    </tr>\n",
       "    <tr>\n",
       "      <th>7</th>\n",
       "      <td>2019-08-23 17:03:49+00:00</td>\n",
       "      <td>3526380</td>\n",
       "      <td>fall_2019</td>\n",
       "      <td>1</td>\n",
       "      <td>2</td>\n",
       "    </tr>\n",
       "    <tr>\n",
       "      <th>8</th>\n",
       "      <td>2019-08-24 00:43:23+00:00</td>\n",
       "      <td>3526380</td>\n",
       "      <td>fall_2019</td>\n",
       "      <td>1</td>\n",
       "      <td>1</td>\n",
       "    </tr>\n",
       "    <tr>\n",
       "      <th>9</th>\n",
       "      <td>2019-08-24 00:43:23+00:00</td>\n",
       "      <td>3526380</td>\n",
       "      <td>fall_2019</td>\n",
       "      <td>123</td>\n",
       "      <td>3</td>\n",
       "    </tr>\n",
       "  </tbody>\n",
       "</table>\n",
       "</div>"
      ],
      "text/plain": [
       "                 created_at  discussion_board_id semester_year   \n",
       "0 2019-08-20 02:31:34+00:00              3526348     fall_2019  \\\n",
       "1 2019-08-21 23:01:15+00:00              3526380     fall_2019   \n",
       "2 2019-08-21 23:01:15+00:00              3526380     fall_2019   \n",
       "3 2019-08-21 23:01:15+00:00              3526380     fall_2019   \n",
       "4 2019-08-22 00:24:34+00:00              3526380     fall_2019   \n",
       "5 2019-08-22 01:40:44+00:00              3526380     fall_2019   \n",
       "6 2019-08-22 21:28:46+00:00              3526380     fall_2019   \n",
       "7 2019-08-23 17:03:49+00:00              3526380     fall_2019   \n",
       "8 2019-08-24 00:43:23+00:00              3526380     fall_2019   \n",
       "9 2019-08-24 00:43:23+00:00              3526380     fall_2019   \n",
       "\n",
       "   author_mentions  count  \n",
       "0                1      1  \n",
       "1                2      4  \n",
       "2                3      3  \n",
       "3                4      1  \n",
       "4                2      3  \n",
       "5                2      4  \n",
       "6                1      1  \n",
       "7                1      2  \n",
       "8                1      1  \n",
       "9              123      3  "
      ]
     },
     "execution_count": 54,
     "metadata": {},
     "output_type": "execute_result"
    }
   ],
   "source": [
    "df_grouped = all_together_first_week_filtered.groupby(['created_at', 'discussion_board_id', 'semester_year', 'author_mentions']).size().reset_index(name='count')\n",
    "author_mentions = df_grouped['author_mentions'].unique()\n",
    "df_grouped.head(10)"
   ]
  },
  {
   "cell_type": "code",
   "execution_count": 55,
   "metadata": {},
   "outputs": [
    {
     "data": {
      "application/vnd.plotly.v1+json": {
       "config": {
        "plotlyServerURL": "https://plot.ly"
       },
       "data": [
        {
         "name": "fall_2019",
         "type": "bar",
         "x": [
          1,
          2,
          3,
          4,
          123,
          5,
          124
         ],
         "y": [
          1,
          4,
          3,
          1,
          3,
          4,
          1,
          2,
          1,
          3,
          1,
          2,
          2,
          2,
          1,
          1,
          1,
          1,
          1,
          1,
          1,
          3,
          1,
          2,
          1,
          2,
          2,
          1,
          1,
          2,
          1,
          2,
          3,
          1,
          1,
          4,
          1,
          4,
          2,
          1,
          4,
          1,
          4,
          1,
          1,
          1,
          1,
          1,
          1,
          1,
          2,
          1,
          1,
          1,
          1,
          1,
          1,
          1,
          1,
          1,
          1,
          1,
          1
         ]
        },
        {
         "name": "spring_2020",
         "type": "bar",
         "x": [
          1,
          2,
          3,
          4,
          123,
          5,
          124
         ],
         "y": [
          1,
          1,
          4,
          3,
          1,
          1,
          2,
          1,
          1,
          1,
          1,
          1,
          2,
          1,
          1,
          4,
          3,
          1,
          1,
          1,
          2,
          1,
          1,
          1,
          1,
          4,
          1,
          1,
          1,
          1
         ]
        },
        {
         "name": "summer_2020",
         "type": "bar",
         "x": [
          1,
          2,
          3,
          4,
          123,
          5,
          124
         ],
         "y": [
          1,
          1,
          1,
          1,
          1,
          1,
          3,
          1,
          1,
          1,
          1,
          1,
          1
         ]
        },
        {
         "name": "fall_2020",
         "type": "bar",
         "x": [
          1,
          2,
          3,
          4,
          123,
          5,
          124
         ],
         "y": [
          1,
          2,
          1,
          1,
          1,
          3,
          1,
          1,
          4,
          1,
          1,
          1,
          1,
          1,
          1,
          1,
          3,
          1,
          1,
          1,
          1,
          1,
          1,
          1,
          2,
          6,
          4,
          3,
          1,
          2,
          2,
          1,
          1,
          2,
          3,
          1,
          2,
          1,
          1,
          1,
          1,
          2,
          1,
          1,
          3,
          1,
          1,
          1,
          2,
          1,
          1,
          1,
          1,
          1,
          1,
          2,
          2,
          1,
          2,
          1,
          3,
          3,
          1,
          2,
          1,
          3,
          1,
          1,
          1,
          1,
          1,
          1,
          1,
          1,
          1,
          1,
          1,
          1,
          1,
          1,
          1,
          1,
          1,
          1,
          1,
          1,
          1
         ]
        },
        {
         "name": "spring_2021",
         "type": "bar",
         "x": [
          1,
          2,
          3,
          4,
          123,
          5,
          124
         ],
         "y": [
          1,
          1,
          1,
          1,
          1,
          1,
          1,
          1,
          1,
          1,
          1,
          1,
          1,
          1,
          1,
          1,
          1,
          1,
          1,
          1,
          1,
          1,
          1,
          1,
          1,
          1,
          1,
          1,
          1,
          1,
          1,
          1,
          1,
          1,
          1,
          1,
          1,
          2,
          1,
          1,
          1,
          1,
          1,
          1,
          1,
          1,
          1,
          1,
          1,
          1,
          1,
          1,
          1,
          1,
          1,
          2,
          3,
          1,
          1,
          1,
          1,
          1,
          1,
          1,
          1,
          1,
          1,
          1,
          1,
          1,
          1,
          1,
          2,
          1,
          1,
          1,
          1,
          1,
          1,
          1,
          1,
          1,
          1,
          1,
          1,
          1,
          1,
          2,
          2,
          1,
          1,
          1,
          2,
          1,
          1,
          1,
          1,
          1,
          1,
          1,
          1,
          1
         ]
        },
        {
         "name": "summer_2021",
         "type": "bar",
         "x": [
          1,
          2,
          3,
          4,
          123,
          5,
          124
         ],
         "y": [
          1,
          1,
          1,
          1,
          1
         ]
        },
        {
         "name": "fall_2021",
         "type": "bar",
         "x": [
          1,
          2,
          3,
          4,
          123,
          5,
          124
         ],
         "y": [
          1,
          1,
          2,
          2,
          1,
          2,
          4,
          2,
          1,
          2,
          1,
          1,
          1,
          1,
          3,
          2,
          1,
          2,
          3,
          2,
          1,
          3,
          2,
          1,
          3,
          2,
          1,
          1,
          1,
          1,
          1,
          1,
          1,
          2,
          2,
          3,
          3,
          2,
          1,
          2,
          1,
          1,
          2,
          2,
          2,
          4,
          1,
          1,
          1,
          2,
          2,
          1,
          1,
          2,
          1,
          3,
          1,
          2,
          2,
          3,
          2,
          2,
          2,
          1,
          1,
          3,
          1,
          3,
          1,
          1,
          3,
          1,
          1,
          1,
          1,
          2,
          2,
          1,
          1,
          1,
          1,
          1,
          1,
          1,
          1,
          1,
          1,
          1,
          1,
          1,
          1,
          1,
          1,
          1,
          1,
          1
         ]
        },
        {
         "name": "spring_2022",
         "type": "bar",
         "x": [
          1,
          2,
          3,
          4,
          123,
          5,
          124
         ],
         "y": [
          1,
          1,
          1,
          1,
          1,
          2,
          2,
          1,
          1,
          1,
          4,
          3,
          3,
          1,
          3,
          1,
          2,
          2,
          1,
          1,
          1,
          1,
          1,
          1,
          1,
          3,
          1,
          3,
          2,
          1,
          1,
          2,
          2,
          1,
          2,
          2,
          4,
          1,
          1,
          1,
          1,
          1,
          3,
          2,
          4,
          4,
          3,
          1,
          3,
          1,
          1,
          1,
          1,
          1,
          3,
          1
         ]
        },
        {
         "name": "fall_2022",
         "type": "bar",
         "x": [
          1,
          2,
          3,
          4,
          123,
          5,
          124
         ],
         "y": [
          1,
          1,
          1,
          2,
          2,
          2,
          1,
          1,
          1,
          1,
          1,
          1,
          3,
          1,
          2,
          2,
          1,
          1,
          1,
          1,
          1,
          1,
          3,
          1,
          2,
          3,
          3,
          1,
          1,
          2,
          2,
          2,
          1,
          1,
          1,
          2,
          4,
          3,
          2,
          4,
          1,
          1,
          1,
          1,
          1,
          3,
          1,
          1,
          1,
          1,
          1,
          2,
          1,
          2,
          1,
          1,
          1,
          1,
          1,
          1,
          4,
          2,
          1,
          1,
          2,
          1,
          2,
          2,
          2,
          2,
          2,
          2,
          2,
          1,
          4,
          2,
          1,
          1,
          1,
          1,
          2,
          1,
          1,
          2,
          2,
          3,
          1,
          1,
          1,
          2,
          1,
          2,
          2,
          1,
          2,
          1,
          2,
          1,
          1,
          1,
          1,
          1,
          1,
          1,
          1,
          1,
          1,
          3,
          1,
          1,
          1,
          1,
          1,
          1,
          1
         ]
        },
        {
         "name": "spring_2023",
         "type": "bar",
         "x": [
          1,
          2,
          3,
          4,
          123,
          5,
          124
         ],
         "y": [
          1,
          3,
          2,
          3,
          2,
          1,
          2,
          1,
          1,
          3,
          2,
          1,
          1,
          2,
          3,
          2,
          2,
          2,
          1,
          1,
          1,
          2,
          1,
          1,
          1,
          1,
          1,
          1,
          2,
          2,
          2,
          1,
          2,
          3,
          2,
          1,
          3,
          1,
          3,
          1,
          1,
          2,
          3,
          2,
          2,
          1,
          1,
          2,
          1,
          2,
          2,
          3,
          1,
          2,
          1,
          1,
          2,
          2,
          1,
          1,
          1,
          1,
          1,
          1,
          4,
          1,
          1,
          1,
          1,
          3,
          1,
          1,
          1,
          1,
          1
         ]
        }
       ],
       "layout": {
        "barmode": "stack",
        "template": {
         "data": {
          "bar": [
           {
            "error_x": {
             "color": "#2a3f5f"
            },
            "error_y": {
             "color": "#2a3f5f"
            },
            "marker": {
             "line": {
              "color": "#E5ECF6",
              "width": 0.5
             },
             "pattern": {
              "fillmode": "overlay",
              "size": 10,
              "solidity": 0.2
             }
            },
            "type": "bar"
           }
          ],
          "barpolar": [
           {
            "marker": {
             "line": {
              "color": "#E5ECF6",
              "width": 0.5
             },
             "pattern": {
              "fillmode": "overlay",
              "size": 10,
              "solidity": 0.2
             }
            },
            "type": "barpolar"
           }
          ],
          "carpet": [
           {
            "aaxis": {
             "endlinecolor": "#2a3f5f",
             "gridcolor": "white",
             "linecolor": "white",
             "minorgridcolor": "white",
             "startlinecolor": "#2a3f5f"
            },
            "baxis": {
             "endlinecolor": "#2a3f5f",
             "gridcolor": "white",
             "linecolor": "white",
             "minorgridcolor": "white",
             "startlinecolor": "#2a3f5f"
            },
            "type": "carpet"
           }
          ],
          "choropleth": [
           {
            "colorbar": {
             "outlinewidth": 0,
             "ticks": ""
            },
            "type": "choropleth"
           }
          ],
          "contour": [
           {
            "colorbar": {
             "outlinewidth": 0,
             "ticks": ""
            },
            "colorscale": [
             [
              0,
              "#0d0887"
             ],
             [
              0.1111111111111111,
              "#46039f"
             ],
             [
              0.2222222222222222,
              "#7201a8"
             ],
             [
              0.3333333333333333,
              "#9c179e"
             ],
             [
              0.4444444444444444,
              "#bd3786"
             ],
             [
              0.5555555555555556,
              "#d8576b"
             ],
             [
              0.6666666666666666,
              "#ed7953"
             ],
             [
              0.7777777777777778,
              "#fb9f3a"
             ],
             [
              0.8888888888888888,
              "#fdca26"
             ],
             [
              1,
              "#f0f921"
             ]
            ],
            "type": "contour"
           }
          ],
          "contourcarpet": [
           {
            "colorbar": {
             "outlinewidth": 0,
             "ticks": ""
            },
            "type": "contourcarpet"
           }
          ],
          "heatmap": [
           {
            "colorbar": {
             "outlinewidth": 0,
             "ticks": ""
            },
            "colorscale": [
             [
              0,
              "#0d0887"
             ],
             [
              0.1111111111111111,
              "#46039f"
             ],
             [
              0.2222222222222222,
              "#7201a8"
             ],
             [
              0.3333333333333333,
              "#9c179e"
             ],
             [
              0.4444444444444444,
              "#bd3786"
             ],
             [
              0.5555555555555556,
              "#d8576b"
             ],
             [
              0.6666666666666666,
              "#ed7953"
             ],
             [
              0.7777777777777778,
              "#fb9f3a"
             ],
             [
              0.8888888888888888,
              "#fdca26"
             ],
             [
              1,
              "#f0f921"
             ]
            ],
            "type": "heatmap"
           }
          ],
          "heatmapgl": [
           {
            "colorbar": {
             "outlinewidth": 0,
             "ticks": ""
            },
            "colorscale": [
             [
              0,
              "#0d0887"
             ],
             [
              0.1111111111111111,
              "#46039f"
             ],
             [
              0.2222222222222222,
              "#7201a8"
             ],
             [
              0.3333333333333333,
              "#9c179e"
             ],
             [
              0.4444444444444444,
              "#bd3786"
             ],
             [
              0.5555555555555556,
              "#d8576b"
             ],
             [
              0.6666666666666666,
              "#ed7953"
             ],
             [
              0.7777777777777778,
              "#fb9f3a"
             ],
             [
              0.8888888888888888,
              "#fdca26"
             ],
             [
              1,
              "#f0f921"
             ]
            ],
            "type": "heatmapgl"
           }
          ],
          "histogram": [
           {
            "marker": {
             "pattern": {
              "fillmode": "overlay",
              "size": 10,
              "solidity": 0.2
             }
            },
            "type": "histogram"
           }
          ],
          "histogram2d": [
           {
            "colorbar": {
             "outlinewidth": 0,
             "ticks": ""
            },
            "colorscale": [
             [
              0,
              "#0d0887"
             ],
             [
              0.1111111111111111,
              "#46039f"
             ],
             [
              0.2222222222222222,
              "#7201a8"
             ],
             [
              0.3333333333333333,
              "#9c179e"
             ],
             [
              0.4444444444444444,
              "#bd3786"
             ],
             [
              0.5555555555555556,
              "#d8576b"
             ],
             [
              0.6666666666666666,
              "#ed7953"
             ],
             [
              0.7777777777777778,
              "#fb9f3a"
             ],
             [
              0.8888888888888888,
              "#fdca26"
             ],
             [
              1,
              "#f0f921"
             ]
            ],
            "type": "histogram2d"
           }
          ],
          "histogram2dcontour": [
           {
            "colorbar": {
             "outlinewidth": 0,
             "ticks": ""
            },
            "colorscale": [
             [
              0,
              "#0d0887"
             ],
             [
              0.1111111111111111,
              "#46039f"
             ],
             [
              0.2222222222222222,
              "#7201a8"
             ],
             [
              0.3333333333333333,
              "#9c179e"
             ],
             [
              0.4444444444444444,
              "#bd3786"
             ],
             [
              0.5555555555555556,
              "#d8576b"
             ],
             [
              0.6666666666666666,
              "#ed7953"
             ],
             [
              0.7777777777777778,
              "#fb9f3a"
             ],
             [
              0.8888888888888888,
              "#fdca26"
             ],
             [
              1,
              "#f0f921"
             ]
            ],
            "type": "histogram2dcontour"
           }
          ],
          "mesh3d": [
           {
            "colorbar": {
             "outlinewidth": 0,
             "ticks": ""
            },
            "type": "mesh3d"
           }
          ],
          "parcoords": [
           {
            "line": {
             "colorbar": {
              "outlinewidth": 0,
              "ticks": ""
             }
            },
            "type": "parcoords"
           }
          ],
          "pie": [
           {
            "automargin": true,
            "type": "pie"
           }
          ],
          "scatter": [
           {
            "fillpattern": {
             "fillmode": "overlay",
             "size": 10,
             "solidity": 0.2
            },
            "type": "scatter"
           }
          ],
          "scatter3d": [
           {
            "line": {
             "colorbar": {
              "outlinewidth": 0,
              "ticks": ""
             }
            },
            "marker": {
             "colorbar": {
              "outlinewidth": 0,
              "ticks": ""
             }
            },
            "type": "scatter3d"
           }
          ],
          "scattercarpet": [
           {
            "marker": {
             "colorbar": {
              "outlinewidth": 0,
              "ticks": ""
             }
            },
            "type": "scattercarpet"
           }
          ],
          "scattergeo": [
           {
            "marker": {
             "colorbar": {
              "outlinewidth": 0,
              "ticks": ""
             }
            },
            "type": "scattergeo"
           }
          ],
          "scattergl": [
           {
            "marker": {
             "colorbar": {
              "outlinewidth": 0,
              "ticks": ""
             }
            },
            "type": "scattergl"
           }
          ],
          "scattermapbox": [
           {
            "marker": {
             "colorbar": {
              "outlinewidth": 0,
              "ticks": ""
             }
            },
            "type": "scattermapbox"
           }
          ],
          "scatterpolar": [
           {
            "marker": {
             "colorbar": {
              "outlinewidth": 0,
              "ticks": ""
             }
            },
            "type": "scatterpolar"
           }
          ],
          "scatterpolargl": [
           {
            "marker": {
             "colorbar": {
              "outlinewidth": 0,
              "ticks": ""
             }
            },
            "type": "scatterpolargl"
           }
          ],
          "scatterternary": [
           {
            "marker": {
             "colorbar": {
              "outlinewidth": 0,
              "ticks": ""
             }
            },
            "type": "scatterternary"
           }
          ],
          "surface": [
           {
            "colorbar": {
             "outlinewidth": 0,
             "ticks": ""
            },
            "colorscale": [
             [
              0,
              "#0d0887"
             ],
             [
              0.1111111111111111,
              "#46039f"
             ],
             [
              0.2222222222222222,
              "#7201a8"
             ],
             [
              0.3333333333333333,
              "#9c179e"
             ],
             [
              0.4444444444444444,
              "#bd3786"
             ],
             [
              0.5555555555555556,
              "#d8576b"
             ],
             [
              0.6666666666666666,
              "#ed7953"
             ],
             [
              0.7777777777777778,
              "#fb9f3a"
             ],
             [
              0.8888888888888888,
              "#fdca26"
             ],
             [
              1,
              "#f0f921"
             ]
            ],
            "type": "surface"
           }
          ],
          "table": [
           {
            "cells": {
             "fill": {
              "color": "#EBF0F8"
             },
             "line": {
              "color": "white"
             }
            },
            "header": {
             "fill": {
              "color": "#C8D4E3"
             },
             "line": {
              "color": "white"
             }
            },
            "type": "table"
           }
          ]
         },
         "layout": {
          "annotationdefaults": {
           "arrowcolor": "#2a3f5f",
           "arrowhead": 0,
           "arrowwidth": 1
          },
          "autotypenumbers": "strict",
          "coloraxis": {
           "colorbar": {
            "outlinewidth": 0,
            "ticks": ""
           }
          },
          "colorscale": {
           "diverging": [
            [
             0,
             "#8e0152"
            ],
            [
             0.1,
             "#c51b7d"
            ],
            [
             0.2,
             "#de77ae"
            ],
            [
             0.3,
             "#f1b6da"
            ],
            [
             0.4,
             "#fde0ef"
            ],
            [
             0.5,
             "#f7f7f7"
            ],
            [
             0.6,
             "#e6f5d0"
            ],
            [
             0.7,
             "#b8e186"
            ],
            [
             0.8,
             "#7fbc41"
            ],
            [
             0.9,
             "#4d9221"
            ],
            [
             1,
             "#276419"
            ]
           ],
           "sequential": [
            [
             0,
             "#0d0887"
            ],
            [
             0.1111111111111111,
             "#46039f"
            ],
            [
             0.2222222222222222,
             "#7201a8"
            ],
            [
             0.3333333333333333,
             "#9c179e"
            ],
            [
             0.4444444444444444,
             "#bd3786"
            ],
            [
             0.5555555555555556,
             "#d8576b"
            ],
            [
             0.6666666666666666,
             "#ed7953"
            ],
            [
             0.7777777777777778,
             "#fb9f3a"
            ],
            [
             0.8888888888888888,
             "#fdca26"
            ],
            [
             1,
             "#f0f921"
            ]
           ],
           "sequentialminus": [
            [
             0,
             "#0d0887"
            ],
            [
             0.1111111111111111,
             "#46039f"
            ],
            [
             0.2222222222222222,
             "#7201a8"
            ],
            [
             0.3333333333333333,
             "#9c179e"
            ],
            [
             0.4444444444444444,
             "#bd3786"
            ],
            [
             0.5555555555555556,
             "#d8576b"
            ],
            [
             0.6666666666666666,
             "#ed7953"
            ],
            [
             0.7777777777777778,
             "#fb9f3a"
            ],
            [
             0.8888888888888888,
             "#fdca26"
            ],
            [
             1,
             "#f0f921"
            ]
           ]
          },
          "colorway": [
           "#636efa",
           "#EF553B",
           "#00cc96",
           "#ab63fa",
           "#FFA15A",
           "#19d3f3",
           "#FF6692",
           "#B6E880",
           "#FF97FF",
           "#FECB52"
          ],
          "font": {
           "color": "#2a3f5f"
          },
          "geo": {
           "bgcolor": "white",
           "lakecolor": "white",
           "landcolor": "#E5ECF6",
           "showlakes": true,
           "showland": true,
           "subunitcolor": "white"
          },
          "hoverlabel": {
           "align": "left"
          },
          "hovermode": "closest",
          "mapbox": {
           "style": "light"
          },
          "paper_bgcolor": "white",
          "plot_bgcolor": "#E5ECF6",
          "polar": {
           "angularaxis": {
            "gridcolor": "white",
            "linecolor": "white",
            "ticks": ""
           },
           "bgcolor": "#E5ECF6",
           "radialaxis": {
            "gridcolor": "white",
            "linecolor": "white",
            "ticks": ""
           }
          },
          "scene": {
           "xaxis": {
            "backgroundcolor": "#E5ECF6",
            "gridcolor": "white",
            "gridwidth": 2,
            "linecolor": "white",
            "showbackground": true,
            "ticks": "",
            "zerolinecolor": "white"
           },
           "yaxis": {
            "backgroundcolor": "#E5ECF6",
            "gridcolor": "white",
            "gridwidth": 2,
            "linecolor": "white",
            "showbackground": true,
            "ticks": "",
            "zerolinecolor": "white"
           },
           "zaxis": {
            "backgroundcolor": "#E5ECF6",
            "gridcolor": "white",
            "gridwidth": 2,
            "linecolor": "white",
            "showbackground": true,
            "ticks": "",
            "zerolinecolor": "white"
           }
          },
          "shapedefaults": {
           "line": {
            "color": "#2a3f5f"
           }
          },
          "ternary": {
           "aaxis": {
            "gridcolor": "white",
            "linecolor": "white",
            "ticks": ""
           },
           "baxis": {
            "gridcolor": "white",
            "linecolor": "white",
            "ticks": ""
           },
           "bgcolor": "#E5ECF6",
           "caxis": {
            "gridcolor": "white",
            "linecolor": "white",
            "ticks": ""
           }
          },
          "title": {
           "x": 0.05
          },
          "xaxis": {
           "automargin": true,
           "gridcolor": "white",
           "linecolor": "white",
           "ticks": "",
           "title": {
            "standoff": 15
           },
           "zerolinecolor": "white",
           "zerolinewidth": 2
          },
          "yaxis": {
           "automargin": true,
           "gridcolor": "white",
           "linecolor": "white",
           "ticks": "",
           "title": {
            "standoff": 15
           },
           "zerolinecolor": "white",
           "zerolinewidth": 2
          }
         }
        },
        "title": {
         "text": "Stacked Bar Chart"
        },
        "xaxis": {
         "categoryarray": [
          1,
          2,
          3,
          4,
          123,
          5,
          124
         ],
         "ticktext": [
          "Lovecraft, Supernatural Horror in Literature",
          "Tyson, Critical Theory Today",
          "Moorcock, Foreweird",
          "VanderMeers, Introduction",
          "Lovecraft, Notes on Writing Weird Fiction",
          "Freud, The Uncanny",
          "Fisher, The Weird and the Eerie"
         ],
         "tickvals": [
          1,
          2,
          3,
          4,
          123,
          5,
          124
         ],
         "title": {
          "text": "Author Mentions"
         },
         "type": "category"
        },
        "yaxis": {
         "title": {
          "text": "Count"
         }
        }
       }
      }
     },
     "metadata": {},
     "output_type": "display_data"
    }
   ],
   "source": [
    "import plotly.graph_objects as go\n",
    "fig = go.Figure()\n",
    "\n",
    "author_mapping = {\n",
    "    1: \"Lovecraft, Supernatural Horror in Literature\",\n",
    "    2: \"Tyson, Critical Theory Today\",\n",
    "    3: \"Moorcock, Foreweird\",\n",
    "    4: \"VanderMeers, Introduction\",\n",
    "    5: \"Freud, The Uncanny\",\n",
    "    123: \"Lovecraft, Notes on Writing Weird Fiction\",\n",
    "    124: \"Fisher, The Weird and the Eerie\"\n",
    "}\n",
    "\n",
    "for semester_year in df_grouped['semester_year'].unique():\n",
    "    data = df_grouped[df_grouped['semester_year'] == semester_year]\n",
    "    fig.add_trace(go.Bar(x=author_mentions, y=data['count'], name=semester_year))\n",
    "\n",
    "ticklabels = [author_mapping.get(val, val) for val in author_mentions]\n",
    "tickvals = author_mentions\n",
    "ticktext = [author_mapping[val] for val in author_mentions]\n",
    "\n",
    "fig.update_xaxes(\n",
    "    type='category',\n",
    "    categoryarray=author_mentions,\n",
    "    ticktext=ticklabels,\n",
    "    tickvals=tickvals,\n",
    "    title='Author Mentions'\n",
    ")\n",
    "\n",
    "fig.update_layout(\n",
    "    title='Stacked Bar Chart',\n",
    "    yaxis=dict(title='Count'),\n",
    "    barmode='stack'\n",
    ")\n",
    "\n",
    "fig.show()"
   ]
  },
  {
   "cell_type": "code",
   "execution_count": 56,
   "metadata": {},
   "outputs": [
    {
     "data": {
      "application/vnd.plotly.v1+json": {
       "config": {
        "plotlyServerURL": "https://plot.ly"
       },
       "data": [
        {
         "name": "1",
         "type": "bar",
         "x": [
          "fall_2019",
          "fall_2019",
          "fall_2019",
          "fall_2019",
          "fall_2019",
          "fall_2019",
          "fall_2019",
          "fall_2019",
          "fall_2019",
          "fall_2019",
          "fall_2019",
          "fall_2019",
          "fall_2019",
          "fall_2019",
          "fall_2019",
          "fall_2019",
          "fall_2019",
          "fall_2019",
          "fall_2019",
          "fall_2019",
          "fall_2019",
          "fall_2019",
          "fall_2019",
          "fall_2019",
          "fall_2019",
          "fall_2019",
          "spring_2020",
          "spring_2020",
          "spring_2020",
          "spring_2020",
          "spring_2020",
          "spring_2020",
          "spring_2020",
          "spring_2020",
          "spring_2020",
          "spring_2020",
          "spring_2020",
          "spring_2020",
          "summer_2020",
          "summer_2020",
          "summer_2020",
          "summer_2020",
          "summer_2020",
          "summer_2020",
          "summer_2020",
          "summer_2020",
          "fall_2020",
          "fall_2020",
          "fall_2020",
          "fall_2020",
          "fall_2020",
          "fall_2020",
          "fall_2020",
          "fall_2020",
          "fall_2020",
          "fall_2020",
          "fall_2020",
          "fall_2020",
          "fall_2020",
          "fall_2020",
          "fall_2020",
          "fall_2020",
          "fall_2020",
          "fall_2020",
          "fall_2020",
          "fall_2020",
          "fall_2020",
          "fall_2020",
          "fall_2020",
          "fall_2020",
          "fall_2020",
          "fall_2020",
          "fall_2020",
          "fall_2020",
          "fall_2020",
          "fall_2020",
          "fall_2020",
          "fall_2020",
          "fall_2020",
          "fall_2020",
          "fall_2020",
          "spring_2021",
          "spring_2021",
          "spring_2021",
          "spring_2021",
          "spring_2021",
          "spring_2021",
          "spring_2021",
          "spring_2021",
          "spring_2021",
          "spring_2021",
          "spring_2021",
          "spring_2021",
          "spring_2021",
          "spring_2021",
          "spring_2021",
          "spring_2021",
          "spring_2021",
          "spring_2021",
          "spring_2021",
          "spring_2021",
          "spring_2021",
          "spring_2021",
          "spring_2021",
          "spring_2021",
          "spring_2021",
          "spring_2021",
          "spring_2021",
          "spring_2021",
          "spring_2021",
          "spring_2021",
          "spring_2021",
          "spring_2021",
          "spring_2021",
          "spring_2021",
          "spring_2021",
          "spring_2021",
          "spring_2021",
          "spring_2021",
          "spring_2021",
          "spring_2021",
          "spring_2021",
          "spring_2021",
          "spring_2021",
          "spring_2021",
          "spring_2021",
          "summer_2021",
          "summer_2021",
          "summer_2021",
          "fall_2021",
          "fall_2021",
          "fall_2021",
          "fall_2021",
          "fall_2021",
          "fall_2021",
          "fall_2021",
          "fall_2021",
          "fall_2021",
          "fall_2021",
          "fall_2021",
          "fall_2021",
          "fall_2021",
          "fall_2021",
          "fall_2021",
          "fall_2021",
          "fall_2021",
          "fall_2021",
          "fall_2021",
          "fall_2021",
          "fall_2021",
          "fall_2021",
          "fall_2021",
          "fall_2021",
          "fall_2021",
          "fall_2021",
          "fall_2021",
          "fall_2021",
          "fall_2021",
          "fall_2021",
          "fall_2021",
          "fall_2021",
          "fall_2021",
          "fall_2021",
          "spring_2022",
          "spring_2022",
          "spring_2022",
          "spring_2022",
          "spring_2022",
          "spring_2022",
          "spring_2022",
          "spring_2022",
          "spring_2022",
          "spring_2022",
          "spring_2022",
          "spring_2022",
          "spring_2022",
          "spring_2022",
          "spring_2022",
          "spring_2022",
          "spring_2022",
          "spring_2022",
          "spring_2022",
          "spring_2022",
          "spring_2022",
          "spring_2022",
          "spring_2022",
          "spring_2022",
          "fall_2022",
          "fall_2022",
          "fall_2022",
          "fall_2022",
          "fall_2022",
          "fall_2022",
          "fall_2022",
          "fall_2022",
          "fall_2022",
          "fall_2022",
          "fall_2022",
          "fall_2022",
          "fall_2022",
          "fall_2022",
          "fall_2022",
          "fall_2022",
          "fall_2022",
          "fall_2022",
          "fall_2022",
          "fall_2022",
          "fall_2022",
          "fall_2022",
          "fall_2022",
          "fall_2022",
          "fall_2022",
          "fall_2022",
          "fall_2022",
          "fall_2022",
          "fall_2022",
          "fall_2022",
          "fall_2022",
          "fall_2022",
          "fall_2022",
          "fall_2022",
          "fall_2022",
          "fall_2022",
          "fall_2022",
          "spring_2023",
          "spring_2023",
          "spring_2023",
          "spring_2023",
          "spring_2023",
          "spring_2023",
          "spring_2023",
          "spring_2023",
          "spring_2023",
          "spring_2023",
          "spring_2023",
          "spring_2023",
          "spring_2023",
          "spring_2023",
          "spring_2023",
          "spring_2023",
          "spring_2023",
          "spring_2023",
          "spring_2023",
          "spring_2023",
          "spring_2023",
          "spring_2023",
          "spring_2023",
          "spring_2023",
          "spring_2023",
          "spring_2023",
          "spring_2023",
          "spring_2023",
          "spring_2023",
          "spring_2023",
          "spring_2023",
          "spring_2023"
         ],
         "y": [
          1,
          1,
          2,
          1,
          1,
          2,
          1,
          1,
          2,
          2,
          2,
          1,
          1,
          2,
          1,
          2,
          1,
          1,
          2,
          1,
          1,
          1,
          1,
          1,
          1,
          1,
          1,
          1,
          2,
          1,
          1,
          2,
          1,
          1,
          1,
          2,
          1,
          1,
          1,
          1,
          1,
          1,
          1,
          1,
          1,
          1,
          1,
          1,
          1,
          1,
          1,
          1,
          1,
          1,
          1,
          1,
          2,
          1,
          2,
          1,
          2,
          1,
          1,
          1,
          1,
          1,
          1,
          1,
          2,
          2,
          1,
          1,
          1,
          1,
          1,
          1,
          1,
          1,
          1,
          1,
          1,
          1,
          1,
          1,
          1,
          1,
          1,
          1,
          1,
          1,
          1,
          1,
          1,
          1,
          1,
          1,
          1,
          1,
          1,
          1,
          1,
          1,
          1,
          1,
          1,
          1,
          1,
          1,
          1,
          1,
          1,
          1,
          1,
          1,
          1,
          1,
          1,
          1,
          1,
          1,
          1,
          1,
          1,
          1,
          1,
          1,
          1,
          1,
          1,
          1,
          2,
          2,
          2,
          1,
          2,
          2,
          2,
          2,
          1,
          1,
          2,
          2,
          2,
          1,
          2,
          2,
          1,
          2,
          2,
          2,
          1,
          1,
          1,
          1,
          2,
          1,
          1,
          1,
          1,
          1,
          1,
          1,
          1,
          1,
          1,
          1,
          1,
          1,
          2,
          1,
          1,
          1,
          2,
          1,
          1,
          1,
          1,
          2,
          1,
          1,
          2,
          1,
          1,
          1,
          1,
          1,
          1,
          1,
          2,
          2,
          1,
          1,
          1,
          1,
          1,
          2,
          1,
          1,
          2,
          2,
          1,
          1,
          1,
          1,
          1,
          1,
          2,
          1,
          1,
          1,
          2,
          2,
          1,
          1,
          2,
          1,
          1,
          1,
          2,
          1,
          1,
          1,
          1,
          1,
          1,
          1,
          1,
          1,
          1,
          2,
          2,
          1,
          1,
          2,
          1,
          1,
          1,
          2,
          1,
          2,
          1,
          1,
          2,
          2,
          1,
          1,
          2,
          1,
          1,
          2,
          1,
          1,
          1,
          1,
          1,
          1
         ]
        },
        {
         "name": "2",
         "type": "bar",
         "x": [
          "fall_2019",
          "fall_2019",
          "fall_2019",
          "fall_2019",
          "fall_2019",
          "fall_2019",
          "fall_2019",
          "fall_2019",
          "fall_2019",
          "fall_2019",
          "spring_2020",
          "spring_2020",
          "spring_2020",
          "spring_2020",
          "spring_2020",
          "fall_2020",
          "spring_2021",
          "spring_2021",
          "spring_2021",
          "fall_2021",
          "fall_2021",
          "fall_2021",
          "spring_2022"
         ],
         "y": [
          4,
          3,
          4,
          1,
          1,
          3,
          3,
          4,
          4,
          2,
          4,
          3,
          1,
          4,
          4,
          6,
          1,
          1,
          1,
          4,
          1,
          1,
          1
         ]
        },
        {
         "name": "3",
         "type": "bar",
         "x": [
          "fall_2019",
          "fall_2019",
          "fall_2019",
          "spring_2020",
          "spring_2020",
          "fall_2020",
          "fall_2020",
          "fall_2021",
          "fall_2021",
          "fall_2022",
          "fall_2022",
          "fall_2022",
          "fall_2022",
          "fall_2022",
          "fall_2022",
          "fall_2022",
          "fall_2022",
          "fall_2022",
          "fall_2022",
          "fall_2022",
          "fall_2022",
          "fall_2022",
          "spring_2023",
          "spring_2023"
         ],
         "y": [
          3,
          2,
          1,
          3,
          1,
          2,
          1,
          2,
          2,
          2,
          3,
          2,
          1,
          2,
          2,
          2,
          2,
          1,
          2,
          1,
          1,
          1,
          3,
          2
         ]
        },
        {
         "name": "4",
         "type": "bar",
         "x": [
          "fall_2019",
          "fall_2019",
          "fall_2019",
          "fall_2019",
          "fall_2019",
          "fall_2019",
          "fall_2019",
          "fall_2019",
          "fall_2019",
          "fall_2019",
          "fall_2019",
          "fall_2019",
          "fall_2019",
          "fall_2019",
          "fall_2019",
          "fall_2019",
          "spring_2020",
          "spring_2020",
          "spring_2020",
          "spring_2020",
          "spring_2020",
          "spring_2020",
          "summer_2020",
          "summer_2020",
          "fall_2020",
          "fall_2020",
          "fall_2020",
          "fall_2020",
          "fall_2020",
          "fall_2020",
          "fall_2020",
          "fall_2020",
          "fall_2020",
          "spring_2021",
          "spring_2021",
          "spring_2021",
          "spring_2021",
          "spring_2021",
          "spring_2021",
          "summer_2021",
          "summer_2021",
          "fall_2021",
          "fall_2021",
          "fall_2021",
          "fall_2021",
          "fall_2021",
          "fall_2021",
          "fall_2021",
          "fall_2021",
          "fall_2021",
          "fall_2021",
          "fall_2021",
          "fall_2021",
          "fall_2021",
          "fall_2021",
          "fall_2021",
          "fall_2021",
          "fall_2021",
          "spring_2022",
          "spring_2022",
          "fall_2022",
          "fall_2022",
          "fall_2022",
          "fall_2022",
          "fall_2022",
          "fall_2022",
          "fall_2022",
          "fall_2022",
          "fall_2022",
          "fall_2022",
          "fall_2022",
          "fall_2022",
          "fall_2022",
          "fall_2022",
          "fall_2022",
          "fall_2022",
          "fall_2022",
          "spring_2023",
          "spring_2023",
          "spring_2023",
          "spring_2023",
          "spring_2023",
          "spring_2023",
          "spring_2023"
         ],
         "y": [
          1,
          2,
          1,
          1,
          1,
          1,
          1,
          1,
          1,
          1,
          1,
          1,
          1,
          1,
          1,
          1,
          1,
          1,
          1,
          1,
          1,
          1,
          1,
          1,
          1,
          1,
          1,
          1,
          1,
          1,
          1,
          1,
          1,
          1,
          1,
          1,
          1,
          1,
          1,
          1,
          1,
          1,
          1,
          1,
          1,
          1,
          1,
          1,
          1,
          1,
          1,
          1,
          1,
          1,
          1,
          1,
          1,
          1,
          1,
          1,
          1,
          1,
          1,
          1,
          1,
          1,
          1,
          2,
          1,
          1,
          1,
          1,
          1,
          1,
          1,
          1,
          1,
          2,
          2,
          1,
          1,
          1,
          1,
          1
         ]
        },
        {
         "name": "123",
         "type": "bar",
         "x": [
          "fall_2019",
          "spring_2020",
          "summer_2020",
          "fall_2020",
          "fall_2020",
          "fall_2020",
          "fall_2021",
          "fall_2021",
          "spring_2022",
          "spring_2022",
          "spring_2022",
          "fall_2022",
          "fall_2022",
          "fall_2022",
          "fall_2022",
          "spring_2023"
         ],
         "y": [
          3,
          1,
          3,
          3,
          3,
          3,
          3,
          3,
          3,
          3,
          3,
          1,
          3,
          3,
          3,
          3
         ]
        },
        {
         "name": "5",
         "type": "bar",
         "x": [
          "fall_2019",
          "fall_2019",
          "fall_2019",
          "fall_2019",
          "fall_2019",
          "fall_2019",
          "fall_2019",
          "spring_2020",
          "spring_2020",
          "spring_2020",
          "spring_2020",
          "summer_2020",
          "summer_2020",
          "fall_2020",
          "fall_2020",
          "fall_2020",
          "fall_2020",
          "fall_2020",
          "fall_2020",
          "fall_2020",
          "fall_2020",
          "fall_2020",
          "fall_2020",
          "fall_2020",
          "fall_2020",
          "fall_2020",
          "fall_2020",
          "fall_2020",
          "fall_2020",
          "fall_2020",
          "fall_2020",
          "fall_2020",
          "fall_2020",
          "fall_2020",
          "spring_2021",
          "spring_2021",
          "spring_2021",
          "spring_2021",
          "spring_2021",
          "spring_2021",
          "spring_2021",
          "spring_2021",
          "spring_2021",
          "spring_2021",
          "spring_2021",
          "spring_2021",
          "spring_2021",
          "spring_2021",
          "spring_2021",
          "spring_2021",
          "spring_2021",
          "spring_2021",
          "spring_2021",
          "spring_2021",
          "spring_2021",
          "spring_2021",
          "spring_2021",
          "spring_2021",
          "spring_2021",
          "spring_2021",
          "spring_2021",
          "fall_2021",
          "fall_2021",
          "fall_2021",
          "fall_2021",
          "fall_2021",
          "fall_2021",
          "fall_2021",
          "fall_2021",
          "fall_2021",
          "fall_2021",
          "fall_2021",
          "fall_2021",
          "fall_2021",
          "fall_2021",
          "fall_2021",
          "fall_2021",
          "fall_2021",
          "fall_2021",
          "fall_2021",
          "fall_2021",
          "fall_2021",
          "spring_2022",
          "spring_2022",
          "spring_2022",
          "spring_2022",
          "spring_2022",
          "spring_2022",
          "spring_2022",
          "spring_2022",
          "spring_2022",
          "spring_2022",
          "spring_2022",
          "spring_2022",
          "spring_2022",
          "spring_2022",
          "fall_2022",
          "fall_2022",
          "fall_2022",
          "fall_2022",
          "fall_2022",
          "fall_2022",
          "fall_2022",
          "fall_2022",
          "fall_2022",
          "fall_2022",
          "fall_2022",
          "fall_2022",
          "fall_2022",
          "fall_2022",
          "fall_2022",
          "fall_2022",
          "fall_2022",
          "fall_2022",
          "fall_2022",
          "fall_2022",
          "fall_2022",
          "fall_2022",
          "fall_2022",
          "fall_2022",
          "fall_2022",
          "fall_2022",
          "fall_2022",
          "fall_2022",
          "spring_2023",
          "spring_2023",
          "spring_2023",
          "spring_2023",
          "spring_2023",
          "spring_2023",
          "spring_2023",
          "spring_2023",
          "spring_2023",
          "spring_2023",
          "spring_2023",
          "spring_2023",
          "spring_2023",
          "spring_2023",
          "spring_2023",
          "spring_2023",
          "spring_2023",
          "spring_2023",
          "spring_2023",
          "spring_2023"
         ],
         "y": [
          1,
          4,
          4,
          1,
          1,
          1,
          1,
          1,
          1,
          1,
          1,
          1,
          1,
          1,
          1,
          4,
          1,
          1,
          1,
          1,
          1,
          4,
          2,
          1,
          1,
          1,
          1,
          1,
          1,
          2,
          1,
          1,
          1,
          1,
          1,
          1,
          1,
          1,
          1,
          1,
          1,
          1,
          1,
          1,
          1,
          1,
          1,
          2,
          1,
          1,
          1,
          1,
          2,
          1,
          2,
          2,
          1,
          2,
          1,
          1,
          1,
          2,
          1,
          2,
          1,
          2,
          1,
          1,
          1,
          2,
          1,
          2,
          4,
          1,
          1,
          2,
          3,
          2,
          1,
          1,
          1,
          1,
          2,
          4,
          2,
          1,
          1,
          3,
          2,
          4,
          1,
          2,
          4,
          4,
          1,
          1,
          1,
          2,
          1,
          1,
          2,
          1,
          1,
          1,
          3,
          4,
          4,
          1,
          1,
          1,
          1,
          1,
          4,
          1,
          2,
          4,
          1,
          1,
          2,
          3,
          1,
          2,
          1,
          1,
          3,
          1,
          3,
          1,
          1,
          1,
          1,
          3,
          1,
          2,
          3,
          2,
          1,
          1,
          4,
          1,
          1,
          1,
          1,
          1
         ]
        },
        {
         "name": "124",
         "type": "bar",
         "x": [
          "fall_2020",
          "fall_2020",
          "fall_2020",
          "fall_2020",
          "fall_2020",
          "fall_2020",
          "fall_2020",
          "fall_2020",
          "fall_2020",
          "fall_2020",
          "fall_2020",
          "fall_2020",
          "fall_2020",
          "fall_2020",
          "fall_2020",
          "fall_2020",
          "spring_2021",
          "spring_2021",
          "spring_2021",
          "spring_2021",
          "spring_2021",
          "spring_2021",
          "spring_2021",
          "spring_2021",
          "spring_2021",
          "spring_2021",
          "spring_2021",
          "spring_2021",
          "spring_2021",
          "spring_2021",
          "spring_2021",
          "spring_2021",
          "spring_2021",
          "spring_2021",
          "spring_2021",
          "spring_2021",
          "spring_2021",
          "fall_2021",
          "fall_2021",
          "fall_2021",
          "fall_2021",
          "fall_2021",
          "fall_2021",
          "fall_2021",
          "fall_2021",
          "fall_2021",
          "fall_2021",
          "fall_2021",
          "fall_2021",
          "fall_2021",
          "fall_2021",
          "fall_2021",
          "fall_2021",
          "fall_2021",
          "spring_2022",
          "spring_2022",
          "spring_2022",
          "spring_2022",
          "spring_2022",
          "spring_2022",
          "spring_2022",
          "spring_2022",
          "spring_2022",
          "spring_2022",
          "spring_2022",
          "spring_2022",
          "fall_2022",
          "fall_2022",
          "fall_2022",
          "fall_2022",
          "fall_2022",
          "fall_2022",
          "fall_2022",
          "fall_2022",
          "fall_2022",
          "fall_2022",
          "fall_2022",
          "fall_2022",
          "fall_2022",
          "fall_2022",
          "fall_2022",
          "fall_2022",
          "spring_2023",
          "spring_2023",
          "spring_2023",
          "spring_2023",
          "spring_2023",
          "spring_2023",
          "spring_2023",
          "spring_2023",
          "spring_2023",
          "spring_2023",
          "spring_2023",
          "spring_2023",
          "spring_2023"
         ],
         "y": [
          2,
          3,
          1,
          1,
          3,
          2,
          1,
          1,
          2,
          3,
          2,
          1,
          1,
          1,
          3,
          3,
          1,
          1,
          1,
          1,
          1,
          1,
          1,
          1,
          2,
          1,
          1,
          1,
          1,
          1,
          1,
          1,
          3,
          1,
          1,
          1,
          1,
          1,
          1,
          3,
          3,
          3,
          1,
          1,
          2,
          3,
          1,
          1,
          2,
          1,
          3,
          3,
          3,
          3,
          1,
          1,
          1,
          3,
          1,
          2,
          2,
          1,
          3,
          3,
          3,
          3,
          1,
          3,
          1,
          1,
          3,
          2,
          2,
          1,
          1,
          1,
          2,
          2,
          2,
          2,
          2,
          2,
          2,
          2,
          3,
          2,
          2,
          2,
          2,
          3,
          3,
          2,
          2,
          2,
          3
         ]
        }
       ],
       "layout": {
        "barmode": "stack",
        "height": 500,
        "template": {
         "data": {
          "bar": [
           {
            "error_x": {
             "color": "#2a3f5f"
            },
            "error_y": {
             "color": "#2a3f5f"
            },
            "marker": {
             "line": {
              "color": "#E5ECF6",
              "width": 0.5
             },
             "pattern": {
              "fillmode": "overlay",
              "size": 10,
              "solidity": 0.2
             }
            },
            "type": "bar"
           }
          ],
          "barpolar": [
           {
            "marker": {
             "line": {
              "color": "#E5ECF6",
              "width": 0.5
             },
             "pattern": {
              "fillmode": "overlay",
              "size": 10,
              "solidity": 0.2
             }
            },
            "type": "barpolar"
           }
          ],
          "carpet": [
           {
            "aaxis": {
             "endlinecolor": "#2a3f5f",
             "gridcolor": "white",
             "linecolor": "white",
             "minorgridcolor": "white",
             "startlinecolor": "#2a3f5f"
            },
            "baxis": {
             "endlinecolor": "#2a3f5f",
             "gridcolor": "white",
             "linecolor": "white",
             "minorgridcolor": "white",
             "startlinecolor": "#2a3f5f"
            },
            "type": "carpet"
           }
          ],
          "choropleth": [
           {
            "colorbar": {
             "outlinewidth": 0,
             "ticks": ""
            },
            "type": "choropleth"
           }
          ],
          "contour": [
           {
            "colorbar": {
             "outlinewidth": 0,
             "ticks": ""
            },
            "colorscale": [
             [
              0,
              "#0d0887"
             ],
             [
              0.1111111111111111,
              "#46039f"
             ],
             [
              0.2222222222222222,
              "#7201a8"
             ],
             [
              0.3333333333333333,
              "#9c179e"
             ],
             [
              0.4444444444444444,
              "#bd3786"
             ],
             [
              0.5555555555555556,
              "#d8576b"
             ],
             [
              0.6666666666666666,
              "#ed7953"
             ],
             [
              0.7777777777777778,
              "#fb9f3a"
             ],
             [
              0.8888888888888888,
              "#fdca26"
             ],
             [
              1,
              "#f0f921"
             ]
            ],
            "type": "contour"
           }
          ],
          "contourcarpet": [
           {
            "colorbar": {
             "outlinewidth": 0,
             "ticks": ""
            },
            "type": "contourcarpet"
           }
          ],
          "heatmap": [
           {
            "colorbar": {
             "outlinewidth": 0,
             "ticks": ""
            },
            "colorscale": [
             [
              0,
              "#0d0887"
             ],
             [
              0.1111111111111111,
              "#46039f"
             ],
             [
              0.2222222222222222,
              "#7201a8"
             ],
             [
              0.3333333333333333,
              "#9c179e"
             ],
             [
              0.4444444444444444,
              "#bd3786"
             ],
             [
              0.5555555555555556,
              "#d8576b"
             ],
             [
              0.6666666666666666,
              "#ed7953"
             ],
             [
              0.7777777777777778,
              "#fb9f3a"
             ],
             [
              0.8888888888888888,
              "#fdca26"
             ],
             [
              1,
              "#f0f921"
             ]
            ],
            "type": "heatmap"
           }
          ],
          "heatmapgl": [
           {
            "colorbar": {
             "outlinewidth": 0,
             "ticks": ""
            },
            "colorscale": [
             [
              0,
              "#0d0887"
             ],
             [
              0.1111111111111111,
              "#46039f"
             ],
             [
              0.2222222222222222,
              "#7201a8"
             ],
             [
              0.3333333333333333,
              "#9c179e"
             ],
             [
              0.4444444444444444,
              "#bd3786"
             ],
             [
              0.5555555555555556,
              "#d8576b"
             ],
             [
              0.6666666666666666,
              "#ed7953"
             ],
             [
              0.7777777777777778,
              "#fb9f3a"
             ],
             [
              0.8888888888888888,
              "#fdca26"
             ],
             [
              1,
              "#f0f921"
             ]
            ],
            "type": "heatmapgl"
           }
          ],
          "histogram": [
           {
            "marker": {
             "pattern": {
              "fillmode": "overlay",
              "size": 10,
              "solidity": 0.2
             }
            },
            "type": "histogram"
           }
          ],
          "histogram2d": [
           {
            "colorbar": {
             "outlinewidth": 0,
             "ticks": ""
            },
            "colorscale": [
             [
              0,
              "#0d0887"
             ],
             [
              0.1111111111111111,
              "#46039f"
             ],
             [
              0.2222222222222222,
              "#7201a8"
             ],
             [
              0.3333333333333333,
              "#9c179e"
             ],
             [
              0.4444444444444444,
              "#bd3786"
             ],
             [
              0.5555555555555556,
              "#d8576b"
             ],
             [
              0.6666666666666666,
              "#ed7953"
             ],
             [
              0.7777777777777778,
              "#fb9f3a"
             ],
             [
              0.8888888888888888,
              "#fdca26"
             ],
             [
              1,
              "#f0f921"
             ]
            ],
            "type": "histogram2d"
           }
          ],
          "histogram2dcontour": [
           {
            "colorbar": {
             "outlinewidth": 0,
             "ticks": ""
            },
            "colorscale": [
             [
              0,
              "#0d0887"
             ],
             [
              0.1111111111111111,
              "#46039f"
             ],
             [
              0.2222222222222222,
              "#7201a8"
             ],
             [
              0.3333333333333333,
              "#9c179e"
             ],
             [
              0.4444444444444444,
              "#bd3786"
             ],
             [
              0.5555555555555556,
              "#d8576b"
             ],
             [
              0.6666666666666666,
              "#ed7953"
             ],
             [
              0.7777777777777778,
              "#fb9f3a"
             ],
             [
              0.8888888888888888,
              "#fdca26"
             ],
             [
              1,
              "#f0f921"
             ]
            ],
            "type": "histogram2dcontour"
           }
          ],
          "mesh3d": [
           {
            "colorbar": {
             "outlinewidth": 0,
             "ticks": ""
            },
            "type": "mesh3d"
           }
          ],
          "parcoords": [
           {
            "line": {
             "colorbar": {
              "outlinewidth": 0,
              "ticks": ""
             }
            },
            "type": "parcoords"
           }
          ],
          "pie": [
           {
            "automargin": true,
            "type": "pie"
           }
          ],
          "scatter": [
           {
            "fillpattern": {
             "fillmode": "overlay",
             "size": 10,
             "solidity": 0.2
            },
            "type": "scatter"
           }
          ],
          "scatter3d": [
           {
            "line": {
             "colorbar": {
              "outlinewidth": 0,
              "ticks": ""
             }
            },
            "marker": {
             "colorbar": {
              "outlinewidth": 0,
              "ticks": ""
             }
            },
            "type": "scatter3d"
           }
          ],
          "scattercarpet": [
           {
            "marker": {
             "colorbar": {
              "outlinewidth": 0,
              "ticks": ""
             }
            },
            "type": "scattercarpet"
           }
          ],
          "scattergeo": [
           {
            "marker": {
             "colorbar": {
              "outlinewidth": 0,
              "ticks": ""
             }
            },
            "type": "scattergeo"
           }
          ],
          "scattergl": [
           {
            "marker": {
             "colorbar": {
              "outlinewidth": 0,
              "ticks": ""
             }
            },
            "type": "scattergl"
           }
          ],
          "scattermapbox": [
           {
            "marker": {
             "colorbar": {
              "outlinewidth": 0,
              "ticks": ""
             }
            },
            "type": "scattermapbox"
           }
          ],
          "scatterpolar": [
           {
            "marker": {
             "colorbar": {
              "outlinewidth": 0,
              "ticks": ""
             }
            },
            "type": "scatterpolar"
           }
          ],
          "scatterpolargl": [
           {
            "marker": {
             "colorbar": {
              "outlinewidth": 0,
              "ticks": ""
             }
            },
            "type": "scatterpolargl"
           }
          ],
          "scatterternary": [
           {
            "marker": {
             "colorbar": {
              "outlinewidth": 0,
              "ticks": ""
             }
            },
            "type": "scatterternary"
           }
          ],
          "surface": [
           {
            "colorbar": {
             "outlinewidth": 0,
             "ticks": ""
            },
            "colorscale": [
             [
              0,
              "#0d0887"
             ],
             [
              0.1111111111111111,
              "#46039f"
             ],
             [
              0.2222222222222222,
              "#7201a8"
             ],
             [
              0.3333333333333333,
              "#9c179e"
             ],
             [
              0.4444444444444444,
              "#bd3786"
             ],
             [
              0.5555555555555556,
              "#d8576b"
             ],
             [
              0.6666666666666666,
              "#ed7953"
             ],
             [
              0.7777777777777778,
              "#fb9f3a"
             ],
             [
              0.8888888888888888,
              "#fdca26"
             ],
             [
              1,
              "#f0f921"
             ]
            ],
            "type": "surface"
           }
          ],
          "table": [
           {
            "cells": {
             "fill": {
              "color": "#EBF0F8"
             },
             "line": {
              "color": "white"
             }
            },
            "header": {
             "fill": {
              "color": "#C8D4E3"
             },
             "line": {
              "color": "white"
             }
            },
            "type": "table"
           }
          ]
         },
         "layout": {
          "annotationdefaults": {
           "arrowcolor": "#2a3f5f",
           "arrowhead": 0,
           "arrowwidth": 1
          },
          "autotypenumbers": "strict",
          "coloraxis": {
           "colorbar": {
            "outlinewidth": 0,
            "ticks": ""
           }
          },
          "colorscale": {
           "diverging": [
            [
             0,
             "#8e0152"
            ],
            [
             0.1,
             "#c51b7d"
            ],
            [
             0.2,
             "#de77ae"
            ],
            [
             0.3,
             "#f1b6da"
            ],
            [
             0.4,
             "#fde0ef"
            ],
            [
             0.5,
             "#f7f7f7"
            ],
            [
             0.6,
             "#e6f5d0"
            ],
            [
             0.7,
             "#b8e186"
            ],
            [
             0.8,
             "#7fbc41"
            ],
            [
             0.9,
             "#4d9221"
            ],
            [
             1,
             "#276419"
            ]
           ],
           "sequential": [
            [
             0,
             "#0d0887"
            ],
            [
             0.1111111111111111,
             "#46039f"
            ],
            [
             0.2222222222222222,
             "#7201a8"
            ],
            [
             0.3333333333333333,
             "#9c179e"
            ],
            [
             0.4444444444444444,
             "#bd3786"
            ],
            [
             0.5555555555555556,
             "#d8576b"
            ],
            [
             0.6666666666666666,
             "#ed7953"
            ],
            [
             0.7777777777777778,
             "#fb9f3a"
            ],
            [
             0.8888888888888888,
             "#fdca26"
            ],
            [
             1,
             "#f0f921"
            ]
           ],
           "sequentialminus": [
            [
             0,
             "#0d0887"
            ],
            [
             0.1111111111111111,
             "#46039f"
            ],
            [
             0.2222222222222222,
             "#7201a8"
            ],
            [
             0.3333333333333333,
             "#9c179e"
            ],
            [
             0.4444444444444444,
             "#bd3786"
            ],
            [
             0.5555555555555556,
             "#d8576b"
            ],
            [
             0.6666666666666666,
             "#ed7953"
            ],
            [
             0.7777777777777778,
             "#fb9f3a"
            ],
            [
             0.8888888888888888,
             "#fdca26"
            ],
            [
             1,
             "#f0f921"
            ]
           ]
          },
          "colorway": [
           "#636efa",
           "#EF553B",
           "#00cc96",
           "#ab63fa",
           "#FFA15A",
           "#19d3f3",
           "#FF6692",
           "#B6E880",
           "#FF97FF",
           "#FECB52"
          ],
          "font": {
           "color": "#2a3f5f"
          },
          "geo": {
           "bgcolor": "white",
           "lakecolor": "white",
           "landcolor": "#E5ECF6",
           "showlakes": true,
           "showland": true,
           "subunitcolor": "white"
          },
          "hoverlabel": {
           "align": "left"
          },
          "hovermode": "closest",
          "mapbox": {
           "style": "light"
          },
          "paper_bgcolor": "white",
          "plot_bgcolor": "#E5ECF6",
          "polar": {
           "angularaxis": {
            "gridcolor": "white",
            "linecolor": "white",
            "ticks": ""
           },
           "bgcolor": "#E5ECF6",
           "radialaxis": {
            "gridcolor": "white",
            "linecolor": "white",
            "ticks": ""
           }
          },
          "scene": {
           "xaxis": {
            "backgroundcolor": "#E5ECF6",
            "gridcolor": "white",
            "gridwidth": 2,
            "linecolor": "white",
            "showbackground": true,
            "ticks": "",
            "zerolinecolor": "white"
           },
           "yaxis": {
            "backgroundcolor": "#E5ECF6",
            "gridcolor": "white",
            "gridwidth": 2,
            "linecolor": "white",
            "showbackground": true,
            "ticks": "",
            "zerolinecolor": "white"
           },
           "zaxis": {
            "backgroundcolor": "#E5ECF6",
            "gridcolor": "white",
            "gridwidth": 2,
            "linecolor": "white",
            "showbackground": true,
            "ticks": "",
            "zerolinecolor": "white"
           }
          },
          "shapedefaults": {
           "line": {
            "color": "#2a3f5f"
           }
          },
          "ternary": {
           "aaxis": {
            "gridcolor": "white",
            "linecolor": "white",
            "ticks": ""
           },
           "baxis": {
            "gridcolor": "white",
            "linecolor": "white",
            "ticks": ""
           },
           "bgcolor": "#E5ECF6",
           "caxis": {
            "gridcolor": "white",
            "linecolor": "white",
            "ticks": ""
           }
          },
          "title": {
           "x": 0.05
          },
          "xaxis": {
           "automargin": true,
           "gridcolor": "white",
           "linecolor": "white",
           "ticks": "",
           "title": {
            "standoff": 15
           },
           "zerolinecolor": "white",
           "zerolinewidth": 2
          },
          "yaxis": {
           "automargin": true,
           "gridcolor": "white",
           "linecolor": "white",
           "ticks": "",
           "title": {
            "standoff": 15
           },
           "zerolinecolor": "white",
           "zerolinewidth": 2
          }
         }
        },
        "title": {
         "text": "Stacked Bar Chart"
        },
        "width": 1200,
        "xaxis": {
         "categoryarray": [
          "fall_2019",
          "spring_2020",
          "summer_2020",
          "fall_2020",
          "spring_2021",
          "summer_2021",
          "fall_2021",
          "spring_2022",
          "fall_2022",
          "spring_2023"
         ],
         "categoryorder": "array",
         "tickmode": "array",
         "ticktext": [
          "fall_2019",
          "spring_2020",
          "summer_2020",
          "fall_2020",
          "spring_2021",
          "summer_2021",
          "fall_2021",
          "spring_2022",
          "fall_2022",
          "spring_2023"
         ],
         "tickvals": [
          "fall_2019",
          "spring_2020",
          "summer_2020",
          "fall_2020",
          "spring_2021",
          "summer_2021",
          "fall_2021",
          "spring_2022",
          "fall_2022",
          "spring_2023"
         ],
         "title": {
          "text": "Semester Year"
         },
         "type": "category"
        },
        "yaxis": {
         "title": {
          "text": "Count"
         }
        }
       }
      }
     },
     "metadata": {},
     "output_type": "display_data"
    }
   ],
   "source": [
    "fig = go.Figure()\n",
    "\n",
    "for author_mention in df_grouped['author_mentions'].unique():\n",
    "    data = df_grouped[df_grouped['author_mentions'] == author_mention]\n",
    "    fig.add_trace(go.Bar(\n",
    "        x=data['semester_year'],\n",
    "        y=data['count'],\n",
    "        name=str(author_mention),\n",
    "    ))\n",
    "\n",
    "tickvals = df_grouped['semester_year'].unique()\n",
    "ticktext = [str(val) for val in tickvals]\n",
    "semester_year_order = ['fall_2019', 'spring_2020', 'summer_2020', 'fall_2020', 'spring_2021', 'summer_2021', 'fall_2021', 'spring_2022', 'fall_2022', 'spring_2023']\n",
    "\n",
    "fig.update_xaxes(\n",
    "    type='category',\n",
    "    tickmode='array',\n",
    "    tickvals=tickvals,\n",
    "    ticktext=ticktext,\n",
    "    categoryorder='array',\n",
    "    categoryarray=semester_year_order,\n",
    "    title='Semester Year'\n",
    ")\n",
    "\n",
    "fig.update_layout(\n",
    "    title='Stacked Bar Chart',\n",
    "    width=1200,\n",
    "    height=500,\n",
    "    yaxis=dict(title='Count'),\n",
    "    barmode='stack'\n",
    ")\n",
    "\n",
    "fig.show()"
   ]
  },
  {
   "cell_type": "code",
   "execution_count": 57,
   "metadata": {},
   "outputs": [
    {
     "data": {
      "application/vnd.plotly.v1+json": {
       "config": {
        "plotlyServerURL": "https://plot.ly"
       },
       "data": [
        {
         "name": "Lovecraft, Supernatural Horror in Literature",
         "type": "bar",
         "x": [
          "fall_2019",
          "fall_2019",
          "fall_2019",
          "fall_2019",
          "fall_2019",
          "fall_2019",
          "fall_2019",
          "fall_2019",
          "fall_2019",
          "fall_2019",
          "fall_2019",
          "fall_2019",
          "fall_2019",
          "fall_2019",
          "fall_2019",
          "fall_2019",
          "fall_2019",
          "fall_2019",
          "fall_2019",
          "fall_2019",
          "fall_2019",
          "fall_2019",
          "fall_2019",
          "fall_2019",
          "fall_2019",
          "fall_2019",
          "spring_2020",
          "spring_2020",
          "spring_2020",
          "spring_2020",
          "spring_2020",
          "spring_2020",
          "spring_2020",
          "spring_2020",
          "spring_2020",
          "spring_2020",
          "spring_2020",
          "spring_2020",
          "summer_2020",
          "summer_2020",
          "summer_2020",
          "summer_2020",
          "summer_2020",
          "summer_2020",
          "summer_2020",
          "summer_2020",
          "fall_2020",
          "fall_2020",
          "fall_2020",
          "fall_2020",
          "fall_2020",
          "fall_2020",
          "fall_2020",
          "fall_2020",
          "fall_2020",
          "fall_2020",
          "fall_2020",
          "fall_2020",
          "fall_2020",
          "fall_2020",
          "fall_2020",
          "fall_2020",
          "fall_2020",
          "fall_2020",
          "fall_2020",
          "fall_2020",
          "fall_2020",
          "fall_2020",
          "fall_2020",
          "fall_2020",
          "fall_2020",
          "fall_2020",
          "fall_2020",
          "fall_2020",
          "fall_2020",
          "fall_2020",
          "fall_2020",
          "fall_2020",
          "fall_2020",
          "fall_2020",
          "fall_2020",
          "spring_2021",
          "spring_2021",
          "spring_2021",
          "spring_2021",
          "spring_2021",
          "spring_2021",
          "spring_2021",
          "spring_2021",
          "spring_2021",
          "spring_2021",
          "spring_2021",
          "spring_2021",
          "spring_2021",
          "spring_2021",
          "spring_2021",
          "spring_2021",
          "spring_2021",
          "spring_2021",
          "spring_2021",
          "spring_2021",
          "spring_2021",
          "spring_2021",
          "spring_2021",
          "spring_2021",
          "spring_2021",
          "spring_2021",
          "spring_2021",
          "spring_2021",
          "spring_2021",
          "spring_2021",
          "spring_2021",
          "spring_2021",
          "spring_2021",
          "spring_2021",
          "spring_2021",
          "spring_2021",
          "spring_2021",
          "spring_2021",
          "spring_2021",
          "spring_2021",
          "spring_2021",
          "spring_2021",
          "spring_2021",
          "spring_2021",
          "spring_2021",
          "summer_2021",
          "summer_2021",
          "summer_2021",
          "fall_2021",
          "fall_2021",
          "fall_2021",
          "fall_2021",
          "fall_2021",
          "fall_2021",
          "fall_2021",
          "fall_2021",
          "fall_2021",
          "fall_2021",
          "fall_2021",
          "fall_2021",
          "fall_2021",
          "fall_2021",
          "fall_2021",
          "fall_2021",
          "fall_2021",
          "fall_2021",
          "fall_2021",
          "fall_2021",
          "fall_2021",
          "fall_2021",
          "fall_2021",
          "fall_2021",
          "fall_2021",
          "fall_2021",
          "fall_2021",
          "fall_2021",
          "fall_2021",
          "fall_2021",
          "fall_2021",
          "fall_2021",
          "fall_2021",
          "fall_2021",
          "spring_2022",
          "spring_2022",
          "spring_2022",
          "spring_2022",
          "spring_2022",
          "spring_2022",
          "spring_2022",
          "spring_2022",
          "spring_2022",
          "spring_2022",
          "spring_2022",
          "spring_2022",
          "spring_2022",
          "spring_2022",
          "spring_2022",
          "spring_2022",
          "spring_2022",
          "spring_2022",
          "spring_2022",
          "spring_2022",
          "spring_2022",
          "spring_2022",
          "spring_2022",
          "spring_2022",
          "fall_2022",
          "fall_2022",
          "fall_2022",
          "fall_2022",
          "fall_2022",
          "fall_2022",
          "fall_2022",
          "fall_2022",
          "fall_2022",
          "fall_2022",
          "fall_2022",
          "fall_2022",
          "fall_2022",
          "fall_2022",
          "fall_2022",
          "fall_2022",
          "fall_2022",
          "fall_2022",
          "fall_2022",
          "fall_2022",
          "fall_2022",
          "fall_2022",
          "fall_2022",
          "fall_2022",
          "fall_2022",
          "fall_2022",
          "fall_2022",
          "fall_2022",
          "fall_2022",
          "fall_2022",
          "fall_2022",
          "fall_2022",
          "fall_2022",
          "fall_2022",
          "fall_2022",
          "fall_2022",
          "fall_2022",
          "spring_2023",
          "spring_2023",
          "spring_2023",
          "spring_2023",
          "spring_2023",
          "spring_2023",
          "spring_2023",
          "spring_2023",
          "spring_2023",
          "spring_2023",
          "spring_2023",
          "spring_2023",
          "spring_2023",
          "spring_2023",
          "spring_2023",
          "spring_2023",
          "spring_2023",
          "spring_2023",
          "spring_2023",
          "spring_2023",
          "spring_2023",
          "spring_2023",
          "spring_2023",
          "spring_2023",
          "spring_2023",
          "spring_2023",
          "spring_2023",
          "spring_2023",
          "spring_2023",
          "spring_2023",
          "spring_2023",
          "spring_2023"
         ],
         "y": [
          1,
          1,
          2,
          1,
          1,
          2,
          1,
          1,
          2,
          2,
          2,
          1,
          1,
          2,
          1,
          2,
          1,
          1,
          2,
          1,
          1,
          1,
          1,
          1,
          1,
          1,
          1,
          1,
          2,
          1,
          1,
          2,
          1,
          1,
          1,
          2,
          1,
          1,
          1,
          1,
          1,
          1,
          1,
          1,
          1,
          1,
          1,
          1,
          1,
          1,
          1,
          1,
          1,
          1,
          1,
          1,
          2,
          1,
          2,
          1,
          2,
          1,
          1,
          1,
          1,
          1,
          1,
          1,
          2,
          2,
          1,
          1,
          1,
          1,
          1,
          1,
          1,
          1,
          1,
          1,
          1,
          1,
          1,
          1,
          1,
          1,
          1,
          1,
          1,
          1,
          1,
          1,
          1,
          1,
          1,
          1,
          1,
          1,
          1,
          1,
          1,
          1,
          1,
          1,
          1,
          1,
          1,
          1,
          1,
          1,
          1,
          1,
          1,
          1,
          1,
          1,
          1,
          1,
          1,
          1,
          1,
          1,
          1,
          1,
          1,
          1,
          1,
          1,
          1,
          1,
          2,
          2,
          2,
          1,
          2,
          2,
          2,
          2,
          1,
          1,
          2,
          2,
          2,
          1,
          2,
          2,
          1,
          2,
          2,
          2,
          1,
          1,
          1,
          1,
          2,
          1,
          1,
          1,
          1,
          1,
          1,
          1,
          1,
          1,
          1,
          1,
          1,
          1,
          2,
          1,
          1,
          1,
          2,
          1,
          1,
          1,
          1,
          2,
          1,
          1,
          2,
          1,
          1,
          1,
          1,
          1,
          1,
          1,
          2,
          2,
          1,
          1,
          1,
          1,
          1,
          2,
          1,
          1,
          2,
          2,
          1,
          1,
          1,
          1,
          1,
          1,
          2,
          1,
          1,
          1,
          2,
          2,
          1,
          1,
          2,
          1,
          1,
          1,
          2,
          1,
          1,
          1,
          1,
          1,
          1,
          1,
          1,
          1,
          1,
          2,
          2,
          1,
          1,
          2,
          1,
          1,
          1,
          2,
          1,
          2,
          1,
          1,
          2,
          2,
          1,
          1,
          2,
          1,
          1,
          2,
          1,
          1,
          1,
          1,
          1,
          1
         ]
        },
        {
         "name": "Tyson, Critical Theory Today",
         "type": "bar",
         "x": [
          "fall_2019",
          "fall_2019",
          "fall_2019",
          "fall_2019",
          "fall_2019",
          "fall_2019",
          "fall_2019",
          "fall_2019",
          "fall_2019",
          "fall_2019",
          "spring_2020",
          "spring_2020",
          "spring_2020",
          "spring_2020",
          "spring_2020",
          "fall_2020",
          "spring_2021",
          "spring_2021",
          "spring_2021",
          "fall_2021",
          "fall_2021",
          "fall_2021",
          "spring_2022"
         ],
         "y": [
          4,
          3,
          4,
          1,
          1,
          3,
          3,
          4,
          4,
          2,
          4,
          3,
          1,
          4,
          4,
          6,
          1,
          1,
          1,
          4,
          1,
          1,
          1
         ]
        },
        {
         "name": "Moorcock, Foreweird",
         "type": "bar",
         "x": [
          "fall_2019",
          "fall_2019",
          "fall_2019",
          "spring_2020",
          "spring_2020",
          "fall_2020",
          "fall_2020",
          "fall_2021",
          "fall_2021",
          "fall_2022",
          "fall_2022",
          "fall_2022",
          "fall_2022",
          "fall_2022",
          "fall_2022",
          "fall_2022",
          "fall_2022",
          "fall_2022",
          "fall_2022",
          "fall_2022",
          "fall_2022",
          "fall_2022",
          "spring_2023",
          "spring_2023"
         ],
         "y": [
          3,
          2,
          1,
          3,
          1,
          2,
          1,
          2,
          2,
          2,
          3,
          2,
          1,
          2,
          2,
          2,
          2,
          1,
          2,
          1,
          1,
          1,
          3,
          2
         ]
        },
        {
         "name": "VanderMeers, Introduction",
         "type": "bar",
         "x": [
          "fall_2019",
          "fall_2019",
          "fall_2019",
          "fall_2019",
          "fall_2019",
          "fall_2019",
          "fall_2019",
          "fall_2019",
          "fall_2019",
          "fall_2019",
          "fall_2019",
          "fall_2019",
          "fall_2019",
          "fall_2019",
          "fall_2019",
          "fall_2019",
          "spring_2020",
          "spring_2020",
          "spring_2020",
          "spring_2020",
          "spring_2020",
          "spring_2020",
          "summer_2020",
          "summer_2020",
          "fall_2020",
          "fall_2020",
          "fall_2020",
          "fall_2020",
          "fall_2020",
          "fall_2020",
          "fall_2020",
          "fall_2020",
          "fall_2020",
          "spring_2021",
          "spring_2021",
          "spring_2021",
          "spring_2021",
          "spring_2021",
          "spring_2021",
          "summer_2021",
          "summer_2021",
          "fall_2021",
          "fall_2021",
          "fall_2021",
          "fall_2021",
          "fall_2021",
          "fall_2021",
          "fall_2021",
          "fall_2021",
          "fall_2021",
          "fall_2021",
          "fall_2021",
          "fall_2021",
          "fall_2021",
          "fall_2021",
          "fall_2021",
          "fall_2021",
          "fall_2021",
          "spring_2022",
          "spring_2022",
          "fall_2022",
          "fall_2022",
          "fall_2022",
          "fall_2022",
          "fall_2022",
          "fall_2022",
          "fall_2022",
          "fall_2022",
          "fall_2022",
          "fall_2022",
          "fall_2022",
          "fall_2022",
          "fall_2022",
          "fall_2022",
          "fall_2022",
          "fall_2022",
          "fall_2022",
          "spring_2023",
          "spring_2023",
          "spring_2023",
          "spring_2023",
          "spring_2023",
          "spring_2023",
          "spring_2023"
         ],
         "y": [
          1,
          2,
          1,
          1,
          1,
          1,
          1,
          1,
          1,
          1,
          1,
          1,
          1,
          1,
          1,
          1,
          1,
          1,
          1,
          1,
          1,
          1,
          1,
          1,
          1,
          1,
          1,
          1,
          1,
          1,
          1,
          1,
          1,
          1,
          1,
          1,
          1,
          1,
          1,
          1,
          1,
          1,
          1,
          1,
          1,
          1,
          1,
          1,
          1,
          1,
          1,
          1,
          1,
          1,
          1,
          1,
          1,
          1,
          1,
          1,
          1,
          1,
          1,
          1,
          1,
          1,
          1,
          2,
          1,
          1,
          1,
          1,
          1,
          1,
          1,
          1,
          1,
          2,
          2,
          1,
          1,
          1,
          1,
          1
         ]
        },
        {
         "name": "Lovecraft, Notes on Writing Weird Fiction",
         "type": "bar",
         "x": [
          "fall_2019",
          "spring_2020",
          "summer_2020",
          "fall_2020",
          "fall_2020",
          "fall_2020",
          "fall_2021",
          "fall_2021",
          "spring_2022",
          "spring_2022",
          "spring_2022",
          "fall_2022",
          "fall_2022",
          "fall_2022",
          "fall_2022",
          "spring_2023"
         ],
         "y": [
          3,
          1,
          3,
          3,
          3,
          3,
          3,
          3,
          3,
          3,
          3,
          1,
          3,
          3,
          3,
          3
         ]
        },
        {
         "name": "Freud, The Uncanny",
         "type": "bar",
         "x": [
          "fall_2019",
          "fall_2019",
          "fall_2019",
          "fall_2019",
          "fall_2019",
          "fall_2019",
          "fall_2019",
          "spring_2020",
          "spring_2020",
          "spring_2020",
          "spring_2020",
          "summer_2020",
          "summer_2020",
          "fall_2020",
          "fall_2020",
          "fall_2020",
          "fall_2020",
          "fall_2020",
          "fall_2020",
          "fall_2020",
          "fall_2020",
          "fall_2020",
          "fall_2020",
          "fall_2020",
          "fall_2020",
          "fall_2020",
          "fall_2020",
          "fall_2020",
          "fall_2020",
          "fall_2020",
          "fall_2020",
          "fall_2020",
          "fall_2020",
          "fall_2020",
          "spring_2021",
          "spring_2021",
          "spring_2021",
          "spring_2021",
          "spring_2021",
          "spring_2021",
          "spring_2021",
          "spring_2021",
          "spring_2021",
          "spring_2021",
          "spring_2021",
          "spring_2021",
          "spring_2021",
          "spring_2021",
          "spring_2021",
          "spring_2021",
          "spring_2021",
          "spring_2021",
          "spring_2021",
          "spring_2021",
          "spring_2021",
          "spring_2021",
          "spring_2021",
          "spring_2021",
          "spring_2021",
          "spring_2021",
          "spring_2021",
          "fall_2021",
          "fall_2021",
          "fall_2021",
          "fall_2021",
          "fall_2021",
          "fall_2021",
          "fall_2021",
          "fall_2021",
          "fall_2021",
          "fall_2021",
          "fall_2021",
          "fall_2021",
          "fall_2021",
          "fall_2021",
          "fall_2021",
          "fall_2021",
          "fall_2021",
          "fall_2021",
          "fall_2021",
          "fall_2021",
          "fall_2021",
          "spring_2022",
          "spring_2022",
          "spring_2022",
          "spring_2022",
          "spring_2022",
          "spring_2022",
          "spring_2022",
          "spring_2022",
          "spring_2022",
          "spring_2022",
          "spring_2022",
          "spring_2022",
          "spring_2022",
          "spring_2022",
          "fall_2022",
          "fall_2022",
          "fall_2022",
          "fall_2022",
          "fall_2022",
          "fall_2022",
          "fall_2022",
          "fall_2022",
          "fall_2022",
          "fall_2022",
          "fall_2022",
          "fall_2022",
          "fall_2022",
          "fall_2022",
          "fall_2022",
          "fall_2022",
          "fall_2022",
          "fall_2022",
          "fall_2022",
          "fall_2022",
          "fall_2022",
          "fall_2022",
          "fall_2022",
          "fall_2022",
          "fall_2022",
          "fall_2022",
          "fall_2022",
          "fall_2022",
          "spring_2023",
          "spring_2023",
          "spring_2023",
          "spring_2023",
          "spring_2023",
          "spring_2023",
          "spring_2023",
          "spring_2023",
          "spring_2023",
          "spring_2023",
          "spring_2023",
          "spring_2023",
          "spring_2023",
          "spring_2023",
          "spring_2023",
          "spring_2023",
          "spring_2023",
          "spring_2023",
          "spring_2023",
          "spring_2023"
         ],
         "y": [
          1,
          4,
          4,
          1,
          1,
          1,
          1,
          1,
          1,
          1,
          1,
          1,
          1,
          1,
          1,
          4,
          1,
          1,
          1,
          1,
          1,
          4,
          2,
          1,
          1,
          1,
          1,
          1,
          1,
          2,
          1,
          1,
          1,
          1,
          1,
          1,
          1,
          1,
          1,
          1,
          1,
          1,
          1,
          1,
          1,
          1,
          1,
          2,
          1,
          1,
          1,
          1,
          2,
          1,
          2,
          2,
          1,
          2,
          1,
          1,
          1,
          2,
          1,
          2,
          1,
          2,
          1,
          1,
          1,
          2,
          1,
          2,
          4,
          1,
          1,
          2,
          3,
          2,
          1,
          1,
          1,
          1,
          2,
          4,
          2,
          1,
          1,
          3,
          2,
          4,
          1,
          2,
          4,
          4,
          1,
          1,
          1,
          2,
          1,
          1,
          2,
          1,
          1,
          1,
          3,
          4,
          4,
          1,
          1,
          1,
          1,
          1,
          4,
          1,
          2,
          4,
          1,
          1,
          2,
          3,
          1,
          2,
          1,
          1,
          3,
          1,
          3,
          1,
          1,
          1,
          1,
          3,
          1,
          2,
          3,
          2,
          1,
          1,
          4,
          1,
          1,
          1,
          1,
          1
         ]
        },
        {
         "name": "Fisher, The Weird and the Eerie",
         "type": "bar",
         "x": [
          "fall_2020",
          "fall_2020",
          "fall_2020",
          "fall_2020",
          "fall_2020",
          "fall_2020",
          "fall_2020",
          "fall_2020",
          "fall_2020",
          "fall_2020",
          "fall_2020",
          "fall_2020",
          "fall_2020",
          "fall_2020",
          "fall_2020",
          "fall_2020",
          "spring_2021",
          "spring_2021",
          "spring_2021",
          "spring_2021",
          "spring_2021",
          "spring_2021",
          "spring_2021",
          "spring_2021",
          "spring_2021",
          "spring_2021",
          "spring_2021",
          "spring_2021",
          "spring_2021",
          "spring_2021",
          "spring_2021",
          "spring_2021",
          "spring_2021",
          "spring_2021",
          "spring_2021",
          "spring_2021",
          "spring_2021",
          "fall_2021",
          "fall_2021",
          "fall_2021",
          "fall_2021",
          "fall_2021",
          "fall_2021",
          "fall_2021",
          "fall_2021",
          "fall_2021",
          "fall_2021",
          "fall_2021",
          "fall_2021",
          "fall_2021",
          "fall_2021",
          "fall_2021",
          "fall_2021",
          "fall_2021",
          "spring_2022",
          "spring_2022",
          "spring_2022",
          "spring_2022",
          "spring_2022",
          "spring_2022",
          "spring_2022",
          "spring_2022",
          "spring_2022",
          "spring_2022",
          "spring_2022",
          "spring_2022",
          "fall_2022",
          "fall_2022",
          "fall_2022",
          "fall_2022",
          "fall_2022",
          "fall_2022",
          "fall_2022",
          "fall_2022",
          "fall_2022",
          "fall_2022",
          "fall_2022",
          "fall_2022",
          "fall_2022",
          "fall_2022",
          "fall_2022",
          "fall_2022",
          "spring_2023",
          "spring_2023",
          "spring_2023",
          "spring_2023",
          "spring_2023",
          "spring_2023",
          "spring_2023",
          "spring_2023",
          "spring_2023",
          "spring_2023",
          "spring_2023",
          "spring_2023",
          "spring_2023"
         ],
         "y": [
          2,
          3,
          1,
          1,
          3,
          2,
          1,
          1,
          2,
          3,
          2,
          1,
          1,
          1,
          3,
          3,
          1,
          1,
          1,
          1,
          1,
          1,
          1,
          1,
          2,
          1,
          1,
          1,
          1,
          1,
          1,
          1,
          3,
          1,
          1,
          1,
          1,
          1,
          1,
          3,
          3,
          3,
          1,
          1,
          2,
          3,
          1,
          1,
          2,
          1,
          3,
          3,
          3,
          3,
          1,
          1,
          1,
          3,
          1,
          2,
          2,
          1,
          3,
          3,
          3,
          3,
          1,
          3,
          1,
          1,
          3,
          2,
          2,
          1,
          1,
          1,
          2,
          2,
          2,
          2,
          2,
          2,
          2,
          2,
          3,
          2,
          2,
          2,
          2,
          3,
          3,
          2,
          2,
          2,
          3
         ]
        }
       ],
       "layout": {
        "barmode": "stack",
        "height": 500,
        "template": {
         "data": {
          "bar": [
           {
            "error_x": {
             "color": "#2a3f5f"
            },
            "error_y": {
             "color": "#2a3f5f"
            },
            "marker": {
             "line": {
              "color": "#E5ECF6",
              "width": 0.5
             },
             "pattern": {
              "fillmode": "overlay",
              "size": 10,
              "solidity": 0.2
             }
            },
            "type": "bar"
           }
          ],
          "barpolar": [
           {
            "marker": {
             "line": {
              "color": "#E5ECF6",
              "width": 0.5
             },
             "pattern": {
              "fillmode": "overlay",
              "size": 10,
              "solidity": 0.2
             }
            },
            "type": "barpolar"
           }
          ],
          "carpet": [
           {
            "aaxis": {
             "endlinecolor": "#2a3f5f",
             "gridcolor": "white",
             "linecolor": "white",
             "minorgridcolor": "white",
             "startlinecolor": "#2a3f5f"
            },
            "baxis": {
             "endlinecolor": "#2a3f5f",
             "gridcolor": "white",
             "linecolor": "white",
             "minorgridcolor": "white",
             "startlinecolor": "#2a3f5f"
            },
            "type": "carpet"
           }
          ],
          "choropleth": [
           {
            "colorbar": {
             "outlinewidth": 0,
             "ticks": ""
            },
            "type": "choropleth"
           }
          ],
          "contour": [
           {
            "colorbar": {
             "outlinewidth": 0,
             "ticks": ""
            },
            "colorscale": [
             [
              0,
              "#0d0887"
             ],
             [
              0.1111111111111111,
              "#46039f"
             ],
             [
              0.2222222222222222,
              "#7201a8"
             ],
             [
              0.3333333333333333,
              "#9c179e"
             ],
             [
              0.4444444444444444,
              "#bd3786"
             ],
             [
              0.5555555555555556,
              "#d8576b"
             ],
             [
              0.6666666666666666,
              "#ed7953"
             ],
             [
              0.7777777777777778,
              "#fb9f3a"
             ],
             [
              0.8888888888888888,
              "#fdca26"
             ],
             [
              1,
              "#f0f921"
             ]
            ],
            "type": "contour"
           }
          ],
          "contourcarpet": [
           {
            "colorbar": {
             "outlinewidth": 0,
             "ticks": ""
            },
            "type": "contourcarpet"
           }
          ],
          "heatmap": [
           {
            "colorbar": {
             "outlinewidth": 0,
             "ticks": ""
            },
            "colorscale": [
             [
              0,
              "#0d0887"
             ],
             [
              0.1111111111111111,
              "#46039f"
             ],
             [
              0.2222222222222222,
              "#7201a8"
             ],
             [
              0.3333333333333333,
              "#9c179e"
             ],
             [
              0.4444444444444444,
              "#bd3786"
             ],
             [
              0.5555555555555556,
              "#d8576b"
             ],
             [
              0.6666666666666666,
              "#ed7953"
             ],
             [
              0.7777777777777778,
              "#fb9f3a"
             ],
             [
              0.8888888888888888,
              "#fdca26"
             ],
             [
              1,
              "#f0f921"
             ]
            ],
            "type": "heatmap"
           }
          ],
          "heatmapgl": [
           {
            "colorbar": {
             "outlinewidth": 0,
             "ticks": ""
            },
            "colorscale": [
             [
              0,
              "#0d0887"
             ],
             [
              0.1111111111111111,
              "#46039f"
             ],
             [
              0.2222222222222222,
              "#7201a8"
             ],
             [
              0.3333333333333333,
              "#9c179e"
             ],
             [
              0.4444444444444444,
              "#bd3786"
             ],
             [
              0.5555555555555556,
              "#d8576b"
             ],
             [
              0.6666666666666666,
              "#ed7953"
             ],
             [
              0.7777777777777778,
              "#fb9f3a"
             ],
             [
              0.8888888888888888,
              "#fdca26"
             ],
             [
              1,
              "#f0f921"
             ]
            ],
            "type": "heatmapgl"
           }
          ],
          "histogram": [
           {
            "marker": {
             "pattern": {
              "fillmode": "overlay",
              "size": 10,
              "solidity": 0.2
             }
            },
            "type": "histogram"
           }
          ],
          "histogram2d": [
           {
            "colorbar": {
             "outlinewidth": 0,
             "ticks": ""
            },
            "colorscale": [
             [
              0,
              "#0d0887"
             ],
             [
              0.1111111111111111,
              "#46039f"
             ],
             [
              0.2222222222222222,
              "#7201a8"
             ],
             [
              0.3333333333333333,
              "#9c179e"
             ],
             [
              0.4444444444444444,
              "#bd3786"
             ],
             [
              0.5555555555555556,
              "#d8576b"
             ],
             [
              0.6666666666666666,
              "#ed7953"
             ],
             [
              0.7777777777777778,
              "#fb9f3a"
             ],
             [
              0.8888888888888888,
              "#fdca26"
             ],
             [
              1,
              "#f0f921"
             ]
            ],
            "type": "histogram2d"
           }
          ],
          "histogram2dcontour": [
           {
            "colorbar": {
             "outlinewidth": 0,
             "ticks": ""
            },
            "colorscale": [
             [
              0,
              "#0d0887"
             ],
             [
              0.1111111111111111,
              "#46039f"
             ],
             [
              0.2222222222222222,
              "#7201a8"
             ],
             [
              0.3333333333333333,
              "#9c179e"
             ],
             [
              0.4444444444444444,
              "#bd3786"
             ],
             [
              0.5555555555555556,
              "#d8576b"
             ],
             [
              0.6666666666666666,
              "#ed7953"
             ],
             [
              0.7777777777777778,
              "#fb9f3a"
             ],
             [
              0.8888888888888888,
              "#fdca26"
             ],
             [
              1,
              "#f0f921"
             ]
            ],
            "type": "histogram2dcontour"
           }
          ],
          "mesh3d": [
           {
            "colorbar": {
             "outlinewidth": 0,
             "ticks": ""
            },
            "type": "mesh3d"
           }
          ],
          "parcoords": [
           {
            "line": {
             "colorbar": {
              "outlinewidth": 0,
              "ticks": ""
             }
            },
            "type": "parcoords"
           }
          ],
          "pie": [
           {
            "automargin": true,
            "type": "pie"
           }
          ],
          "scatter": [
           {
            "fillpattern": {
             "fillmode": "overlay",
             "size": 10,
             "solidity": 0.2
            },
            "type": "scatter"
           }
          ],
          "scatter3d": [
           {
            "line": {
             "colorbar": {
              "outlinewidth": 0,
              "ticks": ""
             }
            },
            "marker": {
             "colorbar": {
              "outlinewidth": 0,
              "ticks": ""
             }
            },
            "type": "scatter3d"
           }
          ],
          "scattercarpet": [
           {
            "marker": {
             "colorbar": {
              "outlinewidth": 0,
              "ticks": ""
             }
            },
            "type": "scattercarpet"
           }
          ],
          "scattergeo": [
           {
            "marker": {
             "colorbar": {
              "outlinewidth": 0,
              "ticks": ""
             }
            },
            "type": "scattergeo"
           }
          ],
          "scattergl": [
           {
            "marker": {
             "colorbar": {
              "outlinewidth": 0,
              "ticks": ""
             }
            },
            "type": "scattergl"
           }
          ],
          "scattermapbox": [
           {
            "marker": {
             "colorbar": {
              "outlinewidth": 0,
              "ticks": ""
             }
            },
            "type": "scattermapbox"
           }
          ],
          "scatterpolar": [
           {
            "marker": {
             "colorbar": {
              "outlinewidth": 0,
              "ticks": ""
             }
            },
            "type": "scatterpolar"
           }
          ],
          "scatterpolargl": [
           {
            "marker": {
             "colorbar": {
              "outlinewidth": 0,
              "ticks": ""
             }
            },
            "type": "scatterpolargl"
           }
          ],
          "scatterternary": [
           {
            "marker": {
             "colorbar": {
              "outlinewidth": 0,
              "ticks": ""
             }
            },
            "type": "scatterternary"
           }
          ],
          "surface": [
           {
            "colorbar": {
             "outlinewidth": 0,
             "ticks": ""
            },
            "colorscale": [
             [
              0,
              "#0d0887"
             ],
             [
              0.1111111111111111,
              "#46039f"
             ],
             [
              0.2222222222222222,
              "#7201a8"
             ],
             [
              0.3333333333333333,
              "#9c179e"
             ],
             [
              0.4444444444444444,
              "#bd3786"
             ],
             [
              0.5555555555555556,
              "#d8576b"
             ],
             [
              0.6666666666666666,
              "#ed7953"
             ],
             [
              0.7777777777777778,
              "#fb9f3a"
             ],
             [
              0.8888888888888888,
              "#fdca26"
             ],
             [
              1,
              "#f0f921"
             ]
            ],
            "type": "surface"
           }
          ],
          "table": [
           {
            "cells": {
             "fill": {
              "color": "#EBF0F8"
             },
             "line": {
              "color": "white"
             }
            },
            "header": {
             "fill": {
              "color": "#C8D4E3"
             },
             "line": {
              "color": "white"
             }
            },
            "type": "table"
           }
          ]
         },
         "layout": {
          "annotationdefaults": {
           "arrowcolor": "#2a3f5f",
           "arrowhead": 0,
           "arrowwidth": 1
          },
          "autotypenumbers": "strict",
          "coloraxis": {
           "colorbar": {
            "outlinewidth": 0,
            "ticks": ""
           }
          },
          "colorscale": {
           "diverging": [
            [
             0,
             "#8e0152"
            ],
            [
             0.1,
             "#c51b7d"
            ],
            [
             0.2,
             "#de77ae"
            ],
            [
             0.3,
             "#f1b6da"
            ],
            [
             0.4,
             "#fde0ef"
            ],
            [
             0.5,
             "#f7f7f7"
            ],
            [
             0.6,
             "#e6f5d0"
            ],
            [
             0.7,
             "#b8e186"
            ],
            [
             0.8,
             "#7fbc41"
            ],
            [
             0.9,
             "#4d9221"
            ],
            [
             1,
             "#276419"
            ]
           ],
           "sequential": [
            [
             0,
             "#0d0887"
            ],
            [
             0.1111111111111111,
             "#46039f"
            ],
            [
             0.2222222222222222,
             "#7201a8"
            ],
            [
             0.3333333333333333,
             "#9c179e"
            ],
            [
             0.4444444444444444,
             "#bd3786"
            ],
            [
             0.5555555555555556,
             "#d8576b"
            ],
            [
             0.6666666666666666,
             "#ed7953"
            ],
            [
             0.7777777777777778,
             "#fb9f3a"
            ],
            [
             0.8888888888888888,
             "#fdca26"
            ],
            [
             1,
             "#f0f921"
            ]
           ],
           "sequentialminus": [
            [
             0,
             "#0d0887"
            ],
            [
             0.1111111111111111,
             "#46039f"
            ],
            [
             0.2222222222222222,
             "#7201a8"
            ],
            [
             0.3333333333333333,
             "#9c179e"
            ],
            [
             0.4444444444444444,
             "#bd3786"
            ],
            [
             0.5555555555555556,
             "#d8576b"
            ],
            [
             0.6666666666666666,
             "#ed7953"
            ],
            [
             0.7777777777777778,
             "#fb9f3a"
            ],
            [
             0.8888888888888888,
             "#fdca26"
            ],
            [
             1,
             "#f0f921"
            ]
           ]
          },
          "colorway": [
           "#636efa",
           "#EF553B",
           "#00cc96",
           "#ab63fa",
           "#FFA15A",
           "#19d3f3",
           "#FF6692",
           "#B6E880",
           "#FF97FF",
           "#FECB52"
          ],
          "font": {
           "color": "#2a3f5f"
          },
          "geo": {
           "bgcolor": "white",
           "lakecolor": "white",
           "landcolor": "#E5ECF6",
           "showlakes": true,
           "showland": true,
           "subunitcolor": "white"
          },
          "hoverlabel": {
           "align": "left"
          },
          "hovermode": "closest",
          "mapbox": {
           "style": "light"
          },
          "paper_bgcolor": "white",
          "plot_bgcolor": "#E5ECF6",
          "polar": {
           "angularaxis": {
            "gridcolor": "white",
            "linecolor": "white",
            "ticks": ""
           },
           "bgcolor": "#E5ECF6",
           "radialaxis": {
            "gridcolor": "white",
            "linecolor": "white",
            "ticks": ""
           }
          },
          "scene": {
           "xaxis": {
            "backgroundcolor": "#E5ECF6",
            "gridcolor": "white",
            "gridwidth": 2,
            "linecolor": "white",
            "showbackground": true,
            "ticks": "",
            "zerolinecolor": "white"
           },
           "yaxis": {
            "backgroundcolor": "#E5ECF6",
            "gridcolor": "white",
            "gridwidth": 2,
            "linecolor": "white",
            "showbackground": true,
            "ticks": "",
            "zerolinecolor": "white"
           },
           "zaxis": {
            "backgroundcolor": "#E5ECF6",
            "gridcolor": "white",
            "gridwidth": 2,
            "linecolor": "white",
            "showbackground": true,
            "ticks": "",
            "zerolinecolor": "white"
           }
          },
          "shapedefaults": {
           "line": {
            "color": "#2a3f5f"
           }
          },
          "ternary": {
           "aaxis": {
            "gridcolor": "white",
            "linecolor": "white",
            "ticks": ""
           },
           "baxis": {
            "gridcolor": "white",
            "linecolor": "white",
            "ticks": ""
           },
           "bgcolor": "#E5ECF6",
           "caxis": {
            "gridcolor": "white",
            "linecolor": "white",
            "ticks": ""
           }
          },
          "title": {
           "x": 0.05
          },
          "xaxis": {
           "automargin": true,
           "gridcolor": "white",
           "linecolor": "white",
           "ticks": "",
           "title": {
            "standoff": 15
           },
           "zerolinecolor": "white",
           "zerolinewidth": 2
          },
          "yaxis": {
           "automargin": true,
           "gridcolor": "white",
           "linecolor": "white",
           "ticks": "",
           "title": {
            "standoff": 15
           },
           "zerolinecolor": "white",
           "zerolinewidth": 2
          }
         }
        },
        "title": {
         "text": "Plots of Most Popular First-Week Authors by Semester/Year Over Entire Course"
        },
        "width": 1400,
        "xaxis": {
         "categoryarray": [
          "fall_2019",
          "spring_2020",
          "summer_2020",
          "fall_2020",
          "spring_2021",
          "summer_2021",
          "fall_2021",
          "spring_2022",
          "fall_2022",
          "spring_2023"
         ],
         "categoryorder": "array",
         "tickmode": "array",
         "ticktext": [
          "fall_2019",
          "spring_2020",
          "summer_2020",
          "fall_2020",
          "spring_2021",
          "summer_2021",
          "fall_2021",
          "spring_2022",
          "fall_2022",
          "spring_2023"
         ],
         "tickvals": [
          "fall_2019",
          "spring_2020",
          "summer_2020",
          "fall_2020",
          "spring_2021",
          "summer_2021",
          "fall_2021",
          "spring_2022",
          "fall_2022",
          "spring_2023"
         ],
         "title": {
          "text": "Semester/Year"
         },
         "type": "category"
        },
        "yaxis": {
         "title": {
          "text": "Number of Mentions"
         }
        }
       }
      }
     },
     "metadata": {},
     "output_type": "display_data"
    }
   ],
   "source": [
    "fig = go.Figure()\n",
    "\n",
    "for author_mention in df_grouped['author_mentions'].unique():\n",
    "    data = df_grouped[df_grouped['author_mentions'] == author_mention]\n",
    "    author_name = author_mapping.get(author_mention, str(author_mention))\n",
    "    fig.add_trace(go.Bar(\n",
    "        x=data['semester_year'],\n",
    "        y=data['count'],\n",
    "        name=author_name,\n",
    "    ))\n",
    "\n",
    "tickvals = df_grouped['semester_year'].unique()\n",
    "ticktext = [str(val) for val in tickvals]\n",
    "semester_year_order = ['fall_2019', 'spring_2020', 'summer_2020', 'fall_2020', 'spring_2021', 'summer_2021', 'fall_2021', 'spring_2022', 'fall_2022', 'spring_2023']\n",
    "\n",
    "fig.update_xaxes(\n",
    "    type='category',\n",
    "    tickmode='array',\n",
    "    tickvals=tickvals,\n",
    "    ticktext=ticktext,\n",
    "    categoryorder='array',\n",
    "    categoryarray=semester_year_order,\n",
    "    title='Semester/Year'\n",
    ")\n",
    "\n",
    "fig.update_layout(\n",
    "    title='Plots of Most Popular First-Week Authors by Semester/Year Over Entire Course',\n",
    "    width=1400,\n",
    "    height=500,\n",
    "    yaxis=dict(title='Number of Mentions'),\n",
    "    barmode='stack'\n",
    ")\n",
    "\n",
    "fig.show()\n",
    "fig.write_html('plots/popular_first_week_authors_by_semester_year_stacked.html')"
   ]
  },
  {
   "cell_type": "code",
   "execution_count": 58,
   "metadata": {},
   "outputs": [
    {
     "name": "stderr",
     "output_type": "stream",
     "text": [
      "C:\\Users\\KSpicer\\AppData\\Local\\Temp\\ipykernel_23324\\3652304627.py:2: SettingWithCopyWarning:\n",
      "\n",
      "\n",
      "A value is trying to be set on a copy of a slice from a DataFrame.\n",
      "Try using .loc[row_indexer,col_indexer] = value instead\n",
      "\n",
      "See the caveats in the documentation: https://pandas.pydata.org/pandas-docs/stable/user_guide/indexing.html#returning-a-view-versus-a-copy\n",
      "\n",
      "C:\\Users\\KSpicer\\AppData\\Local\\Temp\\ipykernel_23324\\3652304627.py:13: SettingWithCopyWarning:\n",
      "\n",
      "\n",
      "A value is trying to be set on a copy of a slice from a DataFrame.\n",
      "Try using .loc[row_indexer,col_indexer] = value instead\n",
      "\n",
      "See the caveats in the documentation: https://pandas.pydata.org/pandas-docs/stable/user_guide/indexing.html#returning-a-view-versus-a-copy\n",
      "\n"
     ]
    },
    {
     "data": {
      "text/html": [
       "<div>\n",
       "<style scoped>\n",
       "    .dataframe tbody tr th:only-of-type {\n",
       "        vertical-align: middle;\n",
       "    }\n",
       "\n",
       "    .dataframe tbody tr th {\n",
       "        vertical-align: top;\n",
       "    }\n",
       "\n",
       "    .dataframe thead th {\n",
       "        text-align: right;\n",
       "    }\n",
       "</style>\n",
       "<table border=\"1\" class=\"dataframe\">\n",
       "  <thead>\n",
       "    <tr style=\"text-align: right;\">\n",
       "      <th></th>\n",
       "      <th>created_at</th>\n",
       "      <th>discussion_board_id</th>\n",
       "      <th>author_mentions</th>\n",
       "      <th>cumulative_count</th>\n",
       "    </tr>\n",
       "  </thead>\n",
       "  <tbody>\n",
       "    <tr>\n",
       "      <th>1838</th>\n",
       "      <td>2022-08-29 23:03:32+00:00</td>\n",
       "      <td>3747570</td>\n",
       "      <td>1</td>\n",
       "      <td>1</td>\n",
       "    </tr>\n",
       "    <tr>\n",
       "      <th>1838</th>\n",
       "      <td>2022-08-29 23:03:32+00:00</td>\n",
       "      <td>3747570</td>\n",
       "      <td>124</td>\n",
       "      <td>1</td>\n",
       "    </tr>\n",
       "    <tr>\n",
       "      <th>1839</th>\n",
       "      <td>2022-08-29 19:17:11+00:00</td>\n",
       "      <td>3747570</td>\n",
       "      <td>1</td>\n",
       "      <td>2</td>\n",
       "    </tr>\n",
       "    <tr>\n",
       "      <th>1839</th>\n",
       "      <td>2022-08-29 19:17:11+00:00</td>\n",
       "      <td>3747570</td>\n",
       "      <td>124</td>\n",
       "      <td>2</td>\n",
       "    </tr>\n",
       "    <tr>\n",
       "      <th>1840</th>\n",
       "      <td>2022-08-29 18:41:49+00:00</td>\n",
       "      <td>3747570</td>\n",
       "      <td>1</td>\n",
       "      <td>3</td>\n",
       "    </tr>\n",
       "  </tbody>\n",
       "</table>\n",
       "</div>"
      ],
      "text/plain": [
       "                    created_at  discussion_board_id author_mentions   \n",
       "1838 2022-08-29 23:03:32+00:00              3747570               1  \\\n",
       "1838 2022-08-29 23:03:32+00:00              3747570             124   \n",
       "1839 2022-08-29 19:17:11+00:00              3747570               1   \n",
       "1839 2022-08-29 19:17:11+00:00              3747570             124   \n",
       "1840 2022-08-29 18:41:49+00:00              3747570               1   \n",
       "\n",
       "      cumulative_count  \n",
       "1838                 1  \n",
       "1838                 1  \n",
       "1839                 2  \n",
       "1839                 2  \n",
       "1840                 3  "
      ]
     },
     "execution_count": 58,
     "metadata": {},
     "output_type": "execute_result"
    }
   ],
   "source": [
    "just_fall_2022 = all_together[all_together['semester_year'] == 'fall_2022']\n",
    "just_fall_2022['author_mentions'] = just_fall_2022['author_mentions'].apply(set)\n",
    "#print(just_fall_2022.head(15))\n",
    "just_fall_2022_exploded_df = just_fall_2022.explode('author_mentions')\n",
    "\n",
    "specific_author_ids = [1, 2, 3, 4, 5, 123, 124]\n",
    "\n",
    "# Filter the DataFrame based on the specific author_ids\n",
    "just_fall_2022_exploded_df = just_fall_2022_exploded_df[just_fall_2022_exploded_df['author_mentions'].isin(specific_author_ids)]\n",
    "#print(just_fall_2022_exploded_df.head(15))\n",
    "\n",
    "plotly_df = just_fall_2022_exploded_df[['created_at', 'discussion_board_id', 'author_mentions']]\n",
    "plotly_df['cumulative_count'] = plotly_df.groupby('author_mentions').cumcount() + 1\n",
    "\n",
    "plotly_df.head(5)"
   ]
  },
  {
   "cell_type": "code",
   "execution_count": 59,
   "metadata": {},
   "outputs": [
    {
     "name": "stderr",
     "output_type": "stream",
     "text": [
      "C:\\Users\\KSpicer\\AppData\\Local\\Temp\\ipykernel_23324\\2899177732.py:3: SettingWithCopyWarning:\n",
      "\n",
      "\n",
      "A value is trying to be set on a copy of a slice from a DataFrame.\n",
      "Try using .loc[row_indexer,col_indexer] = value instead\n",
      "\n",
      "See the caveats in the documentation: https://pandas.pydata.org/pandas-docs/stable/user_guide/indexing.html#returning-a-view-versus-a-copy\n",
      "\n"
     ]
    }
   ],
   "source": [
    "# Filter the dataframe by semester_year\n",
    "just_fall_2022 = all_together[all_together['semester_year'] == 'fall_2022']\n",
    "just_fall_2022['author_mentions'] = just_fall_2022['author_mentions'].apply(set)\n",
    "\n",
    "just_fall_2022_exploded_df = just_fall_2022.explode('author_mentions')\n",
    "\n",
    "specific_author_ids = [1, 2, 3, 4, 5, 123, 124]\n",
    "\n",
    "# Filter the DataFrame based on the specific author_ids\n",
    "just_fall_2022_exploded_df = just_fall_2022_exploded_df[just_fall_2022_exploded_df['author_mentions'].isin(specific_author_ids)]\n",
    "\n",
    "# Select out the two relevant columns, sort the values on 'created_at' column and get the cumulative counts\n",
    "plotly_df = just_fall_2022_exploded_df[['created_at', 'author_mentions']]\n",
    "plotly_df = plotly_df.sort_values('created_at')\n",
    "plotly_df['cumulative_count'] = plotly_df.groupby('author_mentions').cumcount() + 1"
   ]
  },
  {
   "cell_type": "code",
   "execution_count": 60,
   "metadata": {},
   "outputs": [
    {
     "data": {
      "application/vnd.plotly.v1+json": {
       "config": {
        "plotlyServerURL": "https://plot.ly"
       },
       "data": [
        {
         "mode": "markers",
         "name": "Fisher, The Weird and the Eerie",
         "type": "scatter",
         "x": [
          "2022-08-25T23:21:51+00:00",
          "2022-08-28T00:17:09+00:00",
          "2022-08-28T02:03:16+00:00",
          "2022-08-28T05:07:00+00:00",
          "2022-08-28T15:58:24+00:00",
          "2022-08-28T16:16:01+00:00",
          "2022-08-28T20:29:12+00:00",
          "2022-08-28T23:51:24+00:00",
          "2022-08-29T00:50:51+00:00",
          "2022-08-29T01:18:47+00:00",
          "2022-08-29T01:52:21+00:00",
          "2022-08-29T02:30:21+00:00",
          "2022-08-29T02:39:56+00:00",
          "2022-08-29T02:43:26+00:00",
          "2022-08-29T19:17:11+00:00",
          "2022-08-29T23:03:32+00:00"
         ],
         "y": [
          1,
          2,
          3,
          4,
          5,
          6,
          7,
          8,
          9,
          10,
          11,
          12,
          13,
          14,
          15,
          16
         ]
        },
        {
         "mode": "markers",
         "name": "Freud, The Uncanny",
         "type": "scatter",
         "x": [
          "2022-08-26T22:20:34+00:00",
          "2022-08-27T17:41:03+00:00",
          "2022-08-27T23:04:58+00:00",
          "2022-08-28T00:17:09+00:00",
          "2022-08-28T01:26:16+00:00",
          "2022-08-28T02:03:16+00:00",
          "2022-08-28T05:07:00+00:00",
          "2022-08-28T06:28:04+00:00",
          "2022-08-28T15:58:24+00:00",
          "2022-08-28T20:03:45+00:00",
          "2022-08-28T20:48:54+00:00",
          "2022-08-28T21:13:08+00:00",
          "2022-08-28T22:01:54+00:00",
          "2022-08-28T23:40:03+00:00",
          "2022-08-29T01:15:32+00:00",
          "2022-08-29T01:18:56+00:00",
          "2022-08-29T01:52:21+00:00",
          "2022-08-29T02:22:06+00:00",
          "2022-08-29T02:39:56+00:00",
          "2022-08-29T03:06:17+00:00",
          "2022-08-29T03:21:09+00:00",
          "2022-08-29T04:02:26+00:00",
          "2022-08-29T04:54:40+00:00",
          "2022-08-29T04:56:40+00:00",
          "2022-08-29T05:24:50+00:00",
          "2022-08-29T14:50:20+00:00",
          "2022-08-30T03:48:43+00:00",
          "2022-10-03T01:43:37+00:00"
         ],
         "y": [
          1,
          2,
          3,
          4,
          5,
          6,
          7,
          8,
          9,
          10,
          11,
          12,
          13,
          14,
          15,
          16,
          17,
          18,
          19,
          20,
          21,
          22,
          23,
          24,
          25,
          26,
          27,
          28
         ]
        },
        {
         "mode": "markers",
         "name": "Lovecraft, Supernatural Horror in Literature",
         "type": "scatter",
         "x": [
          "2022-08-27T06:30:33+00:00",
          "2022-08-27T17:41:03+00:00",
          "2022-08-27T23:02:16+00:00",
          "2022-08-27T23:04:58+00:00",
          "2022-08-28T00:16:36+00:00",
          "2022-08-28T00:17:09+00:00",
          "2022-08-28T01:26:16+00:00",
          "2022-08-28T05:07:00+00:00",
          "2022-08-28T15:58:24+00:00",
          "2022-08-28T16:01:21+00:00",
          "2022-08-28T16:16:01+00:00",
          "2022-08-28T17:57:11+00:00",
          "2022-08-28T20:03:45+00:00",
          "2022-08-28T20:54:08+00:00",
          "2022-08-28T23:40:03+00:00",
          "2022-08-28T23:51:24+00:00",
          "2022-08-29T00:05:39+00:00",
          "2022-08-29T00:09:01+00:00",
          "2022-08-29T00:41:24+00:00",
          "2022-08-29T00:54:46+00:00",
          "2022-08-29T01:15:32+00:00",
          "2022-08-29T01:18:47+00:00",
          "2022-08-29T02:22:31+00:00",
          "2022-08-29T02:30:21+00:00",
          "2022-08-29T02:43:26+00:00",
          "2022-08-29T03:29:09+00:00",
          "2022-08-29T04:10:15+00:00",
          "2022-08-29T04:36:26+00:00",
          "2022-08-29T04:51:21+00:00",
          "2022-08-29T05:24:50+00:00",
          "2022-08-29T18:41:49+00:00",
          "2022-08-29T19:17:11+00:00",
          "2022-08-29T23:03:32+00:00",
          "2022-09-12T03:02:07+00:00",
          "2022-09-13T00:57:30+00:00",
          "2022-11-28T06:01:10+00:00",
          "2022-12-05T04:19:26+00:00"
         ],
         "y": [
          1,
          2,
          3,
          4,
          5,
          6,
          7,
          8,
          9,
          10,
          11,
          12,
          13,
          14,
          15,
          16,
          17,
          18,
          19,
          20,
          21,
          22,
          23,
          24,
          25,
          26,
          27,
          28,
          29,
          30,
          31,
          32,
          33,
          34,
          35,
          36,
          37
         ]
        },
        {
         "mode": "markers",
         "name": "Lovecraft, Notes on Writing Weird Fiction",
         "type": "scatter",
         "x": [
          "2022-08-27T23:02:16+00:00",
          "2022-08-28T20:03:45+00:00",
          "2022-08-28T23:40:03+00:00",
          "2022-09-13T00:57:30+00:00"
         ],
         "y": [
          1,
          2,
          3,
          4
         ]
        },
        {
         "mode": "markers",
         "name": "VanderMeers, Introduction",
         "type": "scatter",
         "x": [
          "2022-08-28T02:03:16+00:00",
          "2022-08-28T19:30:50+00:00",
          "2022-08-28T19:55:18+00:00",
          "2022-08-29T01:15:32+00:00",
          "2022-08-29T02:22:31+00:00",
          "2022-08-29T03:06:17+00:00",
          "2022-08-29T04:36:26+00:00",
          "2022-08-29T04:56:40+00:00",
          "2022-08-30T11:47:43+00:00",
          "2022-09-05T03:54:09+00:00",
          "2022-09-05T03:59:07+00:00",
          "2022-09-11T03:23:54+00:00",
          "2022-09-12T01:27:59+00:00",
          "2022-09-25T06:43:30+00:00",
          "2022-10-11T20:01:38+00:00",
          "2022-11-14T00:48:17+00:00",
          "2022-11-20T22:01:49+00:00"
         ],
         "y": [
          1,
          2,
          3,
          4,
          5,
          6,
          7,
          8,
          9,
          10,
          11,
          12,
          13,
          14,
          15,
          16,
          17
         ]
        },
        {
         "mode": "markers",
         "name": "Moorcock, Foreweird",
         "type": "scatter",
         "x": [
          "2022-08-28T02:03:16+00:00",
          "2022-08-28T06:28:04+00:00",
          "2022-08-28T19:30:50+00:00",
          "2022-08-28T19:55:18+00:00",
          "2022-08-29T00:41:24+00:00",
          "2022-08-29T02:22:31+00:00",
          "2022-08-29T03:06:17+00:00",
          "2022-08-29T03:14:04+00:00",
          "2022-08-29T14:50:20+00:00",
          "2022-08-30T11:47:43+00:00",
          "2022-08-30T13:50:33+00:00",
          "2022-08-30T14:18:20+00:00",
          "2022-09-13T00:57:30+00:00"
         ],
         "y": [
          1,
          2,
          3,
          4,
          5,
          6,
          7,
          8,
          9,
          10,
          11,
          12,
          13
         ]
        }
       ],
       "layout": {
        "height": 500,
        "template": {
         "data": {
          "bar": [
           {
            "error_x": {
             "color": "#2a3f5f"
            },
            "error_y": {
             "color": "#2a3f5f"
            },
            "marker": {
             "line": {
              "color": "#E5ECF6",
              "width": 0.5
             },
             "pattern": {
              "fillmode": "overlay",
              "size": 10,
              "solidity": 0.2
             }
            },
            "type": "bar"
           }
          ],
          "barpolar": [
           {
            "marker": {
             "line": {
              "color": "#E5ECF6",
              "width": 0.5
             },
             "pattern": {
              "fillmode": "overlay",
              "size": 10,
              "solidity": 0.2
             }
            },
            "type": "barpolar"
           }
          ],
          "carpet": [
           {
            "aaxis": {
             "endlinecolor": "#2a3f5f",
             "gridcolor": "white",
             "linecolor": "white",
             "minorgridcolor": "white",
             "startlinecolor": "#2a3f5f"
            },
            "baxis": {
             "endlinecolor": "#2a3f5f",
             "gridcolor": "white",
             "linecolor": "white",
             "minorgridcolor": "white",
             "startlinecolor": "#2a3f5f"
            },
            "type": "carpet"
           }
          ],
          "choropleth": [
           {
            "colorbar": {
             "outlinewidth": 0,
             "ticks": ""
            },
            "type": "choropleth"
           }
          ],
          "contour": [
           {
            "colorbar": {
             "outlinewidth": 0,
             "ticks": ""
            },
            "colorscale": [
             [
              0,
              "#0d0887"
             ],
             [
              0.1111111111111111,
              "#46039f"
             ],
             [
              0.2222222222222222,
              "#7201a8"
             ],
             [
              0.3333333333333333,
              "#9c179e"
             ],
             [
              0.4444444444444444,
              "#bd3786"
             ],
             [
              0.5555555555555556,
              "#d8576b"
             ],
             [
              0.6666666666666666,
              "#ed7953"
             ],
             [
              0.7777777777777778,
              "#fb9f3a"
             ],
             [
              0.8888888888888888,
              "#fdca26"
             ],
             [
              1,
              "#f0f921"
             ]
            ],
            "type": "contour"
           }
          ],
          "contourcarpet": [
           {
            "colorbar": {
             "outlinewidth": 0,
             "ticks": ""
            },
            "type": "contourcarpet"
           }
          ],
          "heatmap": [
           {
            "colorbar": {
             "outlinewidth": 0,
             "ticks": ""
            },
            "colorscale": [
             [
              0,
              "#0d0887"
             ],
             [
              0.1111111111111111,
              "#46039f"
             ],
             [
              0.2222222222222222,
              "#7201a8"
             ],
             [
              0.3333333333333333,
              "#9c179e"
             ],
             [
              0.4444444444444444,
              "#bd3786"
             ],
             [
              0.5555555555555556,
              "#d8576b"
             ],
             [
              0.6666666666666666,
              "#ed7953"
             ],
             [
              0.7777777777777778,
              "#fb9f3a"
             ],
             [
              0.8888888888888888,
              "#fdca26"
             ],
             [
              1,
              "#f0f921"
             ]
            ],
            "type": "heatmap"
           }
          ],
          "heatmapgl": [
           {
            "colorbar": {
             "outlinewidth": 0,
             "ticks": ""
            },
            "colorscale": [
             [
              0,
              "#0d0887"
             ],
             [
              0.1111111111111111,
              "#46039f"
             ],
             [
              0.2222222222222222,
              "#7201a8"
             ],
             [
              0.3333333333333333,
              "#9c179e"
             ],
             [
              0.4444444444444444,
              "#bd3786"
             ],
             [
              0.5555555555555556,
              "#d8576b"
             ],
             [
              0.6666666666666666,
              "#ed7953"
             ],
             [
              0.7777777777777778,
              "#fb9f3a"
             ],
             [
              0.8888888888888888,
              "#fdca26"
             ],
             [
              1,
              "#f0f921"
             ]
            ],
            "type": "heatmapgl"
           }
          ],
          "histogram": [
           {
            "marker": {
             "pattern": {
              "fillmode": "overlay",
              "size": 10,
              "solidity": 0.2
             }
            },
            "type": "histogram"
           }
          ],
          "histogram2d": [
           {
            "colorbar": {
             "outlinewidth": 0,
             "ticks": ""
            },
            "colorscale": [
             [
              0,
              "#0d0887"
             ],
             [
              0.1111111111111111,
              "#46039f"
             ],
             [
              0.2222222222222222,
              "#7201a8"
             ],
             [
              0.3333333333333333,
              "#9c179e"
             ],
             [
              0.4444444444444444,
              "#bd3786"
             ],
             [
              0.5555555555555556,
              "#d8576b"
             ],
             [
              0.6666666666666666,
              "#ed7953"
             ],
             [
              0.7777777777777778,
              "#fb9f3a"
             ],
             [
              0.8888888888888888,
              "#fdca26"
             ],
             [
              1,
              "#f0f921"
             ]
            ],
            "type": "histogram2d"
           }
          ],
          "histogram2dcontour": [
           {
            "colorbar": {
             "outlinewidth": 0,
             "ticks": ""
            },
            "colorscale": [
             [
              0,
              "#0d0887"
             ],
             [
              0.1111111111111111,
              "#46039f"
             ],
             [
              0.2222222222222222,
              "#7201a8"
             ],
             [
              0.3333333333333333,
              "#9c179e"
             ],
             [
              0.4444444444444444,
              "#bd3786"
             ],
             [
              0.5555555555555556,
              "#d8576b"
             ],
             [
              0.6666666666666666,
              "#ed7953"
             ],
             [
              0.7777777777777778,
              "#fb9f3a"
             ],
             [
              0.8888888888888888,
              "#fdca26"
             ],
             [
              1,
              "#f0f921"
             ]
            ],
            "type": "histogram2dcontour"
           }
          ],
          "mesh3d": [
           {
            "colorbar": {
             "outlinewidth": 0,
             "ticks": ""
            },
            "type": "mesh3d"
           }
          ],
          "parcoords": [
           {
            "line": {
             "colorbar": {
              "outlinewidth": 0,
              "ticks": ""
             }
            },
            "type": "parcoords"
           }
          ],
          "pie": [
           {
            "automargin": true,
            "type": "pie"
           }
          ],
          "scatter": [
           {
            "fillpattern": {
             "fillmode": "overlay",
             "size": 10,
             "solidity": 0.2
            },
            "type": "scatter"
           }
          ],
          "scatter3d": [
           {
            "line": {
             "colorbar": {
              "outlinewidth": 0,
              "ticks": ""
             }
            },
            "marker": {
             "colorbar": {
              "outlinewidth": 0,
              "ticks": ""
             }
            },
            "type": "scatter3d"
           }
          ],
          "scattercarpet": [
           {
            "marker": {
             "colorbar": {
              "outlinewidth": 0,
              "ticks": ""
             }
            },
            "type": "scattercarpet"
           }
          ],
          "scattergeo": [
           {
            "marker": {
             "colorbar": {
              "outlinewidth": 0,
              "ticks": ""
             }
            },
            "type": "scattergeo"
           }
          ],
          "scattergl": [
           {
            "marker": {
             "colorbar": {
              "outlinewidth": 0,
              "ticks": ""
             }
            },
            "type": "scattergl"
           }
          ],
          "scattermapbox": [
           {
            "marker": {
             "colorbar": {
              "outlinewidth": 0,
              "ticks": ""
             }
            },
            "type": "scattermapbox"
           }
          ],
          "scatterpolar": [
           {
            "marker": {
             "colorbar": {
              "outlinewidth": 0,
              "ticks": ""
             }
            },
            "type": "scatterpolar"
           }
          ],
          "scatterpolargl": [
           {
            "marker": {
             "colorbar": {
              "outlinewidth": 0,
              "ticks": ""
             }
            },
            "type": "scatterpolargl"
           }
          ],
          "scatterternary": [
           {
            "marker": {
             "colorbar": {
              "outlinewidth": 0,
              "ticks": ""
             }
            },
            "type": "scatterternary"
           }
          ],
          "surface": [
           {
            "colorbar": {
             "outlinewidth": 0,
             "ticks": ""
            },
            "colorscale": [
             [
              0,
              "#0d0887"
             ],
             [
              0.1111111111111111,
              "#46039f"
             ],
             [
              0.2222222222222222,
              "#7201a8"
             ],
             [
              0.3333333333333333,
              "#9c179e"
             ],
             [
              0.4444444444444444,
              "#bd3786"
             ],
             [
              0.5555555555555556,
              "#d8576b"
             ],
             [
              0.6666666666666666,
              "#ed7953"
             ],
             [
              0.7777777777777778,
              "#fb9f3a"
             ],
             [
              0.8888888888888888,
              "#fdca26"
             ],
             [
              1,
              "#f0f921"
             ]
            ],
            "type": "surface"
           }
          ],
          "table": [
           {
            "cells": {
             "fill": {
              "color": "#EBF0F8"
             },
             "line": {
              "color": "white"
             }
            },
            "header": {
             "fill": {
              "color": "#C8D4E3"
             },
             "line": {
              "color": "white"
             }
            },
            "type": "table"
           }
          ]
         },
         "layout": {
          "annotationdefaults": {
           "arrowcolor": "#2a3f5f",
           "arrowhead": 0,
           "arrowwidth": 1
          },
          "autotypenumbers": "strict",
          "coloraxis": {
           "colorbar": {
            "outlinewidth": 0,
            "ticks": ""
           }
          },
          "colorscale": {
           "diverging": [
            [
             0,
             "#8e0152"
            ],
            [
             0.1,
             "#c51b7d"
            ],
            [
             0.2,
             "#de77ae"
            ],
            [
             0.3,
             "#f1b6da"
            ],
            [
             0.4,
             "#fde0ef"
            ],
            [
             0.5,
             "#f7f7f7"
            ],
            [
             0.6,
             "#e6f5d0"
            ],
            [
             0.7,
             "#b8e186"
            ],
            [
             0.8,
             "#7fbc41"
            ],
            [
             0.9,
             "#4d9221"
            ],
            [
             1,
             "#276419"
            ]
           ],
           "sequential": [
            [
             0,
             "#0d0887"
            ],
            [
             0.1111111111111111,
             "#46039f"
            ],
            [
             0.2222222222222222,
             "#7201a8"
            ],
            [
             0.3333333333333333,
             "#9c179e"
            ],
            [
             0.4444444444444444,
             "#bd3786"
            ],
            [
             0.5555555555555556,
             "#d8576b"
            ],
            [
             0.6666666666666666,
             "#ed7953"
            ],
            [
             0.7777777777777778,
             "#fb9f3a"
            ],
            [
             0.8888888888888888,
             "#fdca26"
            ],
            [
             1,
             "#f0f921"
            ]
           ],
           "sequentialminus": [
            [
             0,
             "#0d0887"
            ],
            [
             0.1111111111111111,
             "#46039f"
            ],
            [
             0.2222222222222222,
             "#7201a8"
            ],
            [
             0.3333333333333333,
             "#9c179e"
            ],
            [
             0.4444444444444444,
             "#bd3786"
            ],
            [
             0.5555555555555556,
             "#d8576b"
            ],
            [
             0.6666666666666666,
             "#ed7953"
            ],
            [
             0.7777777777777778,
             "#fb9f3a"
            ],
            [
             0.8888888888888888,
             "#fdca26"
            ],
            [
             1,
             "#f0f921"
            ]
           ]
          },
          "colorway": [
           "#636efa",
           "#EF553B",
           "#00cc96",
           "#ab63fa",
           "#FFA15A",
           "#19d3f3",
           "#FF6692",
           "#B6E880",
           "#FF97FF",
           "#FECB52"
          ],
          "font": {
           "color": "#2a3f5f"
          },
          "geo": {
           "bgcolor": "white",
           "lakecolor": "white",
           "landcolor": "#E5ECF6",
           "showlakes": true,
           "showland": true,
           "subunitcolor": "white"
          },
          "hoverlabel": {
           "align": "left"
          },
          "hovermode": "closest",
          "mapbox": {
           "style": "light"
          },
          "paper_bgcolor": "white",
          "plot_bgcolor": "#E5ECF6",
          "polar": {
           "angularaxis": {
            "gridcolor": "white",
            "linecolor": "white",
            "ticks": ""
           },
           "bgcolor": "#E5ECF6",
           "radialaxis": {
            "gridcolor": "white",
            "linecolor": "white",
            "ticks": ""
           }
          },
          "scene": {
           "xaxis": {
            "backgroundcolor": "#E5ECF6",
            "gridcolor": "white",
            "gridwidth": 2,
            "linecolor": "white",
            "showbackground": true,
            "ticks": "",
            "zerolinecolor": "white"
           },
           "yaxis": {
            "backgroundcolor": "#E5ECF6",
            "gridcolor": "white",
            "gridwidth": 2,
            "linecolor": "white",
            "showbackground": true,
            "ticks": "",
            "zerolinecolor": "white"
           },
           "zaxis": {
            "backgroundcolor": "#E5ECF6",
            "gridcolor": "white",
            "gridwidth": 2,
            "linecolor": "white",
            "showbackground": true,
            "ticks": "",
            "zerolinecolor": "white"
           }
          },
          "shapedefaults": {
           "line": {
            "color": "#2a3f5f"
           }
          },
          "ternary": {
           "aaxis": {
            "gridcolor": "white",
            "linecolor": "white",
            "ticks": ""
           },
           "baxis": {
            "gridcolor": "white",
            "linecolor": "white",
            "ticks": ""
           },
           "bgcolor": "#E5ECF6",
           "caxis": {
            "gridcolor": "white",
            "linecolor": "white",
            "ticks": ""
           }
          },
          "title": {
           "x": 0.05
          },
          "xaxis": {
           "automargin": true,
           "gridcolor": "white",
           "linecolor": "white",
           "ticks": "",
           "title": {
            "standoff": 15
           },
           "zerolinecolor": "white",
           "zerolinewidth": 2
          },
          "yaxis": {
           "automargin": true,
           "gridcolor": "white",
           "linecolor": "white",
           "ticks": "",
           "title": {
            "standoff": 15
           },
           "zerolinecolor": "white",
           "zerolinewidth": 2
          }
         }
        },
        "title": {
         "text": "Plots of Most Popular First-Week Authors in Fall 2022 (Over the Entire Semester)",
         "x": 0.5
        },
        "width": 1400,
        "yaxis": {
         "title": {
          "text": "Number of Mentions"
         }
        }
       }
      }
     },
     "metadata": {},
     "output_type": "display_data"
    }
   ],
   "source": [
    "fig = go.Figure()\n",
    "\n",
    "for author_mention in plotly_df['author_mentions'].unique():\n",
    "    data = plotly_df[plotly_df['author_mentions'] == author_mention]\n",
    "    author_name = author_mapping.get(author_mention, str(author_mention))\n",
    "    fig.add_trace(go.Scatter(\n",
    "        x=data['created_at'],\n",
    "        y=data['cumulative_count'],\n",
    "        name=author_name,\n",
    "        mode='markers',\n",
    "    ))\n",
    "\n",
    "    fig.update_layout(\n",
    "    title_text='Plots of Most Popular First-Week Authors in Fall 2022 (Over the Entire Semester)',\n",
    "    title_x=0.5,\n",
    "    width=1400,\n",
    "    height=500,\n",
    "    yaxis=dict(title='Number of Mentions')\n",
    ")\n",
    "\n",
    "fig.show()"
   ]
  },
  {
   "cell_type": "code",
   "execution_count": 62,
   "metadata": {},
   "outputs": [
    {
     "data": {
      "application/vnd.plotly.v1+json": {
       "config": {
        "plotlyServerURL": "https://plot.ly"
       },
       "data": [
        {
         "mode": "markers",
         "name": "Fisher, The Weird and the Eerie",
         "type": "scatter",
         "x": [
          "2022-08-25T23:21:51+00:00",
          "2022-08-28T00:17:09+00:00",
          "2022-08-28T02:03:16+00:00",
          "2022-08-28T05:07:00+00:00",
          "2022-08-28T15:58:24+00:00",
          "2022-08-28T16:16:01+00:00",
          "2022-08-28T20:29:12+00:00",
          "2022-08-28T23:51:24+00:00",
          "2022-08-29T00:50:51+00:00",
          "2022-08-29T01:18:47+00:00",
          "2022-08-29T01:52:21+00:00",
          "2022-08-29T02:30:21+00:00",
          "2022-08-29T02:39:56+00:00",
          "2022-08-29T02:43:26+00:00",
          "2022-08-29T19:17:11+00:00",
          "2022-08-29T23:03:32+00:00"
         ],
         "y": [
          1,
          2,
          3,
          4,
          5,
          6,
          7,
          8,
          9,
          10,
          11,
          12,
          13,
          14,
          15,
          16
         ]
        },
        {
         "mode": "markers",
         "name": "Freud, The Uncanny",
         "type": "scatter",
         "x": [
          "2022-08-26T22:20:34+00:00",
          "2022-08-27T17:41:03+00:00",
          "2022-08-27T23:04:58+00:00",
          "2022-08-28T00:17:09+00:00",
          "2022-08-28T01:26:16+00:00",
          "2022-08-28T02:03:16+00:00",
          "2022-08-28T05:07:00+00:00",
          "2022-08-28T06:28:04+00:00",
          "2022-08-28T15:58:24+00:00",
          "2022-08-28T20:03:45+00:00",
          "2022-08-28T20:48:54+00:00",
          "2022-08-28T21:13:08+00:00",
          "2022-08-28T22:01:54+00:00",
          "2022-08-28T23:40:03+00:00",
          "2022-08-29T01:15:32+00:00",
          "2022-08-29T01:18:56+00:00",
          "2022-08-29T01:52:21+00:00",
          "2022-08-29T02:22:06+00:00",
          "2022-08-29T02:39:56+00:00",
          "2022-08-29T03:06:17+00:00",
          "2022-08-29T03:21:09+00:00",
          "2022-08-29T04:02:26+00:00",
          "2022-08-29T04:54:40+00:00",
          "2022-08-29T04:56:40+00:00",
          "2022-08-29T05:24:50+00:00",
          "2022-08-29T14:50:20+00:00",
          "2022-08-30T03:48:43+00:00"
         ],
         "y": [
          1,
          2,
          3,
          4,
          5,
          6,
          7,
          8,
          9,
          10,
          11,
          12,
          13,
          14,
          15,
          16,
          17,
          18,
          19,
          20,
          21,
          22,
          23,
          24,
          25,
          26,
          27
         ]
        },
        {
         "mode": "markers",
         "name": "Lovecraft, Supernatural Horror in Literature",
         "type": "scatter",
         "x": [
          "2022-08-27T06:30:33+00:00",
          "2022-08-27T17:41:03+00:00",
          "2022-08-27T23:02:16+00:00",
          "2022-08-27T23:04:58+00:00",
          "2022-08-28T00:16:36+00:00",
          "2022-08-28T00:17:09+00:00",
          "2022-08-28T01:26:16+00:00",
          "2022-08-28T05:07:00+00:00",
          "2022-08-28T15:58:24+00:00",
          "2022-08-28T16:01:21+00:00",
          "2022-08-28T16:16:01+00:00",
          "2022-08-28T17:57:11+00:00",
          "2022-08-28T20:03:45+00:00",
          "2022-08-28T20:54:08+00:00",
          "2022-08-28T23:40:03+00:00",
          "2022-08-28T23:51:24+00:00",
          "2022-08-29T00:05:39+00:00",
          "2022-08-29T00:09:01+00:00",
          "2022-08-29T00:41:24+00:00",
          "2022-08-29T00:54:46+00:00",
          "2022-08-29T01:15:32+00:00",
          "2022-08-29T01:18:47+00:00",
          "2022-08-29T02:22:31+00:00",
          "2022-08-29T02:30:21+00:00",
          "2022-08-29T02:43:26+00:00",
          "2022-08-29T03:29:09+00:00",
          "2022-08-29T04:10:15+00:00",
          "2022-08-29T04:36:26+00:00",
          "2022-08-29T04:51:21+00:00",
          "2022-08-29T05:24:50+00:00",
          "2022-08-29T18:41:49+00:00",
          "2022-08-29T19:17:11+00:00",
          "2022-08-29T23:03:32+00:00"
         ],
         "y": [
          1,
          2,
          3,
          4,
          5,
          6,
          7,
          8,
          9,
          10,
          11,
          12,
          13,
          14,
          15,
          16,
          17,
          18,
          19,
          20,
          21,
          22,
          23,
          24,
          25,
          26,
          27,
          28,
          29,
          30,
          31,
          32,
          33
         ]
        },
        {
         "mode": "markers",
         "name": "Lovecraft, Notes on Writing Weird Fiction",
         "type": "scatter",
         "x": [
          "2022-08-27T23:02:16+00:00",
          "2022-08-28T20:03:45+00:00",
          "2022-08-28T23:40:03+00:00"
         ],
         "y": [
          1,
          2,
          3
         ]
        },
        {
         "mode": "markers",
         "name": "VanderMeers, Introduction",
         "type": "scatter",
         "x": [
          "2022-08-28T02:03:16+00:00",
          "2022-08-28T19:30:50+00:00",
          "2022-08-28T19:55:18+00:00",
          "2022-08-29T01:15:32+00:00",
          "2022-08-29T02:22:31+00:00",
          "2022-08-29T03:06:17+00:00",
          "2022-08-29T04:36:26+00:00",
          "2022-08-29T04:56:40+00:00",
          "2022-08-30T11:47:43+00:00"
         ],
         "y": [
          1,
          2,
          3,
          4,
          5,
          6,
          7,
          8,
          9
         ]
        },
        {
         "mode": "markers",
         "name": "Moorcock, Foreweird",
         "type": "scatter",
         "x": [
          "2022-08-28T02:03:16+00:00",
          "2022-08-28T06:28:04+00:00",
          "2022-08-28T19:30:50+00:00",
          "2022-08-28T19:55:18+00:00",
          "2022-08-29T00:41:24+00:00",
          "2022-08-29T02:22:31+00:00",
          "2022-08-29T03:06:17+00:00",
          "2022-08-29T03:14:04+00:00",
          "2022-08-29T14:50:20+00:00",
          "2022-08-30T11:47:43+00:00",
          "2022-08-30T13:50:33+00:00",
          "2022-08-30T14:18:20+00:00"
         ],
         "y": [
          1,
          2,
          3,
          4,
          5,
          6,
          7,
          8,
          9,
          10,
          11,
          12
         ]
        }
       ],
       "layout": {
        "annotations": [
         {
          "arrowhead": 1,
          "showarrow": false,
          "text": "Due Date",
          "x": "2022-08-29T04:59:59Z",
          "y": 45
         }
        ],
        "height": 500,
        "shapes": [
         {
          "line": {
           "color": "red",
           "dash": "dash",
           "width": 3
          },
          "type": "line",
          "x0": "2022-08-29T04:59:59Z",
          "x1": "2022-08-29T04:59:59Z",
          "xref": "x",
          "y0": 0,
          "y1": 1,
          "yref": "y domain"
         }
        ],
        "template": {
         "data": {
          "bar": [
           {
            "error_x": {
             "color": "#2a3f5f"
            },
            "error_y": {
             "color": "#2a3f5f"
            },
            "marker": {
             "line": {
              "color": "#E5ECF6",
              "width": 0.5
             },
             "pattern": {
              "fillmode": "overlay",
              "size": 10,
              "solidity": 0.2
             }
            },
            "type": "bar"
           }
          ],
          "barpolar": [
           {
            "marker": {
             "line": {
              "color": "#E5ECF6",
              "width": 0.5
             },
             "pattern": {
              "fillmode": "overlay",
              "size": 10,
              "solidity": 0.2
             }
            },
            "type": "barpolar"
           }
          ],
          "carpet": [
           {
            "aaxis": {
             "endlinecolor": "#2a3f5f",
             "gridcolor": "white",
             "linecolor": "white",
             "minorgridcolor": "white",
             "startlinecolor": "#2a3f5f"
            },
            "baxis": {
             "endlinecolor": "#2a3f5f",
             "gridcolor": "white",
             "linecolor": "white",
             "minorgridcolor": "white",
             "startlinecolor": "#2a3f5f"
            },
            "type": "carpet"
           }
          ],
          "choropleth": [
           {
            "colorbar": {
             "outlinewidth": 0,
             "ticks": ""
            },
            "type": "choropleth"
           }
          ],
          "contour": [
           {
            "colorbar": {
             "outlinewidth": 0,
             "ticks": ""
            },
            "colorscale": [
             [
              0,
              "#0d0887"
             ],
             [
              0.1111111111111111,
              "#46039f"
             ],
             [
              0.2222222222222222,
              "#7201a8"
             ],
             [
              0.3333333333333333,
              "#9c179e"
             ],
             [
              0.4444444444444444,
              "#bd3786"
             ],
             [
              0.5555555555555556,
              "#d8576b"
             ],
             [
              0.6666666666666666,
              "#ed7953"
             ],
             [
              0.7777777777777778,
              "#fb9f3a"
             ],
             [
              0.8888888888888888,
              "#fdca26"
             ],
             [
              1,
              "#f0f921"
             ]
            ],
            "type": "contour"
           }
          ],
          "contourcarpet": [
           {
            "colorbar": {
             "outlinewidth": 0,
             "ticks": ""
            },
            "type": "contourcarpet"
           }
          ],
          "heatmap": [
           {
            "colorbar": {
             "outlinewidth": 0,
             "ticks": ""
            },
            "colorscale": [
             [
              0,
              "#0d0887"
             ],
             [
              0.1111111111111111,
              "#46039f"
             ],
             [
              0.2222222222222222,
              "#7201a8"
             ],
             [
              0.3333333333333333,
              "#9c179e"
             ],
             [
              0.4444444444444444,
              "#bd3786"
             ],
             [
              0.5555555555555556,
              "#d8576b"
             ],
             [
              0.6666666666666666,
              "#ed7953"
             ],
             [
              0.7777777777777778,
              "#fb9f3a"
             ],
             [
              0.8888888888888888,
              "#fdca26"
             ],
             [
              1,
              "#f0f921"
             ]
            ],
            "type": "heatmap"
           }
          ],
          "heatmapgl": [
           {
            "colorbar": {
             "outlinewidth": 0,
             "ticks": ""
            },
            "colorscale": [
             [
              0,
              "#0d0887"
             ],
             [
              0.1111111111111111,
              "#46039f"
             ],
             [
              0.2222222222222222,
              "#7201a8"
             ],
             [
              0.3333333333333333,
              "#9c179e"
             ],
             [
              0.4444444444444444,
              "#bd3786"
             ],
             [
              0.5555555555555556,
              "#d8576b"
             ],
             [
              0.6666666666666666,
              "#ed7953"
             ],
             [
              0.7777777777777778,
              "#fb9f3a"
             ],
             [
              0.8888888888888888,
              "#fdca26"
             ],
             [
              1,
              "#f0f921"
             ]
            ],
            "type": "heatmapgl"
           }
          ],
          "histogram": [
           {
            "marker": {
             "pattern": {
              "fillmode": "overlay",
              "size": 10,
              "solidity": 0.2
             }
            },
            "type": "histogram"
           }
          ],
          "histogram2d": [
           {
            "colorbar": {
             "outlinewidth": 0,
             "ticks": ""
            },
            "colorscale": [
             [
              0,
              "#0d0887"
             ],
             [
              0.1111111111111111,
              "#46039f"
             ],
             [
              0.2222222222222222,
              "#7201a8"
             ],
             [
              0.3333333333333333,
              "#9c179e"
             ],
             [
              0.4444444444444444,
              "#bd3786"
             ],
             [
              0.5555555555555556,
              "#d8576b"
             ],
             [
              0.6666666666666666,
              "#ed7953"
             ],
             [
              0.7777777777777778,
              "#fb9f3a"
             ],
             [
              0.8888888888888888,
              "#fdca26"
             ],
             [
              1,
              "#f0f921"
             ]
            ],
            "type": "histogram2d"
           }
          ],
          "histogram2dcontour": [
           {
            "colorbar": {
             "outlinewidth": 0,
             "ticks": ""
            },
            "colorscale": [
             [
              0,
              "#0d0887"
             ],
             [
              0.1111111111111111,
              "#46039f"
             ],
             [
              0.2222222222222222,
              "#7201a8"
             ],
             [
              0.3333333333333333,
              "#9c179e"
             ],
             [
              0.4444444444444444,
              "#bd3786"
             ],
             [
              0.5555555555555556,
              "#d8576b"
             ],
             [
              0.6666666666666666,
              "#ed7953"
             ],
             [
              0.7777777777777778,
              "#fb9f3a"
             ],
             [
              0.8888888888888888,
              "#fdca26"
             ],
             [
              1,
              "#f0f921"
             ]
            ],
            "type": "histogram2dcontour"
           }
          ],
          "mesh3d": [
           {
            "colorbar": {
             "outlinewidth": 0,
             "ticks": ""
            },
            "type": "mesh3d"
           }
          ],
          "parcoords": [
           {
            "line": {
             "colorbar": {
              "outlinewidth": 0,
              "ticks": ""
             }
            },
            "type": "parcoords"
           }
          ],
          "pie": [
           {
            "automargin": true,
            "type": "pie"
           }
          ],
          "scatter": [
           {
            "fillpattern": {
             "fillmode": "overlay",
             "size": 10,
             "solidity": 0.2
            },
            "type": "scatter"
           }
          ],
          "scatter3d": [
           {
            "line": {
             "colorbar": {
              "outlinewidth": 0,
              "ticks": ""
             }
            },
            "marker": {
             "colorbar": {
              "outlinewidth": 0,
              "ticks": ""
             }
            },
            "type": "scatter3d"
           }
          ],
          "scattercarpet": [
           {
            "marker": {
             "colorbar": {
              "outlinewidth": 0,
              "ticks": ""
             }
            },
            "type": "scattercarpet"
           }
          ],
          "scattergeo": [
           {
            "marker": {
             "colorbar": {
              "outlinewidth": 0,
              "ticks": ""
             }
            },
            "type": "scattergeo"
           }
          ],
          "scattergl": [
           {
            "marker": {
             "colorbar": {
              "outlinewidth": 0,
              "ticks": ""
             }
            },
            "type": "scattergl"
           }
          ],
          "scattermapbox": [
           {
            "marker": {
             "colorbar": {
              "outlinewidth": 0,
              "ticks": ""
             }
            },
            "type": "scattermapbox"
           }
          ],
          "scatterpolar": [
           {
            "marker": {
             "colorbar": {
              "outlinewidth": 0,
              "ticks": ""
             }
            },
            "type": "scatterpolar"
           }
          ],
          "scatterpolargl": [
           {
            "marker": {
             "colorbar": {
              "outlinewidth": 0,
              "ticks": ""
             }
            },
            "type": "scatterpolargl"
           }
          ],
          "scatterternary": [
           {
            "marker": {
             "colorbar": {
              "outlinewidth": 0,
              "ticks": ""
             }
            },
            "type": "scatterternary"
           }
          ],
          "surface": [
           {
            "colorbar": {
             "outlinewidth": 0,
             "ticks": ""
            },
            "colorscale": [
             [
              0,
              "#0d0887"
             ],
             [
              0.1111111111111111,
              "#46039f"
             ],
             [
              0.2222222222222222,
              "#7201a8"
             ],
             [
              0.3333333333333333,
              "#9c179e"
             ],
             [
              0.4444444444444444,
              "#bd3786"
             ],
             [
              0.5555555555555556,
              "#d8576b"
             ],
             [
              0.6666666666666666,
              "#ed7953"
             ],
             [
              0.7777777777777778,
              "#fb9f3a"
             ],
             [
              0.8888888888888888,
              "#fdca26"
             ],
             [
              1,
              "#f0f921"
             ]
            ],
            "type": "surface"
           }
          ],
          "table": [
           {
            "cells": {
             "fill": {
              "color": "#EBF0F8"
             },
             "line": {
              "color": "white"
             }
            },
            "header": {
             "fill": {
              "color": "#C8D4E3"
             },
             "line": {
              "color": "white"
             }
            },
            "type": "table"
           }
          ]
         },
         "layout": {
          "annotationdefaults": {
           "arrowcolor": "#2a3f5f",
           "arrowhead": 0,
           "arrowwidth": 1
          },
          "autotypenumbers": "strict",
          "coloraxis": {
           "colorbar": {
            "outlinewidth": 0,
            "ticks": ""
           }
          },
          "colorscale": {
           "diverging": [
            [
             0,
             "#8e0152"
            ],
            [
             0.1,
             "#c51b7d"
            ],
            [
             0.2,
             "#de77ae"
            ],
            [
             0.3,
             "#f1b6da"
            ],
            [
             0.4,
             "#fde0ef"
            ],
            [
             0.5,
             "#f7f7f7"
            ],
            [
             0.6,
             "#e6f5d0"
            ],
            [
             0.7,
             "#b8e186"
            ],
            [
             0.8,
             "#7fbc41"
            ],
            [
             0.9,
             "#4d9221"
            ],
            [
             1,
             "#276419"
            ]
           ],
           "sequential": [
            [
             0,
             "#0d0887"
            ],
            [
             0.1111111111111111,
             "#46039f"
            ],
            [
             0.2222222222222222,
             "#7201a8"
            ],
            [
             0.3333333333333333,
             "#9c179e"
            ],
            [
             0.4444444444444444,
             "#bd3786"
            ],
            [
             0.5555555555555556,
             "#d8576b"
            ],
            [
             0.6666666666666666,
             "#ed7953"
            ],
            [
             0.7777777777777778,
             "#fb9f3a"
            ],
            [
             0.8888888888888888,
             "#fdca26"
            ],
            [
             1,
             "#f0f921"
            ]
           ],
           "sequentialminus": [
            [
             0,
             "#0d0887"
            ],
            [
             0.1111111111111111,
             "#46039f"
            ],
            [
             0.2222222222222222,
             "#7201a8"
            ],
            [
             0.3333333333333333,
             "#9c179e"
            ],
            [
             0.4444444444444444,
             "#bd3786"
            ],
            [
             0.5555555555555556,
             "#d8576b"
            ],
            [
             0.6666666666666666,
             "#ed7953"
            ],
            [
             0.7777777777777778,
             "#fb9f3a"
            ],
            [
             0.8888888888888888,
             "#fdca26"
            ],
            [
             1,
             "#f0f921"
            ]
           ]
          },
          "colorway": [
           "#636efa",
           "#EF553B",
           "#00cc96",
           "#ab63fa",
           "#FFA15A",
           "#19d3f3",
           "#FF6692",
           "#B6E880",
           "#FF97FF",
           "#FECB52"
          ],
          "font": {
           "color": "#2a3f5f"
          },
          "geo": {
           "bgcolor": "white",
           "lakecolor": "white",
           "landcolor": "#E5ECF6",
           "showlakes": true,
           "showland": true,
           "subunitcolor": "white"
          },
          "hoverlabel": {
           "align": "left"
          },
          "hovermode": "closest",
          "mapbox": {
           "style": "light"
          },
          "paper_bgcolor": "white",
          "plot_bgcolor": "#E5ECF6",
          "polar": {
           "angularaxis": {
            "gridcolor": "white",
            "linecolor": "white",
            "ticks": ""
           },
           "bgcolor": "#E5ECF6",
           "radialaxis": {
            "gridcolor": "white",
            "linecolor": "white",
            "ticks": ""
           }
          },
          "scene": {
           "xaxis": {
            "backgroundcolor": "#E5ECF6",
            "gridcolor": "white",
            "gridwidth": 2,
            "linecolor": "white",
            "showbackground": true,
            "ticks": "",
            "zerolinecolor": "white"
           },
           "yaxis": {
            "backgroundcolor": "#E5ECF6",
            "gridcolor": "white",
            "gridwidth": 2,
            "linecolor": "white",
            "showbackground": true,
            "ticks": "",
            "zerolinecolor": "white"
           },
           "zaxis": {
            "backgroundcolor": "#E5ECF6",
            "gridcolor": "white",
            "gridwidth": 2,
            "linecolor": "white",
            "showbackground": true,
            "ticks": "",
            "zerolinecolor": "white"
           }
          },
          "shapedefaults": {
           "line": {
            "color": "#2a3f5f"
           }
          },
          "ternary": {
           "aaxis": {
            "gridcolor": "white",
            "linecolor": "white",
            "ticks": ""
           },
           "baxis": {
            "gridcolor": "white",
            "linecolor": "white",
            "ticks": ""
           },
           "bgcolor": "#E5ECF6",
           "caxis": {
            "gridcolor": "white",
            "linecolor": "white",
            "ticks": ""
           }
          },
          "title": {
           "x": 0.05
          },
          "xaxis": {
           "automargin": true,
           "gridcolor": "white",
           "linecolor": "white",
           "ticks": "",
           "title": {
            "standoff": 15
           },
           "zerolinecolor": "white",
           "zerolinewidth": 2
          },
          "yaxis": {
           "automargin": true,
           "gridcolor": "white",
           "linecolor": "white",
           "ticks": "",
           "title": {
            "standoff": 15
           },
           "zerolinecolor": "white",
           "zerolinewidth": 2
          }
         }
        },
        "title": {
         "text": "Plots of Most Popular First-Week Authors in Fall 2022 with Assignment Due Date",
         "x": 0.5
        },
        "width": 1400,
        "xaxis": {
         "title": {
          "text": "Post Creation Timestamp"
         }
        },
        "yaxis": {
         "title": {
          "text": "Cumulative Count of Author Mentions"
         }
        }
       }
      }
     },
     "metadata": {},
     "output_type": "display_data"
    }
   ],
   "source": [
    "start_time = pd.Timestamp('2022-08-24 00:00:00').tz_localize('UTC')\n",
    "end_time = pd.Timestamp('2022-09-01 23:59:59').tz_localize('UTC')\n",
    "due_date = \"2022-08-29T04:59:59Z\"\n",
    "\n",
    "# Filter the DataFrame for the desired time frame\n",
    "fig = go.Figure()\n",
    "\n",
    "filtered_data_by_time_frame = plotly_df[(plotly_df['created_at'] >= start_time) & (plotly_df['created_at'] <= end_time)]\n",
    "\n",
    "for author_mention in filtered_data_by_time_frame['author_mentions'].unique():\n",
    "    data = filtered_data_by_time_frame[filtered_data_by_time_frame['author_mentions'] == author_mention]\n",
    "    author_name = author_mapping.get(author_mention, str(author_mention))\n",
    "    fig.add_trace(go.Scatter(\n",
    "        x=data['created_at'],\n",
    "        y=data['cumulative_count'],\n",
    "        name=author_name,\n",
    "        mode='markers',\n",
    "    ))\n",
    "\n",
    "fig.update_layout(\n",
    "    title_text='Plots of Most Popular First-Week Authors in Fall 2022 with Assignment Due Date',\n",
    "    title_x=0.5,\n",
    "    width=1400,\n",
    "    height=500,\n",
    "    yaxis=dict(title='Number of Mentions')\n",
    ")\n",
    "\n",
    "fig.add_vline(x=due_date, line_width=3, line_dash=\"dash\", line_color=\"red\")\n",
    "fig.add_annotation(x=due_date, y=45, text=\"Due Date\", showarrow=False, arrowhead=1)\n",
    "\n",
    "# Set the x-axis and y-axis labels\n",
    "fig.update_xaxes(title_text='Post Creation Timestamp')\n",
    "fig.update_yaxes(title_text='Cumulative Count of Author Mentions')\n",
    "\n",
    "# Show the plot\n",
    "fig.show()"
   ]
  },
  {
   "cell_type": "code",
   "execution_count": 63,
   "metadata": {},
   "outputs": [
    {
     "data": {
      "text/html": [
       "<div>\n",
       "<style scoped>\n",
       "    .dataframe tbody tr th:only-of-type {\n",
       "        vertical-align: middle;\n",
       "    }\n",
       "\n",
       "    .dataframe tbody tr th {\n",
       "        vertical-align: top;\n",
       "    }\n",
       "\n",
       "    .dataframe thead th {\n",
       "        text-align: right;\n",
       "    }\n",
       "</style>\n",
       "<table border=\"1\" class=\"dataframe\">\n",
       "  <thead>\n",
       "    <tr style=\"text-align: right;\">\n",
       "      <th></th>\n",
       "      <th>created_at</th>\n",
       "      <th>author_mentions</th>\n",
       "      <th>cumulative_count</th>\n",
       "    </tr>\n",
       "  </thead>\n",
       "  <tbody>\n",
       "    <tr>\n",
       "      <th>6417</th>\n",
       "      <td>2022-08-27 06:30:33+00:00</td>\n",
       "      <td>1</td>\n",
       "      <td>1</td>\n",
       "    </tr>\n",
       "    <tr>\n",
       "      <th>6412</th>\n",
       "      <td>2022-08-27 17:41:03+00:00</td>\n",
       "      <td>1</td>\n",
       "      <td>2</td>\n",
       "    </tr>\n",
       "    <tr>\n",
       "      <th>2048</th>\n",
       "      <td>2022-08-27 23:02:16+00:00</td>\n",
       "      <td>1</td>\n",
       "      <td>3</td>\n",
       "    </tr>\n",
       "    <tr>\n",
       "      <th>6411</th>\n",
       "      <td>2022-08-27 23:04:58+00:00</td>\n",
       "      <td>1</td>\n",
       "      <td>4</td>\n",
       "    </tr>\n",
       "    <tr>\n",
       "      <th>6386</th>\n",
       "      <td>2022-08-28 00:16:36+00:00</td>\n",
       "      <td>1</td>\n",
       "      <td>5</td>\n",
       "    </tr>\n",
       "    <tr>\n",
       "      <th>2047</th>\n",
       "      <td>2022-08-28 00:17:09+00:00</td>\n",
       "      <td>1</td>\n",
       "      <td>6</td>\n",
       "    </tr>\n",
       "    <tr>\n",
       "      <th>6410</th>\n",
       "      <td>2022-08-28 01:26:16+00:00</td>\n",
       "      <td>1</td>\n",
       "      <td>7</td>\n",
       "    </tr>\n",
       "    <tr>\n",
       "      <th>6382</th>\n",
       "      <td>2022-08-28 05:07:00+00:00</td>\n",
       "      <td>1</td>\n",
       "      <td>8</td>\n",
       "    </tr>\n",
       "    <tr>\n",
       "      <th>2046</th>\n",
       "      <td>2022-08-28 15:58:24+00:00</td>\n",
       "      <td>1</td>\n",
       "      <td>9</td>\n",
       "    </tr>\n",
       "    <tr>\n",
       "      <th>6416</th>\n",
       "      <td>2022-08-28 16:01:21+00:00</td>\n",
       "      <td>1</td>\n",
       "      <td>10</td>\n",
       "    </tr>\n",
       "  </tbody>\n",
       "</table>\n",
       "</div>"
      ],
      "text/plain": [
       "                    created_at author_mentions  cumulative_count\n",
       "6417 2022-08-27 06:30:33+00:00               1                 1\n",
       "6412 2022-08-27 17:41:03+00:00               1                 2\n",
       "2048 2022-08-27 23:02:16+00:00               1                 3\n",
       "6411 2022-08-27 23:04:58+00:00               1                 4\n",
       "6386 2022-08-28 00:16:36+00:00               1                 5\n",
       "2047 2022-08-28 00:17:09+00:00               1                 6\n",
       "6410 2022-08-28 01:26:16+00:00               1                 7\n",
       "6382 2022-08-28 05:07:00+00:00               1                 8\n",
       "2046 2022-08-28 15:58:24+00:00               1                 9\n",
       "6416 2022-08-28 16:01:21+00:00               1                10"
      ]
     },
     "execution_count": 63,
     "metadata": {},
     "output_type": "execute_result"
    }
   ],
   "source": [
    "selected_author_mentions = 1\n",
    "\n",
    "# Filter the dataframe for the selected author_mentions ID\n",
    "filtered_data = plotly_df[plotly_df['author_mentions'] == selected_author_mentions]\n",
    "filtered_data = filtered_data.sort_values('created_at')\n",
    "filtered_data.sort_values('created_at')\n",
    "filtered_data['cumulative_count'] = filtered_data.groupby('author_mentions').cumcount() + 1\n",
    "filtered_data.head(10)"
   ]
  },
  {
   "cell_type": "code",
   "execution_count": 64,
   "metadata": {},
   "outputs": [
    {
     "data": {
      "application/vnd.plotly.v1+json": {
       "config": {
        "plotlyServerURL": "https://plot.ly"
       },
       "data": [
        {
         "mode": "markers",
         "name": "Lovecraft, Supernatural Horror in Literature",
         "type": "scatter",
         "x": [
          "2022-08-27T06:30:33+00:00",
          "2022-08-27T17:41:03+00:00",
          "2022-08-27T23:02:16+00:00",
          "2022-08-27T23:04:58+00:00",
          "2022-08-28T00:16:36+00:00",
          "2022-08-28T00:17:09+00:00",
          "2022-08-28T01:26:16+00:00",
          "2022-08-28T05:07:00+00:00",
          "2022-08-28T15:58:24+00:00",
          "2022-08-28T16:01:21+00:00",
          "2022-08-28T16:16:01+00:00",
          "2022-08-28T17:57:11+00:00",
          "2022-08-28T20:03:45+00:00",
          "2022-08-28T20:54:08+00:00",
          "2022-08-28T23:40:03+00:00",
          "2022-08-28T23:51:24+00:00",
          "2022-08-29T00:05:39+00:00",
          "2022-08-29T00:09:01+00:00",
          "2022-08-29T00:41:24+00:00",
          "2022-08-29T00:54:46+00:00",
          "2022-08-29T01:15:32+00:00",
          "2022-08-29T01:18:47+00:00",
          "2022-08-29T02:22:31+00:00",
          "2022-08-29T02:30:21+00:00",
          "2022-08-29T02:43:26+00:00",
          "2022-08-29T03:29:09+00:00",
          "2022-08-29T04:10:15+00:00",
          "2022-08-29T04:36:26+00:00",
          "2022-08-29T04:51:21+00:00",
          "2022-08-29T05:24:50+00:00",
          "2022-08-29T18:41:49+00:00",
          "2022-08-29T19:17:11+00:00",
          "2022-08-29T23:03:32+00:00",
          "2022-09-12T03:02:07+00:00",
          "2022-09-13T00:57:30+00:00",
          "2022-11-28T06:01:10+00:00",
          "2022-12-05T04:19:26+00:00"
         ],
         "y": [
          1,
          2,
          3,
          4,
          5,
          6,
          7,
          8,
          9,
          10,
          11,
          12,
          13,
          14,
          15,
          16,
          17,
          18,
          19,
          20,
          21,
          22,
          23,
          24,
          25,
          26,
          27,
          28,
          29,
          30,
          31,
          32,
          33,
          34,
          35,
          36,
          37
         ]
        }
       ],
       "layout": {
        "height": 500,
        "template": {
         "data": {
          "bar": [
           {
            "error_x": {
             "color": "#2a3f5f"
            },
            "error_y": {
             "color": "#2a3f5f"
            },
            "marker": {
             "line": {
              "color": "#E5ECF6",
              "width": 0.5
             },
             "pattern": {
              "fillmode": "overlay",
              "size": 10,
              "solidity": 0.2
             }
            },
            "type": "bar"
           }
          ],
          "barpolar": [
           {
            "marker": {
             "line": {
              "color": "#E5ECF6",
              "width": 0.5
             },
             "pattern": {
              "fillmode": "overlay",
              "size": 10,
              "solidity": 0.2
             }
            },
            "type": "barpolar"
           }
          ],
          "carpet": [
           {
            "aaxis": {
             "endlinecolor": "#2a3f5f",
             "gridcolor": "white",
             "linecolor": "white",
             "minorgridcolor": "white",
             "startlinecolor": "#2a3f5f"
            },
            "baxis": {
             "endlinecolor": "#2a3f5f",
             "gridcolor": "white",
             "linecolor": "white",
             "minorgridcolor": "white",
             "startlinecolor": "#2a3f5f"
            },
            "type": "carpet"
           }
          ],
          "choropleth": [
           {
            "colorbar": {
             "outlinewidth": 0,
             "ticks": ""
            },
            "type": "choropleth"
           }
          ],
          "contour": [
           {
            "colorbar": {
             "outlinewidth": 0,
             "ticks": ""
            },
            "colorscale": [
             [
              0,
              "#0d0887"
             ],
             [
              0.1111111111111111,
              "#46039f"
             ],
             [
              0.2222222222222222,
              "#7201a8"
             ],
             [
              0.3333333333333333,
              "#9c179e"
             ],
             [
              0.4444444444444444,
              "#bd3786"
             ],
             [
              0.5555555555555556,
              "#d8576b"
             ],
             [
              0.6666666666666666,
              "#ed7953"
             ],
             [
              0.7777777777777778,
              "#fb9f3a"
             ],
             [
              0.8888888888888888,
              "#fdca26"
             ],
             [
              1,
              "#f0f921"
             ]
            ],
            "type": "contour"
           }
          ],
          "contourcarpet": [
           {
            "colorbar": {
             "outlinewidth": 0,
             "ticks": ""
            },
            "type": "contourcarpet"
           }
          ],
          "heatmap": [
           {
            "colorbar": {
             "outlinewidth": 0,
             "ticks": ""
            },
            "colorscale": [
             [
              0,
              "#0d0887"
             ],
             [
              0.1111111111111111,
              "#46039f"
             ],
             [
              0.2222222222222222,
              "#7201a8"
             ],
             [
              0.3333333333333333,
              "#9c179e"
             ],
             [
              0.4444444444444444,
              "#bd3786"
             ],
             [
              0.5555555555555556,
              "#d8576b"
             ],
             [
              0.6666666666666666,
              "#ed7953"
             ],
             [
              0.7777777777777778,
              "#fb9f3a"
             ],
             [
              0.8888888888888888,
              "#fdca26"
             ],
             [
              1,
              "#f0f921"
             ]
            ],
            "type": "heatmap"
           }
          ],
          "heatmapgl": [
           {
            "colorbar": {
             "outlinewidth": 0,
             "ticks": ""
            },
            "colorscale": [
             [
              0,
              "#0d0887"
             ],
             [
              0.1111111111111111,
              "#46039f"
             ],
             [
              0.2222222222222222,
              "#7201a8"
             ],
             [
              0.3333333333333333,
              "#9c179e"
             ],
             [
              0.4444444444444444,
              "#bd3786"
             ],
             [
              0.5555555555555556,
              "#d8576b"
             ],
             [
              0.6666666666666666,
              "#ed7953"
             ],
             [
              0.7777777777777778,
              "#fb9f3a"
             ],
             [
              0.8888888888888888,
              "#fdca26"
             ],
             [
              1,
              "#f0f921"
             ]
            ],
            "type": "heatmapgl"
           }
          ],
          "histogram": [
           {
            "marker": {
             "pattern": {
              "fillmode": "overlay",
              "size": 10,
              "solidity": 0.2
             }
            },
            "type": "histogram"
           }
          ],
          "histogram2d": [
           {
            "colorbar": {
             "outlinewidth": 0,
             "ticks": ""
            },
            "colorscale": [
             [
              0,
              "#0d0887"
             ],
             [
              0.1111111111111111,
              "#46039f"
             ],
             [
              0.2222222222222222,
              "#7201a8"
             ],
             [
              0.3333333333333333,
              "#9c179e"
             ],
             [
              0.4444444444444444,
              "#bd3786"
             ],
             [
              0.5555555555555556,
              "#d8576b"
             ],
             [
              0.6666666666666666,
              "#ed7953"
             ],
             [
              0.7777777777777778,
              "#fb9f3a"
             ],
             [
              0.8888888888888888,
              "#fdca26"
             ],
             [
              1,
              "#f0f921"
             ]
            ],
            "type": "histogram2d"
           }
          ],
          "histogram2dcontour": [
           {
            "colorbar": {
             "outlinewidth": 0,
             "ticks": ""
            },
            "colorscale": [
             [
              0,
              "#0d0887"
             ],
             [
              0.1111111111111111,
              "#46039f"
             ],
             [
              0.2222222222222222,
              "#7201a8"
             ],
             [
              0.3333333333333333,
              "#9c179e"
             ],
             [
              0.4444444444444444,
              "#bd3786"
             ],
             [
              0.5555555555555556,
              "#d8576b"
             ],
             [
              0.6666666666666666,
              "#ed7953"
             ],
             [
              0.7777777777777778,
              "#fb9f3a"
             ],
             [
              0.8888888888888888,
              "#fdca26"
             ],
             [
              1,
              "#f0f921"
             ]
            ],
            "type": "histogram2dcontour"
           }
          ],
          "mesh3d": [
           {
            "colorbar": {
             "outlinewidth": 0,
             "ticks": ""
            },
            "type": "mesh3d"
           }
          ],
          "parcoords": [
           {
            "line": {
             "colorbar": {
              "outlinewidth": 0,
              "ticks": ""
             }
            },
            "type": "parcoords"
           }
          ],
          "pie": [
           {
            "automargin": true,
            "type": "pie"
           }
          ],
          "scatter": [
           {
            "fillpattern": {
             "fillmode": "overlay",
             "size": 10,
             "solidity": 0.2
            },
            "type": "scatter"
           }
          ],
          "scatter3d": [
           {
            "line": {
             "colorbar": {
              "outlinewidth": 0,
              "ticks": ""
             }
            },
            "marker": {
             "colorbar": {
              "outlinewidth": 0,
              "ticks": ""
             }
            },
            "type": "scatter3d"
           }
          ],
          "scattercarpet": [
           {
            "marker": {
             "colorbar": {
              "outlinewidth": 0,
              "ticks": ""
             }
            },
            "type": "scattercarpet"
           }
          ],
          "scattergeo": [
           {
            "marker": {
             "colorbar": {
              "outlinewidth": 0,
              "ticks": ""
             }
            },
            "type": "scattergeo"
           }
          ],
          "scattergl": [
           {
            "marker": {
             "colorbar": {
              "outlinewidth": 0,
              "ticks": ""
             }
            },
            "type": "scattergl"
           }
          ],
          "scattermapbox": [
           {
            "marker": {
             "colorbar": {
              "outlinewidth": 0,
              "ticks": ""
             }
            },
            "type": "scattermapbox"
           }
          ],
          "scatterpolar": [
           {
            "marker": {
             "colorbar": {
              "outlinewidth": 0,
              "ticks": ""
             }
            },
            "type": "scatterpolar"
           }
          ],
          "scatterpolargl": [
           {
            "marker": {
             "colorbar": {
              "outlinewidth": 0,
              "ticks": ""
             }
            },
            "type": "scatterpolargl"
           }
          ],
          "scatterternary": [
           {
            "marker": {
             "colorbar": {
              "outlinewidth": 0,
              "ticks": ""
             }
            },
            "type": "scatterternary"
           }
          ],
          "surface": [
           {
            "colorbar": {
             "outlinewidth": 0,
             "ticks": ""
            },
            "colorscale": [
             [
              0,
              "#0d0887"
             ],
             [
              0.1111111111111111,
              "#46039f"
             ],
             [
              0.2222222222222222,
              "#7201a8"
             ],
             [
              0.3333333333333333,
              "#9c179e"
             ],
             [
              0.4444444444444444,
              "#bd3786"
             ],
             [
              0.5555555555555556,
              "#d8576b"
             ],
             [
              0.6666666666666666,
              "#ed7953"
             ],
             [
              0.7777777777777778,
              "#fb9f3a"
             ],
             [
              0.8888888888888888,
              "#fdca26"
             ],
             [
              1,
              "#f0f921"
             ]
            ],
            "type": "surface"
           }
          ],
          "table": [
           {
            "cells": {
             "fill": {
              "color": "#EBF0F8"
             },
             "line": {
              "color": "white"
             }
            },
            "header": {
             "fill": {
              "color": "#C8D4E3"
             },
             "line": {
              "color": "white"
             }
            },
            "type": "table"
           }
          ]
         },
         "layout": {
          "annotationdefaults": {
           "arrowcolor": "#2a3f5f",
           "arrowhead": 0,
           "arrowwidth": 1
          },
          "autotypenumbers": "strict",
          "coloraxis": {
           "colorbar": {
            "outlinewidth": 0,
            "ticks": ""
           }
          },
          "colorscale": {
           "diverging": [
            [
             0,
             "#8e0152"
            ],
            [
             0.1,
             "#c51b7d"
            ],
            [
             0.2,
             "#de77ae"
            ],
            [
             0.3,
             "#f1b6da"
            ],
            [
             0.4,
             "#fde0ef"
            ],
            [
             0.5,
             "#f7f7f7"
            ],
            [
             0.6,
             "#e6f5d0"
            ],
            [
             0.7,
             "#b8e186"
            ],
            [
             0.8,
             "#7fbc41"
            ],
            [
             0.9,
             "#4d9221"
            ],
            [
             1,
             "#276419"
            ]
           ],
           "sequential": [
            [
             0,
             "#0d0887"
            ],
            [
             0.1111111111111111,
             "#46039f"
            ],
            [
             0.2222222222222222,
             "#7201a8"
            ],
            [
             0.3333333333333333,
             "#9c179e"
            ],
            [
             0.4444444444444444,
             "#bd3786"
            ],
            [
             0.5555555555555556,
             "#d8576b"
            ],
            [
             0.6666666666666666,
             "#ed7953"
            ],
            [
             0.7777777777777778,
             "#fb9f3a"
            ],
            [
             0.8888888888888888,
             "#fdca26"
            ],
            [
             1,
             "#f0f921"
            ]
           ],
           "sequentialminus": [
            [
             0,
             "#0d0887"
            ],
            [
             0.1111111111111111,
             "#46039f"
            ],
            [
             0.2222222222222222,
             "#7201a8"
            ],
            [
             0.3333333333333333,
             "#9c179e"
            ],
            [
             0.4444444444444444,
             "#bd3786"
            ],
            [
             0.5555555555555556,
             "#d8576b"
            ],
            [
             0.6666666666666666,
             "#ed7953"
            ],
            [
             0.7777777777777778,
             "#fb9f3a"
            ],
            [
             0.8888888888888888,
             "#fdca26"
            ],
            [
             1,
             "#f0f921"
            ]
           ]
          },
          "colorway": [
           "#636efa",
           "#EF553B",
           "#00cc96",
           "#ab63fa",
           "#FFA15A",
           "#19d3f3",
           "#FF6692",
           "#B6E880",
           "#FF97FF",
           "#FECB52"
          ],
          "font": {
           "color": "#2a3f5f"
          },
          "geo": {
           "bgcolor": "white",
           "lakecolor": "white",
           "landcolor": "#E5ECF6",
           "showlakes": true,
           "showland": true,
           "subunitcolor": "white"
          },
          "hoverlabel": {
           "align": "left"
          },
          "hovermode": "closest",
          "mapbox": {
           "style": "light"
          },
          "paper_bgcolor": "white",
          "plot_bgcolor": "#E5ECF6",
          "polar": {
           "angularaxis": {
            "gridcolor": "white",
            "linecolor": "white",
            "ticks": ""
           },
           "bgcolor": "#E5ECF6",
           "radialaxis": {
            "gridcolor": "white",
            "linecolor": "white",
            "ticks": ""
           }
          },
          "scene": {
           "xaxis": {
            "backgroundcolor": "#E5ECF6",
            "gridcolor": "white",
            "gridwidth": 2,
            "linecolor": "white",
            "showbackground": true,
            "ticks": "",
            "zerolinecolor": "white"
           },
           "yaxis": {
            "backgroundcolor": "#E5ECF6",
            "gridcolor": "white",
            "gridwidth": 2,
            "linecolor": "white",
            "showbackground": true,
            "ticks": "",
            "zerolinecolor": "white"
           },
           "zaxis": {
            "backgroundcolor": "#E5ECF6",
            "gridcolor": "white",
            "gridwidth": 2,
            "linecolor": "white",
            "showbackground": true,
            "ticks": "",
            "zerolinecolor": "white"
           }
          },
          "shapedefaults": {
           "line": {
            "color": "#2a3f5f"
           }
          },
          "ternary": {
           "aaxis": {
            "gridcolor": "white",
            "linecolor": "white",
            "ticks": ""
           },
           "baxis": {
            "gridcolor": "white",
            "linecolor": "white",
            "ticks": ""
           },
           "bgcolor": "#E5ECF6",
           "caxis": {
            "gridcolor": "white",
            "linecolor": "white",
            "ticks": ""
           }
          },
          "title": {
           "x": 0.05
          },
          "xaxis": {
           "automargin": true,
           "gridcolor": "white",
           "linecolor": "white",
           "ticks": "",
           "title": {
            "standoff": 15
           },
           "zerolinecolor": "white",
           "zerolinewidth": 2
          },
          "yaxis": {
           "automargin": true,
           "gridcolor": "white",
           "linecolor": "white",
           "ticks": "",
           "title": {
            "standoff": 15
           },
           "zerolinecolor": "white",
           "zerolinewidth": 2
          }
         }
        },
        "title": {
         "text": "Charting Mentions of H.P. Lovecraft's \"Supernatural Horror in Literature\" in Fall 2022 (Over the Entire Semester)",
         "x": 0.5
        },
        "width": 1000,
        "yaxis": {
         "title": {
          "text": "Number of Mentions"
         }
        }
       }
      }
     },
     "metadata": {},
     "output_type": "display_data"
    }
   ],
   "source": [
    "fig = go.Figure()\n",
    "\n",
    "for author_mention in filtered_data['author_mentions'].unique():\n",
    "    data = filtered_data[filtered_data['author_mentions'] == author_mention]\n",
    "    author_name = author_mapping.get(author_mention, str(author_mention))\n",
    "    fig.add_trace(go.Scatter(\n",
    "        x=data['created_at'],\n",
    "        y=data['cumulative_count'],\n",
    "        name=author_name,\n",
    "        mode='markers',\n",
    "    ))\n",
    "\n",
    "fig.update_layout(\n",
    "    title_text= \"Charting Mentions of H.P. Lovecraft's \\\"Supernatural Horror in Literature\\\" in Fall 2022 (Over the Entire Semester)\",\n",
    "    title_x=0.5,\n",
    "    width=1000,\n",
    "    height=500,\n",
    "    yaxis=dict(title='Number of Mentions')\n",
    ")\n",
    "fig.show()"
   ]
  },
  {
   "cell_type": "code",
   "execution_count": 76,
   "metadata": {},
   "outputs": [
    {
     "name": "stderr",
     "output_type": "stream",
     "text": [
      "C:\\Users\\KSpicer\\AppData\\Local\\Temp\\ipykernel_23324\\2510125010.py:17: SettingWithCopyWarning:\n",
      "\n",
      "\n",
      "A value is trying to be set on a copy of a slice from a DataFrame.\n",
      "Try using .loc[row_indexer,col_indexer] = value instead\n",
      "\n",
      "See the caveats in the documentation: https://pandas.pydata.org/pandas-docs/stable/user_guide/indexing.html#returning-a-view-versus-a-copy\n",
      "\n",
      "C:\\Users\\KSpicer\\AppData\\Local\\Temp\\ipykernel_23324\\2510125010.py:17: SettingWithCopyWarning:\n",
      "\n",
      "\n",
      "A value is trying to be set on a copy of a slice from a DataFrame.\n",
      "Try using .loc[row_indexer,col_indexer] = value instead\n",
      "\n",
      "See the caveats in the documentation: https://pandas.pydata.org/pandas-docs/stable/user_guide/indexing.html#returning-a-view-versus-a-copy\n",
      "\n",
      "C:\\Users\\KSpicer\\AppData\\Local\\Temp\\ipykernel_23324\\2510125010.py:17: SettingWithCopyWarning:\n",
      "\n",
      "\n",
      "A value is trying to be set on a copy of a slice from a DataFrame.\n",
      "Try using .loc[row_indexer,col_indexer] = value instead\n",
      "\n",
      "See the caveats in the documentation: https://pandas.pydata.org/pandas-docs/stable/user_guide/indexing.html#returning-a-view-versus-a-copy\n",
      "\n",
      "C:\\Users\\KSpicer\\AppData\\Local\\Temp\\ipykernel_23324\\2510125010.py:17: SettingWithCopyWarning:\n",
      "\n",
      "\n",
      "A value is trying to be set on a copy of a slice from a DataFrame.\n",
      "Try using .loc[row_indexer,col_indexer] = value instead\n",
      "\n",
      "See the caveats in the documentation: https://pandas.pydata.org/pandas-docs/stable/user_guide/indexing.html#returning-a-view-versus-a-copy\n",
      "\n",
      "C:\\Users\\KSpicer\\AppData\\Local\\Temp\\ipykernel_23324\\2510125010.py:17: SettingWithCopyWarning:\n",
      "\n",
      "\n",
      "A value is trying to be set on a copy of a slice from a DataFrame.\n",
      "Try using .loc[row_indexer,col_indexer] = value instead\n",
      "\n",
      "See the caveats in the documentation: https://pandas.pydata.org/pandas-docs/stable/user_guide/indexing.html#returning-a-view-versus-a-copy\n",
      "\n",
      "C:\\Users\\KSpicer\\AppData\\Local\\Temp\\ipykernel_23324\\2510125010.py:17: SettingWithCopyWarning:\n",
      "\n",
      "\n",
      "A value is trying to be set on a copy of a slice from a DataFrame.\n",
      "Try using .loc[row_indexer,col_indexer] = value instead\n",
      "\n",
      "See the caveats in the documentation: https://pandas.pydata.org/pandas-docs/stable/user_guide/indexing.html#returning-a-view-versus-a-copy\n",
      "\n",
      "C:\\Users\\KSpicer\\AppData\\Local\\Temp\\ipykernel_23324\\2510125010.py:17: SettingWithCopyWarning:\n",
      "\n",
      "\n",
      "A value is trying to be set on a copy of a slice from a DataFrame.\n",
      "Try using .loc[row_indexer,col_indexer] = value instead\n",
      "\n",
      "See the caveats in the documentation: https://pandas.pydata.org/pandas-docs/stable/user_guide/indexing.html#returning-a-view-versus-a-copy\n",
      "\n",
      "C:\\Users\\KSpicer\\AppData\\Local\\Temp\\ipykernel_23324\\2510125010.py:17: SettingWithCopyWarning:\n",
      "\n",
      "\n",
      "A value is trying to be set on a copy of a slice from a DataFrame.\n",
      "Try using .loc[row_indexer,col_indexer] = value instead\n",
      "\n",
      "See the caveats in the documentation: https://pandas.pydata.org/pandas-docs/stable/user_guide/indexing.html#returning-a-view-versus-a-copy\n",
      "\n",
      "C:\\Users\\KSpicer\\AppData\\Local\\Temp\\ipykernel_23324\\2510125010.py:17: SettingWithCopyWarning:\n",
      "\n",
      "\n",
      "A value is trying to be set on a copy of a slice from a DataFrame.\n",
      "Try using .loc[row_indexer,col_indexer] = value instead\n",
      "\n",
      "See the caveats in the documentation: https://pandas.pydata.org/pandas-docs/stable/user_guide/indexing.html#returning-a-view-versus-a-copy\n",
      "\n",
      "C:\\Users\\KSpicer\\AppData\\Local\\Temp\\ipykernel_23324\\2510125010.py:17: SettingWithCopyWarning:\n",
      "\n",
      "\n",
      "A value is trying to be set on a copy of a slice from a DataFrame.\n",
      "Try using .loc[row_indexer,col_indexer] = value instead\n",
      "\n",
      "See the caveats in the documentation: https://pandas.pydata.org/pandas-docs/stable/user_guide/indexing.html#returning-a-view-versus-a-copy\n",
      "\n"
     ]
    },
    {
     "data": {
      "application/vnd.plotly.v1+json": {
       "config": {
        "plotlyServerURL": "https://plot.ly"
       },
       "data": [
        {
         "mode": "markers",
         "name": "Lovecraft, Supernatural Horror in Literature",
         "showlegend": true,
         "type": "scatter",
         "x": [
          "2019-08-20T02:31:34+00:00",
          "2019-08-22T21:28:46+00:00",
          "2019-08-23T17:03:49+00:00",
          "2019-08-24T00:43:23+00:00",
          "2019-08-24T00:52:59+00:00",
          "2019-08-24T23:52:43+00:00",
          "2019-08-25T00:04:19+00:00",
          "2019-08-25T20:04:15+00:00",
          "2019-08-25T21:12:04+00:00",
          "2019-08-25T21:22:57+00:00",
          "2019-08-25T21:38:30+00:00",
          "2019-08-25T23:07:36+00:00",
          "2019-08-26T00:58:31+00:00",
          "2019-08-26T01:10:32+00:00",
          "2019-08-26T01:53:16+00:00",
          "2019-08-26T01:58:06+00:00",
          "2019-08-26T02:02:57+00:00",
          "2019-08-26T02:40:13+00:00",
          "2019-08-26T04:25:54+00:00",
          "2019-08-27T17:28:40+00:00",
          "2019-09-05T18:40:11+00:00",
          "2019-09-08T13:14:30+00:00",
          "2019-11-05T23:06:01+00:00",
          "2019-11-10T23:51:24+00:00",
          "2019-12-01T22:51:54+00:00",
          "2019-12-02T00:57:05+00:00"
         ],
         "xaxis": "x",
         "y": [
          1,
          2,
          3,
          4,
          5,
          6,
          7,
          8,
          9,
          10,
          11,
          12,
          13,
          14,
          15,
          16,
          17,
          18,
          19,
          20,
          21,
          22,
          23,
          24,
          25,
          26
         ],
         "yaxis": "y"
        },
        {
         "mode": "markers",
         "name": "Tyson, Critical Theory Today",
         "showlegend": true,
         "type": "scatter",
         "x": [
          "2019-08-21T23:01:15+00:00",
          "2019-08-22T00:24:34+00:00",
          "2019-08-22T01:40:44+00:00",
          "2019-08-25T00:04:19+00:00",
          "2019-08-25T00:17:38+00:00",
          "2019-08-25T20:47:41+00:00",
          "2019-08-26T01:58:06+00:00",
          "2019-08-26T02:46:25+00:00",
          "2019-08-26T04:28:56+00:00",
          "2019-09-06T13:56:16+00:00"
         ],
         "xaxis": "x",
         "y": [
          1,
          2,
          3,
          4,
          5,
          6,
          7,
          8,
          9,
          10
         ],
         "yaxis": "y"
        },
        {
         "mode": "markers",
         "name": "VanderMeers, Introduction",
         "showlegend": true,
         "type": "scatter",
         "x": [
          "2019-08-21T23:01:15+00:00",
          "2019-08-24T01:42:01+00:00",
          "2019-08-24T23:52:43+00:00",
          "2019-08-25T20:04:15+00:00",
          "2019-08-25T21:12:02+00:00",
          "2019-08-25T21:12:04+00:00",
          "2019-08-26T02:02:57+00:00",
          "2019-08-26T04:25:54+00:00",
          "2019-09-01T01:54:25+00:00",
          "2019-09-02T02:04:05+00:00",
          "2019-09-02T02:30:21+00:00",
          "2019-09-09T00:56:04+00:00",
          "2019-10-04T03:48:20+00:00",
          "2019-10-27T07:56:24+00:00",
          "2019-10-28T04:23:40+00:00",
          "2019-12-13T05:05:22+00:00"
         ],
         "xaxis": "x",
         "y": [
          1,
          2,
          3,
          4,
          5,
          6,
          7,
          8,
          9,
          10,
          11,
          12,
          13,
          14,
          15,
          16
         ],
         "yaxis": "y"
        },
        {
         "mode": "markers",
         "name": "Moorcock, Foreweird",
         "showlegend": true,
         "type": "scatter",
         "x": [
          "2019-08-21T23:01:15+00:00",
          "2019-08-24T01:42:01+00:00",
          "2019-12-13T05:05:22+00:00"
         ],
         "xaxis": "x",
         "y": [
          1,
          2,
          3
         ],
         "yaxis": "y"
        },
        {
         "mode": "markers",
         "name": "Lovecraft, Notes on Writing Weird Fiction",
         "showlegend": true,
         "type": "scatter",
         "x": [
          "2019-08-24T00:43:23+00:00"
         ],
         "xaxis": "x",
         "y": [
          1
         ],
         "yaxis": "y"
        },
        {
         "mode": "markers",
         "name": "Freud, The Uncanny",
         "showlegend": true,
         "type": "scatter",
         "x": [
          "2019-08-25T00:04:19+00:00",
          "2019-08-26T02:26:10+00:00",
          "2019-08-27T17:28:40+00:00",
          "2019-09-03T17:46:38+00:00",
          "2019-09-03T17:49:42+00:00",
          "2019-09-04T18:16:17+00:00",
          "2019-09-25T15:54:05+00:00"
         ],
         "xaxis": "x",
         "y": [
          1,
          2,
          3,
          4,
          5,
          6,
          7
         ],
         "yaxis": "y"
        },
        {
         "mode": "markers",
         "name": "Lovecraft, Supernatural Horror in Literature",
         "showlegend": false,
         "type": "scatter",
         "x": [
          "2020-01-15T16:29:40+00:00",
          "2020-01-20T03:38:51+00:00",
          "2020-01-20T04:51:04+00:00",
          "2020-01-22T17:40:49+00:00",
          "2020-01-22T18:51:46+00:00",
          "2020-01-24T16:51:58+00:00",
          "2020-01-26T23:10:08+00:00",
          "2020-02-08T20:29:57+00:00",
          "2020-02-10T03:42:37+00:00",
          "2020-02-19T21:15:23+00:00",
          "2020-04-19T13:31:54+00:00",
          "2020-04-20T17:07:16+00:00"
         ],
         "xaxis": "x2",
         "y": [
          1,
          2,
          3,
          4,
          5,
          6,
          7,
          8,
          9,
          10,
          11,
          12
         ],
         "yaxis": "y2"
        },
        {
         "mode": "markers",
         "name": "VanderMeers, Introduction",
         "showlegend": false,
         "type": "scatter",
         "x": [
          "2020-01-18T16:43:03+00:00",
          "2020-01-25T19:07:40+00:00",
          "2020-02-19T22:51:54+00:00",
          "2020-02-22T15:29:21+00:00",
          "2020-02-23T22:33:43+00:00",
          "2020-03-29T00:00:17+00:00"
         ],
         "xaxis": "x2",
         "y": [
          1,
          2,
          3,
          4,
          5,
          6
         ],
         "yaxis": "y2"
        },
        {
         "mode": "markers",
         "name": "Tyson, Critical Theory Today",
         "showlegend": false,
         "type": "scatter",
         "x": [
          "2020-01-18T18:37:26+00:00",
          "2020-01-20T03:08:08+00:00",
          "2020-01-20T03:46:37+00:00",
          "2020-01-27T21:00:36+00:00",
          "2020-03-01T21:36:14+00:00"
         ],
         "xaxis": "x2",
         "y": [
          1,
          2,
          3,
          4,
          5
         ],
         "yaxis": "y2"
        },
        {
         "mode": "markers",
         "name": "Freud, The Uncanny",
         "showlegend": false,
         "type": "scatter",
         "x": [
          "2020-01-22T17:55:04+00:00",
          "2020-01-22T17:58:07+00:00",
          "2020-01-22T18:01:11+00:00",
          "2020-02-29T15:54:25+00:00"
         ],
         "xaxis": "x2",
         "y": [
          1,
          2,
          3,
          4
         ],
         "yaxis": "y2"
        },
        {
         "mode": "markers",
         "name": "Moorcock, Foreweird",
         "showlegend": false,
         "type": "scatter",
         "x": [
          "2020-02-02T01:09:10+00:00",
          "2020-02-10T03:42:37+00:00"
         ],
         "xaxis": "x2",
         "y": [
          1,
          2
         ],
         "yaxis": "y2"
        },
        {
         "mode": "markers",
         "name": "Lovecraft, Notes on Writing Weird Fiction",
         "showlegend": false,
         "type": "scatter",
         "x": [
          "2020-03-26T15:36:48+00:00"
         ],
         "xaxis": "x2",
         "y": [
          1
         ],
         "yaxis": "y2"
        },
        {
         "mode": "markers",
         "name": "Lovecraft, Supernatural Horror in Literature",
         "showlegend": false,
         "type": "scatter",
         "x": [
          "2020-05-21T12:57:31+00:00",
          "2020-05-21T20:41:12+00:00",
          "2020-05-22T20:27:12+00:00",
          "2020-05-23T13:14:37+00:00",
          "2020-05-31T16:48:29+00:00",
          "2020-06-01T02:09:12+00:00",
          "2020-06-01T13:46:29+00:00",
          "2020-07-05T20:22:46+00:00"
         ],
         "xaxis": "x3",
         "y": [
          1,
          2,
          3,
          4,
          5,
          6,
          7,
          8
         ],
         "yaxis": "y3"
        },
        {
         "mode": "markers",
         "name": "VanderMeers, Introduction",
         "showlegend": false,
         "type": "scatter",
         "x": [
          "2020-05-21T20:41:12+00:00",
          "2020-06-06T13:07:12+00:00"
         ],
         "xaxis": "x3",
         "y": [
          1,
          2
         ],
         "yaxis": "y3"
        },
        {
         "mode": "markers",
         "name": "Freud, The Uncanny",
         "showlegend": false,
         "type": "scatter",
         "x": [
          "2020-05-22T15:13:36+00:00",
          "2020-05-31T20:12:20+00:00"
         ],
         "xaxis": "x3",
         "y": [
          1,
          2
         ],
         "yaxis": "y3"
        },
        {
         "mode": "markers",
         "name": "Lovecraft, Notes on Writing Weird Fiction",
         "showlegend": false,
         "type": "scatter",
         "x": [
          "2020-05-23T13:14:37+00:00"
         ],
         "xaxis": "x3",
         "y": [
          1
         ],
         "yaxis": "y3"
        },
        {
         "mode": "markers",
         "name": "Lovecraft, Supernatural Horror in Literature",
         "showlegend": false,
         "type": "scatter",
         "x": [
          "2020-08-24T06:40:39+00:00",
          "2020-08-24T18:10:02+00:00",
          "2020-08-27T03:13:10+00:00",
          "2020-08-27T15:40:30+00:00",
          "2020-08-27T16:18:39+00:00",
          "2020-08-29T02:41:30+00:00",
          "2020-08-29T23:56:08+00:00",
          "2020-08-30T04:20:57+00:00",
          "2020-08-30T15:22:04+00:00",
          "2020-08-30T16:59:13+00:00",
          "2020-08-30T20:59:21+00:00",
          "2020-08-30T21:09:56+00:00",
          "2020-08-30T22:18:41+00:00",
          "2020-08-30T22:30:05+00:00",
          "2020-08-31T00:01:41+00:00",
          "2020-08-31T01:58:53+00:00",
          "2020-08-31T02:27:59+00:00",
          "2020-08-31T03:00:50+00:00",
          "2020-08-31T03:15:49+00:00",
          "2020-08-31T03:18:19+00:00",
          "2020-08-31T03:34:57+00:00",
          "2020-08-31T03:57:15+00:00",
          "2020-08-31T04:54:44+00:00",
          "2020-09-03T02:23:40+00:00",
          "2020-09-07T21:10:33+00:00",
          "2020-09-13T15:11:57+00:00",
          "2020-09-14T01:14:03+00:00",
          "2020-09-14T04:13:40+00:00",
          "2020-09-14T04:52:40+00:00",
          "2020-09-14T14:55:28+00:00",
          "2020-09-21T01:38:26+00:00",
          "2020-09-23T04:42:42+00:00",
          "2020-10-04T14:26:28+00:00",
          "2020-10-15T16:39:47+00:00",
          "2020-11-08T15:56:22+00:00"
         ],
         "xaxis": "x4",
         "y": [
          1,
          2,
          3,
          4,
          5,
          6,
          7,
          8,
          9,
          10,
          11,
          12,
          13,
          14,
          15,
          16,
          17,
          18,
          19,
          20,
          21,
          22,
          23,
          24,
          25,
          26,
          27,
          28,
          29,
          30,
          31,
          32,
          33,
          34,
          35
         ],
         "yaxis": "y4"
        },
        {
         "mode": "markers",
         "name": "Fisher, The Weird and the Eerie",
         "showlegend": false,
         "type": "scatter",
         "x": [
          "2020-08-24T06:40:39+00:00",
          "2020-08-27T03:13:10+00:00",
          "2020-08-29T23:50:34+00:00",
          "2020-08-30T04:20:57+00:00",
          "2020-08-31T00:01:41+00:00",
          "2020-08-31T01:58:53+00:00",
          "2020-08-31T02:20:14+00:00",
          "2020-08-31T02:42:54+00:00",
          "2020-08-31T02:51:33+00:00",
          "2020-08-31T03:04:54+00:00",
          "2020-08-31T03:15:49+00:00",
          "2020-08-31T03:34:57+00:00",
          "2020-08-31T03:57:15+00:00",
          "2020-08-31T04:54:44+00:00",
          "2020-09-03T02:23:40+00:00",
          "2020-09-07T02:35:26+00:00"
         ],
         "xaxis": "x4",
         "y": [
          1,
          2,
          3,
          4,
          5,
          6,
          7,
          8,
          9,
          10,
          11,
          12,
          13,
          14,
          15,
          16
         ],
         "yaxis": "y4"
        },
        {
         "mode": "markers",
         "name": "Freud, The Uncanny",
         "showlegend": false,
         "type": "scatter",
         "x": [
          "2020-08-24T18:10:02+00:00",
          "2020-08-27T03:43:33+00:00",
          "2020-08-27T15:40:30+00:00",
          "2020-08-27T16:18:39+00:00",
          "2020-08-30T15:22:04+00:00",
          "2020-08-30T16:59:13+00:00",
          "2020-08-30T17:20:48+00:00",
          "2020-08-30T17:34:26+00:00",
          "2020-08-30T20:59:21+00:00",
          "2020-08-30T22:18:41+00:00",
          "2020-08-30T22:30:05+00:00",
          "2020-08-31T02:51:33+00:00",
          "2020-08-31T03:04:54+00:00",
          "2020-08-31T03:10:37+00:00",
          "2020-08-31T03:15:49+00:00",
          "2020-08-31T03:18:19+00:00",
          "2020-08-31T04:54:44+00:00",
          "2020-09-03T02:26:01+00:00",
          "2020-09-07T03:12:09+00:00",
          "2020-09-07T21:10:33+00:00",
          "2020-09-19T15:50:39+00:00"
         ],
         "xaxis": "x4",
         "y": [
          1,
          2,
          3,
          4,
          5,
          6,
          7,
          8,
          9,
          10,
          11,
          12,
          13,
          14,
          15,
          16,
          17,
          18,
          19,
          20,
          21
         ],
         "yaxis": "y4"
        },
        {
         "mode": "markers",
         "name": "VanderMeers, Introduction",
         "showlegend": false,
         "type": "scatter",
         "x": [
          "2020-08-30T04:20:57+00:00",
          "2020-09-03T02:23:40+00:00",
          "2020-09-14T03:27:32+00:00",
          "2020-09-14T14:55:28+00:00",
          "2020-10-04T14:26:28+00:00",
          "2020-10-15T16:39:47+00:00",
          "2020-11-08T15:56:22+00:00",
          "2020-12-02T00:09:20+00:00",
          "2020-12-06T23:19:06+00:00"
         ],
         "xaxis": "x4",
         "y": [
          1,
          2,
          3,
          4,
          5,
          6,
          7,
          8,
          9
         ],
         "yaxis": "y4"
        },
        {
         "mode": "markers",
         "name": "Lovecraft, Notes on Writing Weird Fiction",
         "showlegend": false,
         "type": "scatter",
         "x": [
          "2020-08-30T04:20:57+00:00",
          "2020-08-30T20:59:21+00:00",
          "2020-09-03T02:23:40+00:00"
         ],
         "xaxis": "x4",
         "y": [
          1,
          2,
          3
         ],
         "yaxis": "y4"
        },
        {
         "mode": "markers",
         "name": "Tyson, Critical Theory Today",
         "showlegend": false,
         "type": "scatter",
         "x": [
          "2020-08-30T20:59:21+00:00"
         ],
         "xaxis": "x4",
         "y": [
          1
         ],
         "yaxis": "y4"
        },
        {
         "mode": "markers",
         "name": "Moorcock, Foreweird",
         "showlegend": false,
         "type": "scatter",
         "x": [
          "2020-09-06T17:28:35+00:00",
          "2020-09-07T02:31:00+00:00"
         ],
         "xaxis": "x4",
         "y": [
          1,
          2
         ],
         "yaxis": "y4"
        },
        {
         "mode": "markers",
         "name": "VanderMeers, Introduction",
         "showlegend": false,
         "type": "scatter",
         "x": [
          "2021-01-20T01:50:27+00:00",
          "2021-02-08T18:29:01+00:00",
          "2021-02-22T03:49:51+00:00",
          "2021-04-05T21:06:42+00:00",
          "2021-04-27T05:35:09+00:00",
          "2021-05-06T03:21:41+00:00"
         ],
         "xaxis": "x5",
         "y": [
          1,
          2,
          3,
          4,
          5,
          6
         ],
         "yaxis": "y5"
        },
        {
         "mode": "markers",
         "name": "Lovecraft, Supernatural Horror in Literature",
         "showlegend": false,
         "type": "scatter",
         "x": [
          "2021-01-20T17:18:41+00:00",
          "2021-01-20T19:49:39+00:00",
          "2021-01-21T17:40:29+00:00",
          "2021-01-22T19:10:50+00:00",
          "2021-01-22T21:27:18+00:00",
          "2021-01-22T21:35:52+00:00",
          "2021-01-22T21:43:15+00:00",
          "2021-01-22T21:51:26+00:00",
          "2021-01-24T16:12:05+00:00",
          "2021-01-24T16:29:13+00:00",
          "2021-01-24T17:12:49+00:00",
          "2021-01-24T20:20:04+00:00",
          "2021-01-24T20:35:53+00:00",
          "2021-01-24T20:42:31+00:00",
          "2021-01-24T20:48:49+00:00",
          "2021-01-24T22:58:53+00:00",
          "2021-01-24T23:12:18+00:00",
          "2021-01-25T03:01:47+00:00",
          "2021-01-26T17:58:30+00:00",
          "2021-01-26T23:20:27+00:00",
          "2021-01-27T13:53:30+00:00",
          "2021-01-27T14:02:36+00:00",
          "2021-01-27T14:24:47+00:00",
          "2021-01-27T15:28:58+00:00",
          "2021-01-27T16:03:22+00:00",
          "2021-01-27T16:16:58+00:00",
          "2021-01-27T16:21:53+00:00",
          "2021-01-27T16:44:09+00:00",
          "2021-02-02T18:05:49+00:00",
          "2021-02-03T18:43:40+00:00",
          "2021-02-04T03:12:38+00:00",
          "2021-02-05T17:58:35+00:00",
          "2021-02-06T02:04:20+00:00",
          "2021-02-07T14:55:50+00:00",
          "2021-02-07T15:39:41+00:00",
          "2021-02-08T16:56:57+00:00",
          "2021-02-08T17:51:07+00:00",
          "2021-02-08T19:55:11+00:00",
          "2021-02-08T20:33:43+00:00",
          "2021-02-08T21:17:12+00:00",
          "2021-02-09T00:50:24+00:00",
          "2021-02-09T14:20:25+00:00",
          "2021-02-15T16:37:54+00:00",
          "2021-02-16T16:13:48+00:00",
          "2021-03-15T04:41:54+00:00"
         ],
         "xaxis": "x5",
         "y": [
          1,
          2,
          3,
          4,
          5,
          6,
          7,
          8,
          9,
          10,
          11,
          12,
          13,
          14,
          15,
          16,
          17,
          18,
          19,
          20,
          21,
          22,
          23,
          24,
          25,
          26,
          27,
          28,
          29,
          30,
          31,
          32,
          33,
          34,
          35,
          36,
          37,
          38,
          39,
          40,
          41,
          42,
          43,
          44,
          45
         ],
         "yaxis": "y5"
        },
        {
         "mode": "markers",
         "name": "Freud, The Uncanny",
         "showlegend": false,
         "type": "scatter",
         "x": [
          "2021-01-22T21:40:13+00:00",
          "2021-01-23T23:19:54+00:00",
          "2021-01-23T23:29:19+00:00",
          "2021-01-24T16:14:11+00:00",
          "2021-01-24T16:37:06+00:00",
          "2021-01-24T17:10:05+00:00",
          "2021-01-24T20:20:04+00:00",
          "2021-01-24T22:58:53+00:00",
          "2021-01-24T23:17:51+00:00",
          "2021-01-25T06:31:33+00:00",
          "2021-01-26T18:01:58+00:00",
          "2021-01-27T00:19:17+00:00",
          "2021-01-27T00:30:11+00:00",
          "2021-01-27T14:24:47+00:00",
          "2021-01-27T16:07:03+00:00",
          "2021-01-27T16:26:03+00:00",
          "2021-01-27T16:40:52+00:00",
          "2021-02-03T20:35:35+00:00",
          "2021-02-05T14:19:47+00:00",
          "2021-02-05T15:33:02+00:00",
          "2021-02-15T16:52:55+00:00",
          "2021-02-15T17:02:59+00:00",
          "2021-02-16T18:29:42+00:00",
          "2021-02-16T18:33:49+00:00",
          "2021-02-23T00:24:45+00:00",
          "2021-03-01T16:11:11+00:00",
          "2021-03-01T16:56:44+00:00"
         ],
         "xaxis": "x5",
         "y": [
          1,
          2,
          3,
          4,
          5,
          6,
          7,
          8,
          9,
          10,
          11,
          12,
          13,
          14,
          15,
          16,
          17,
          18,
          19,
          20,
          21,
          22,
          23,
          24,
          25,
          26,
          27
         ],
         "yaxis": "y5"
        },
        {
         "mode": "markers",
         "name": "Fisher, The Weird and the Eerie",
         "showlegend": false,
         "type": "scatter",
         "x": [
          "2021-01-22T21:40:13+00:00",
          "2021-01-22T21:43:15+00:00",
          "2021-01-22T21:51:26+00:00",
          "2021-01-23T15:24:33+00:00",
          "2021-01-24T16:37:06+00:00",
          "2021-01-24T16:40:28+00:00",
          "2021-01-24T17:12:49+00:00",
          "2021-01-24T20:42:31+00:00",
          "2021-01-25T03:01:47+00:00",
          "2021-01-25T06:31:33+00:00",
          "2021-01-26T18:04:29+00:00",
          "2021-01-26T23:20:27+00:00",
          "2021-01-26T23:57:42+00:00",
          "2021-01-27T00:19:17+00:00",
          "2021-01-27T00:30:11+00:00",
          "2021-01-27T13:53:30+00:00",
          "2021-01-27T15:04:42+00:00",
          "2021-01-27T15:28:58+00:00",
          "2021-01-27T16:16:58+00:00",
          "2021-01-27T16:26:03+00:00",
          "2021-02-15T17:52:03+00:00"
         ],
         "xaxis": "x5",
         "y": [
          1,
          2,
          3,
          4,
          5,
          6,
          7,
          8,
          9,
          10,
          11,
          12,
          13,
          14,
          15,
          16,
          17,
          18,
          19,
          20,
          21
         ],
         "yaxis": "y5"
        },
        {
         "mode": "markers",
         "name": "Tyson, Critical Theory Today",
         "showlegend": false,
         "type": "scatter",
         "x": [
          "2021-01-24T20:20:04+00:00",
          "2021-01-25T05:56:57+00:00",
          "2021-03-08T08:24:48+00:00"
         ],
         "xaxis": "x5",
         "y": [
          1,
          2,
          3
         ],
         "yaxis": "y5"
        },
        {
         "mode": "markers",
         "name": "VanderMeers, Introduction",
         "showlegend": false,
         "type": "scatter",
         "x": [
          "2021-05-20T15:31:38+00:00",
          "2021-05-23T22:42:36+00:00"
         ],
         "xaxis": "x6",
         "y": [
          1,
          2
         ],
         "yaxis": "y6"
        },
        {
         "mode": "markers",
         "name": "Lovecraft, Supernatural Horror in Literature",
         "showlegend": false,
         "type": "scatter",
         "x": [
          "2021-05-24T13:08:08+00:00",
          "2021-05-24T14:19:02+00:00",
          "2021-05-31T02:04:02+00:00"
         ],
         "xaxis": "x6",
         "y": [
          1,
          2,
          3
         ],
         "yaxis": "y6"
        },
        {
         "mode": "markers",
         "name": "VanderMeers, Introduction",
         "showlegend": false,
         "type": "scatter",
         "x": [
          "2021-08-24T05:41:18+00:00",
          "2021-08-25T15:55:34+00:00",
          "2021-08-27T16:22:18+00:00",
          "2021-08-28T15:01:08+00:00",
          "2021-08-29T19:27:43+00:00",
          "2021-08-30T02:37:26+00:00",
          "2021-09-06T03:21:02+00:00",
          "2021-09-06T22:58:15+00:00",
          "2021-09-19T16:58:36+00:00",
          "2021-09-26T01:44:57+00:00",
          "2021-09-27T04:51:47+00:00",
          "2021-10-02T18:49:55+00:00",
          "2021-10-11T04:52:36+00:00",
          "2021-10-30T23:13:23+00:00",
          "2021-11-07T00:28:55+00:00",
          "2021-11-17T05:45:03+00:00",
          "2021-11-21T00:55:41+00:00"
         ],
         "xaxis": "x7",
         "y": [
          1,
          2,
          3,
          4,
          5,
          6,
          7,
          8,
          9,
          10,
          11,
          12,
          13,
          14,
          15,
          16,
          17
         ],
         "yaxis": "y7"
        },
        {
         "mode": "markers",
         "name": "Lovecraft, Supernatural Horror in Literature",
         "showlegend": false,
         "type": "scatter",
         "x": [
          "2021-08-24T19:07:23+00:00",
          "2021-08-25T04:58:28+00:00",
          "2021-08-25T19:24:08+00:00",
          "2021-08-26T02:00:02+00:00",
          "2021-08-26T20:51:11+00:00",
          "2021-08-27T00:22:26+00:00",
          "2021-08-27T16:22:18+00:00",
          "2021-08-28T15:01:08+00:00",
          "2021-08-28T15:27:01+00:00",
          "2021-08-28T23:05:27+00:00",
          "2021-08-29T04:53:25+00:00",
          "2021-08-29T19:21:41+00:00",
          "2021-08-29T19:27:43+00:00",
          "2021-08-29T20:54:16+00:00",
          "2021-08-29T21:27:34+00:00",
          "2021-08-29T23:17:51+00:00",
          "2021-08-30T02:37:26+00:00",
          "2021-08-30T02:37:56+00:00",
          "2021-08-30T03:11:38+00:00",
          "2021-08-30T03:21:16+00:00",
          "2021-08-30T03:25:42+00:00",
          "2021-08-30T03:43:30+00:00",
          "2021-08-30T03:50:08+00:00",
          "2021-09-01T05:01:51+00:00",
          "2021-09-05T09:29:51+00:00",
          "2021-09-06T22:58:15+00:00",
          "2021-09-06T23:04:31+00:00",
          "2021-09-11T01:13:43+00:00",
          "2021-09-11T01:29:12+00:00",
          "2021-09-11T16:42:38+00:00",
          "2021-10-09T17:23:34+00:00",
          "2021-11-13T05:25:38+00:00",
          "2021-11-19T21:09:06+00:00",
          "2021-12-05T23:46:44+00:00"
         ],
         "xaxis": "x7",
         "y": [
          1,
          2,
          3,
          4,
          5,
          6,
          7,
          8,
          9,
          10,
          11,
          12,
          13,
          14,
          15,
          16,
          17,
          18,
          19,
          20,
          21,
          22,
          23,
          24,
          25,
          26,
          27,
          28,
          29,
          30,
          31,
          32,
          33,
          34
         ],
         "yaxis": "y7"
        },
        {
         "mode": "markers",
         "name": "Freud, The Uncanny",
         "showlegend": false,
         "type": "scatter",
         "x": [
          "2021-08-25T04:58:28+00:00",
          "2021-08-26T02:00:02+00:00",
          "2021-08-26T19:32:43+00:00",
          "2021-08-26T20:51:11+00:00",
          "2021-08-27T15:28:31+00:00",
          "2021-08-28T15:27:01+00:00",
          "2021-08-28T23:04:36+00:00",
          "2021-08-29T02:29:47+00:00",
          "2021-08-29T19:27:43+00:00",
          "2021-08-29T20:45:11+00:00",
          "2021-08-29T20:54:16+00:00",
          "2021-08-29T21:05:32+00:00",
          "2021-08-29T21:08:48+00:00",
          "2021-08-30T02:27:34+00:00",
          "2021-08-30T02:37:56+00:00",
          "2021-08-30T03:11:38+00:00",
          "2021-08-30T03:21:16+00:00",
          "2021-08-30T03:58:55+00:00",
          "2021-08-30T04:31:24+00:00",
          "2021-08-30T04:38:53+00:00",
          "2021-09-06T22:58:15+00:00"
         ],
         "xaxis": "x7",
         "y": [
          1,
          2,
          3,
          4,
          5,
          6,
          7,
          8,
          9,
          10,
          11,
          12,
          13,
          14,
          15,
          16,
          17,
          18,
          19,
          20,
          21
         ],
         "yaxis": "y7"
        },
        {
         "mode": "markers",
         "name": "Tyson, Critical Theory Today",
         "showlegend": false,
         "type": "scatter",
         "x": [
          "2021-08-25T19:24:08+00:00",
          "2021-08-26T20:51:11+00:00",
          "2021-08-30T03:36:25+00:00"
         ],
         "xaxis": "x7",
         "y": [
          1,
          2,
          3
         ],
         "yaxis": "y7"
        },
        {
         "mode": "markers",
         "name": "Fisher, The Weird and the Eerie",
         "showlegend": false,
         "type": "scatter",
         "x": [
          "2021-08-26T19:32:43+00:00",
          "2021-08-27T00:22:26+00:00",
          "2021-08-27T15:28:31+00:00",
          "2021-08-27T16:22:18+00:00",
          "2021-08-28T15:01:08+00:00",
          "2021-08-28T15:27:01+00:00",
          "2021-08-28T23:05:27+00:00",
          "2021-08-29T04:53:25+00:00",
          "2021-08-29T19:21:41+00:00",
          "2021-08-29T20:45:11+00:00",
          "2021-08-29T21:27:34+00:00",
          "2021-08-29T23:17:51+00:00",
          "2021-08-30T02:27:34+00:00",
          "2021-08-30T02:37:26+00:00",
          "2021-08-30T03:43:30+00:00",
          "2021-08-30T03:50:08+00:00",
          "2021-08-30T04:31:24+00:00"
         ],
         "xaxis": "x7",
         "y": [
          1,
          2,
          3,
          4,
          5,
          6,
          7,
          8,
          9,
          10,
          11,
          12,
          13,
          14,
          15,
          16,
          17
         ],
         "yaxis": "y7"
        },
        {
         "mode": "markers",
         "name": "Lovecraft, Notes on Writing Weird Fiction",
         "showlegend": false,
         "type": "scatter",
         "x": [
          "2021-08-26T20:51:11+00:00",
          "2021-08-29T19:21:41+00:00"
         ],
         "xaxis": "x7",
         "y": [
          1,
          2
         ],
         "yaxis": "y7"
        },
        {
         "mode": "markers",
         "name": "Moorcock, Foreweird",
         "showlegend": false,
         "type": "scatter",
         "x": [
          "2021-08-29T21:05:32+00:00",
          "2021-09-06T22:58:15+00:00"
         ],
         "xaxis": "x7",
         "y": [
          1,
          2
         ],
         "yaxis": "y7"
        },
        {
         "mode": "markers",
         "name": "Lovecraft, Supernatural Horror in Literature",
         "showlegend": false,
         "type": "scatter",
         "x": [
          "2022-01-10T16:29:54+00:00",
          "2022-01-10T18:19:16+00:00",
          "2022-01-10T19:03:01+00:00",
          "2022-01-10T21:24:13+00:00",
          "2022-01-15T19:09:49+00:00",
          "2022-01-15T21:18:09+00:00",
          "2022-01-16T23:34:20+00:00",
          "2022-01-17T00:01:11+00:00",
          "2022-01-17T00:05:35+00:00",
          "2022-01-17T00:07:22+00:00",
          "2022-01-17T00:14:06+00:00",
          "2022-01-17T00:15:48+00:00",
          "2022-01-17T02:55:42+00:00",
          "2022-01-17T03:20:38+00:00",
          "2022-01-17T04:07:25+00:00",
          "2022-01-17T04:14:49+00:00",
          "2022-01-17T04:18:34+00:00",
          "2022-01-17T05:09:26+00:00",
          "2022-01-17T05:40:38+00:00",
          "2022-01-17T05:59:20+00:00",
          "2022-01-21T23:04:54+00:00",
          "2022-01-30T23:34:59+00:00",
          "2022-01-31T20:00:39+00:00",
          "2022-02-22T01:25:37+00:00"
         ],
         "xaxis": "x8",
         "y": [
          1,
          2,
          3,
          4,
          5,
          6,
          7,
          8,
          9,
          10,
          11,
          12,
          13,
          14,
          15,
          16,
          17,
          18,
          19,
          20,
          21,
          22,
          23,
          24
         ],
         "yaxis": "y8"
        },
        {
         "mode": "markers",
         "name": "Freud, The Uncanny",
         "showlegend": false,
         "type": "scatter",
         "x": [
          "2022-01-16T02:03:13+00:00",
          "2022-01-16T23:34:20+00:00",
          "2022-01-17T00:07:22+00:00",
          "2022-01-17T01:08:40+00:00",
          "2022-01-17T01:23:29+00:00",
          "2022-01-17T03:20:38+00:00",
          "2022-01-17T04:14:49+00:00",
          "2022-01-17T05:09:26+00:00",
          "2022-01-17T05:31:25+00:00",
          "2022-01-17T06:00:51+00:00",
          "2022-01-17T07:14:21+00:00",
          "2022-01-19T19:39:39+00:00",
          "2022-01-21T23:02:22+00:00",
          "2022-01-21T23:04:54+00:00"
         ],
         "xaxis": "x8",
         "y": [
          1,
          2,
          3,
          4,
          5,
          6,
          7,
          8,
          9,
          10,
          11,
          12,
          13,
          14
         ],
         "yaxis": "y8"
        },
        {
         "mode": "markers",
         "name": "VanderMeers, Introduction",
         "showlegend": false,
         "type": "scatter",
         "x": [
          "2022-01-16T06:46:00+00:00",
          "2022-02-28T04:31:38+00:00"
         ],
         "xaxis": "x8",
         "y": [
          1,
          2
         ],
         "yaxis": "y8"
        },
        {
         "mode": "markers",
         "name": "Fisher, The Weird and the Eerie",
         "showlegend": false,
         "type": "scatter",
         "x": [
          "2022-01-16T18:03:19+00:00",
          "2022-01-17T00:31:41+00:00",
          "2022-01-17T00:34:44+00:00",
          "2022-01-17T02:55:42+00:00",
          "2022-01-17T04:07:25+00:00",
          "2022-01-17T04:14:49+00:00",
          "2022-01-17T04:18:34+00:00",
          "2022-01-17T05:31:25+00:00",
          "2022-01-17T05:59:20+00:00",
          "2022-01-19T19:39:39+00:00",
          "2022-01-21T23:02:22+00:00",
          "2022-02-22T01:25:37+00:00"
         ],
         "xaxis": "x8",
         "y": [
          1,
          2,
          3,
          4,
          5,
          6,
          7,
          8,
          9,
          10,
          11,
          12
         ],
         "yaxis": "y8"
        },
        {
         "mode": "markers",
         "name": "Lovecraft, Notes on Writing Weird Fiction",
         "showlegend": false,
         "type": "scatter",
         "x": [
          "2022-01-16T23:34:20+00:00",
          "2022-01-16T23:38:29+00:00",
          "2022-01-17T00:01:11+00:00"
         ],
         "xaxis": "x8",
         "y": [
          1,
          2,
          3
         ],
         "yaxis": "y8"
        },
        {
         "mode": "markers",
         "name": "Tyson, Critical Theory Today",
         "showlegend": false,
         "type": "scatter",
         "x": [
          "2022-01-17T05:31:25+00:00"
         ],
         "xaxis": "x8",
         "y": [
          1
         ],
         "yaxis": "y8"
        },
        {
         "mode": "markers",
         "name": "Fisher, The Weird and the Eerie",
         "showlegend": false,
         "type": "scatter",
         "x": [
          "2022-08-25T23:21:51+00:00",
          "2022-08-28T00:17:09+00:00",
          "2022-08-28T02:03:16+00:00",
          "2022-08-28T05:07:00+00:00",
          "2022-08-28T15:58:24+00:00",
          "2022-08-28T16:16:01+00:00",
          "2022-08-28T20:29:12+00:00",
          "2022-08-28T23:51:24+00:00",
          "2022-08-29T00:50:51+00:00",
          "2022-08-29T01:18:47+00:00",
          "2022-08-29T01:52:21+00:00",
          "2022-08-29T02:30:21+00:00",
          "2022-08-29T02:39:56+00:00",
          "2022-08-29T02:43:26+00:00",
          "2022-08-29T19:17:11+00:00",
          "2022-08-29T23:03:32+00:00"
         ],
         "xaxis": "x9",
         "y": [
          1,
          2,
          3,
          4,
          5,
          6,
          7,
          8,
          9,
          10,
          11,
          12,
          13,
          14,
          15,
          16
         ],
         "yaxis": "y9"
        },
        {
         "mode": "markers",
         "name": "Freud, The Uncanny",
         "showlegend": false,
         "type": "scatter",
         "x": [
          "2022-08-26T22:20:34+00:00",
          "2022-08-27T17:41:03+00:00",
          "2022-08-27T23:04:58+00:00",
          "2022-08-28T00:17:09+00:00",
          "2022-08-28T01:26:16+00:00",
          "2022-08-28T02:03:16+00:00",
          "2022-08-28T05:07:00+00:00",
          "2022-08-28T06:28:04+00:00",
          "2022-08-28T15:58:24+00:00",
          "2022-08-28T20:03:45+00:00",
          "2022-08-28T20:48:54+00:00",
          "2022-08-28T21:13:08+00:00",
          "2022-08-28T22:01:54+00:00",
          "2022-08-28T23:40:03+00:00",
          "2022-08-29T01:15:32+00:00",
          "2022-08-29T01:18:56+00:00",
          "2022-08-29T01:52:21+00:00",
          "2022-08-29T02:22:06+00:00",
          "2022-08-29T02:39:56+00:00",
          "2022-08-29T03:06:17+00:00",
          "2022-08-29T03:21:09+00:00",
          "2022-08-29T04:02:26+00:00",
          "2022-08-29T04:54:40+00:00",
          "2022-08-29T04:56:40+00:00",
          "2022-08-29T05:24:50+00:00",
          "2022-08-29T14:50:20+00:00",
          "2022-08-30T03:48:43+00:00",
          "2022-10-03T01:43:37+00:00"
         ],
         "xaxis": "x9",
         "y": [
          1,
          2,
          3,
          4,
          5,
          6,
          7,
          8,
          9,
          10,
          11,
          12,
          13,
          14,
          15,
          16,
          17,
          18,
          19,
          20,
          21,
          22,
          23,
          24,
          25,
          26,
          27,
          28
         ],
         "yaxis": "y9"
        },
        {
         "mode": "markers",
         "name": "Lovecraft, Supernatural Horror in Literature",
         "showlegend": false,
         "type": "scatter",
         "x": [
          "2022-08-27T06:30:33+00:00",
          "2022-08-27T17:41:03+00:00",
          "2022-08-27T23:02:16+00:00",
          "2022-08-27T23:04:58+00:00",
          "2022-08-28T00:16:36+00:00",
          "2022-08-28T00:17:09+00:00",
          "2022-08-28T01:26:16+00:00",
          "2022-08-28T05:07:00+00:00",
          "2022-08-28T15:58:24+00:00",
          "2022-08-28T16:01:21+00:00",
          "2022-08-28T16:16:01+00:00",
          "2022-08-28T17:57:11+00:00",
          "2022-08-28T20:03:45+00:00",
          "2022-08-28T20:54:08+00:00",
          "2022-08-28T23:40:03+00:00",
          "2022-08-28T23:51:24+00:00",
          "2022-08-29T00:05:39+00:00",
          "2022-08-29T00:09:01+00:00",
          "2022-08-29T00:41:24+00:00",
          "2022-08-29T00:54:46+00:00",
          "2022-08-29T01:15:32+00:00",
          "2022-08-29T01:18:47+00:00",
          "2022-08-29T02:22:31+00:00",
          "2022-08-29T02:30:21+00:00",
          "2022-08-29T02:43:26+00:00",
          "2022-08-29T03:29:09+00:00",
          "2022-08-29T04:10:15+00:00",
          "2022-08-29T04:36:26+00:00",
          "2022-08-29T04:51:21+00:00",
          "2022-08-29T05:24:50+00:00",
          "2022-08-29T18:41:49+00:00",
          "2022-08-29T19:17:11+00:00",
          "2022-08-29T23:03:32+00:00",
          "2022-09-12T03:02:07+00:00",
          "2022-09-13T00:57:30+00:00",
          "2022-11-28T06:01:10+00:00",
          "2022-12-05T04:19:26+00:00"
         ],
         "xaxis": "x9",
         "y": [
          1,
          2,
          3,
          4,
          5,
          6,
          7,
          8,
          9,
          10,
          11,
          12,
          13,
          14,
          15,
          16,
          17,
          18,
          19,
          20,
          21,
          22,
          23,
          24,
          25,
          26,
          27,
          28,
          29,
          30,
          31,
          32,
          33,
          34,
          35,
          36,
          37
         ],
         "yaxis": "y9"
        },
        {
         "mode": "markers",
         "name": "Lovecraft, Notes on Writing Weird Fiction",
         "showlegend": false,
         "type": "scatter",
         "x": [
          "2022-08-27T23:02:16+00:00",
          "2022-08-28T20:03:45+00:00",
          "2022-08-28T23:40:03+00:00",
          "2022-09-13T00:57:30+00:00"
         ],
         "xaxis": "x9",
         "y": [
          1,
          2,
          3,
          4
         ],
         "yaxis": "y9"
        },
        {
         "mode": "markers",
         "name": "VanderMeers, Introduction",
         "showlegend": false,
         "type": "scatter",
         "x": [
          "2022-08-28T02:03:16+00:00",
          "2022-08-28T19:30:50+00:00",
          "2022-08-28T19:55:18+00:00",
          "2022-08-29T01:15:32+00:00",
          "2022-08-29T02:22:31+00:00",
          "2022-08-29T03:06:17+00:00",
          "2022-08-29T04:36:26+00:00",
          "2022-08-29T04:56:40+00:00",
          "2022-08-30T11:47:43+00:00",
          "2022-09-05T03:54:09+00:00",
          "2022-09-05T03:59:07+00:00",
          "2022-09-11T03:23:54+00:00",
          "2022-09-12T01:27:59+00:00",
          "2022-09-25T06:43:30+00:00",
          "2022-10-11T20:01:38+00:00",
          "2022-11-14T00:48:17+00:00",
          "2022-11-20T22:01:49+00:00"
         ],
         "xaxis": "x9",
         "y": [
          1,
          2,
          3,
          4,
          5,
          6,
          7,
          8,
          9,
          10,
          11,
          12,
          13,
          14,
          15,
          16,
          17
         ],
         "yaxis": "y9"
        },
        {
         "mode": "markers",
         "name": "Moorcock, Foreweird",
         "showlegend": false,
         "type": "scatter",
         "x": [
          "2022-08-28T02:03:16+00:00",
          "2022-08-28T06:28:04+00:00",
          "2022-08-28T19:30:50+00:00",
          "2022-08-28T19:55:18+00:00",
          "2022-08-29T00:41:24+00:00",
          "2022-08-29T02:22:31+00:00",
          "2022-08-29T03:06:17+00:00",
          "2022-08-29T03:14:04+00:00",
          "2022-08-29T14:50:20+00:00",
          "2022-08-30T11:47:43+00:00",
          "2022-08-30T13:50:33+00:00",
          "2022-08-30T14:18:20+00:00",
          "2022-09-13T00:57:30+00:00"
         ],
         "xaxis": "x9",
         "y": [
          1,
          2,
          3,
          4,
          5,
          6,
          7,
          8,
          9,
          10,
          11,
          12,
          13
         ],
         "yaxis": "y9"
        },
        {
         "mode": "markers",
         "name": "Freud, The Uncanny",
         "showlegend": false,
         "type": "scatter",
         "x": [
          "2023-01-14T23:04:17+00:00",
          "2023-01-15T03:41:43+00:00",
          "2023-01-15T18:49:00+00:00",
          "2023-01-15T23:13:58+00:00",
          "2023-01-16T02:06:24+00:00",
          "2023-01-16T02:09:45+00:00",
          "2023-01-16T02:23:28+00:00",
          "2023-01-16T04:25:38+00:00",
          "2023-01-16T05:20:47+00:00",
          "2023-01-16T05:48:35+00:00",
          "2023-01-16T05:54:32+00:00",
          "2023-01-16T05:56:41+00:00",
          "2023-01-16T05:58:10+00:00",
          "2023-01-30T04:09:36+00:00",
          "2023-02-13T05:36:59+00:00",
          "2023-04-21T01:21:47+00:00",
          "2023-04-22T23:44:48+00:00",
          "2023-04-24T03:06:17+00:00",
          "2023-04-24T14:58:28+00:00",
          "2023-04-26T19:15:47+00:00"
         ],
         "xaxis": "x10",
         "y": [
          1,
          2,
          3,
          4,
          5,
          6,
          7,
          8,
          9,
          10,
          11,
          12,
          13,
          14,
          15,
          16,
          17,
          18,
          19,
          20
         ],
         "yaxis": "y10"
        },
        {
         "mode": "markers",
         "name": "Fisher, The Weird and the Eerie",
         "showlegend": false,
         "type": "scatter",
         "x": [
          "2023-01-14T23:04:17+00:00",
          "2023-01-15T18:49:00+00:00",
          "2023-01-15T22:15:46+00:00",
          "2023-01-15T22:41:13+00:00",
          "2023-01-15T23:07:34+00:00",
          "2023-01-16T04:13:57+00:00",
          "2023-01-16T04:23:04+00:00",
          "2023-01-16T05:03:00+00:00",
          "2023-01-16T05:41:07+00:00",
          "2023-01-16T05:47:16+00:00",
          "2023-01-16T05:53:50+00:00",
          "2023-01-16T05:58:20+00:00",
          "2023-04-22T23:44:48+00:00"
         ],
         "xaxis": "x10",
         "y": [
          1,
          2,
          3,
          4,
          5,
          6,
          7,
          8,
          9,
          10,
          11,
          12,
          13
         ],
         "yaxis": "y10"
        },
        {
         "mode": "markers",
         "name": "Lovecraft, Supernatural Horror in Literature",
         "showlegend": false,
         "type": "scatter",
         "x": [
          "2023-01-14T23:04:17+00:00",
          "2023-01-15T03:41:43+00:00",
          "2023-01-15T18:49:00+00:00",
          "2023-01-15T20:37:45+00:00",
          "2023-01-15T21:05:07+00:00",
          "2023-01-15T22:15:46+00:00",
          "2023-01-15T23:07:34+00:00",
          "2023-01-15T23:13:58+00:00",
          "2023-01-15T23:53:35+00:00",
          "2023-01-16T00:23:04+00:00",
          "2023-01-16T02:09:45+00:00",
          "2023-01-16T02:23:28+00:00",
          "2023-01-16T02:43:52+00:00",
          "2023-01-16T04:13:57+00:00",
          "2023-01-16T04:23:04+00:00",
          "2023-01-16T05:03:00+00:00",
          "2023-01-16T05:06:30+00:00",
          "2023-01-16T05:30:56+00:00",
          "2023-01-16T05:41:07+00:00",
          "2023-01-16T05:47:16+00:00",
          "2023-01-16T05:48:35+00:00",
          "2023-01-16T05:53:50+00:00",
          "2023-01-16T05:54:32+00:00",
          "2023-01-16T05:56:41+00:00",
          "2023-01-16T05:58:10+00:00",
          "2023-01-23T05:24:26+00:00",
          "2023-01-29T23:04:42+00:00",
          "2023-01-30T05:01:21+00:00",
          "2023-02-06T04:28:11+00:00",
          "2023-03-29T18:57:02+00:00",
          "2023-04-22T23:44:48+00:00",
          "2023-04-26T19:15:47+00:00"
         ],
         "xaxis": "x10",
         "y": [
          1,
          2,
          3,
          4,
          5,
          6,
          7,
          8,
          9,
          10,
          11,
          12,
          13,
          14,
          15,
          16,
          17,
          18,
          19,
          20,
          21,
          22,
          23,
          24,
          25,
          26,
          27,
          28,
          29,
          30,
          31,
          32
         ],
         "yaxis": "y10"
        },
        {
         "mode": "markers",
         "name": "Moorcock, Foreweird",
         "showlegend": false,
         "type": "scatter",
         "x": [
          "2023-01-15T03:29:32+00:00",
          "2023-01-15T03:41:43+00:00"
         ],
         "xaxis": "x10",
         "y": [
          1,
          2
         ],
         "yaxis": "y10"
        },
        {
         "mode": "markers",
         "name": "VanderMeers, Introduction",
         "showlegend": false,
         "type": "scatter",
         "x": [
          "2023-01-15T03:29:32+00:00",
          "2023-01-16T04:13:57+00:00",
          "2023-01-16T05:03:00+00:00",
          "2023-01-16T05:48:35+00:00",
          "2023-01-23T05:24:26+00:00",
          "2023-01-23T05:24:47+00:00",
          "2023-04-26T19:15:47+00:00"
         ],
         "xaxis": "x10",
         "y": [
          1,
          2,
          3,
          4,
          5,
          6,
          7
         ],
         "yaxis": "y10"
        },
        {
         "mode": "markers",
         "name": "Lovecraft, Notes on Writing Weird Fiction",
         "showlegend": false,
         "type": "scatter",
         "x": [
          "2023-01-16T05:06:30+00:00"
         ],
         "xaxis": "x10",
         "y": [
          1
         ],
         "yaxis": "y10"
        }
       ],
       "layout": {
        "height": 1000,
        "showlegend": true,
        "template": {
         "data": {
          "bar": [
           {
            "error_x": {
             "color": "#2a3f5f"
            },
            "error_y": {
             "color": "#2a3f5f"
            },
            "marker": {
             "line": {
              "color": "#E5ECF6",
              "width": 0.5
             },
             "pattern": {
              "fillmode": "overlay",
              "size": 10,
              "solidity": 0.2
             }
            },
            "type": "bar"
           }
          ],
          "barpolar": [
           {
            "marker": {
             "line": {
              "color": "#E5ECF6",
              "width": 0.5
             },
             "pattern": {
              "fillmode": "overlay",
              "size": 10,
              "solidity": 0.2
             }
            },
            "type": "barpolar"
           }
          ],
          "carpet": [
           {
            "aaxis": {
             "endlinecolor": "#2a3f5f",
             "gridcolor": "white",
             "linecolor": "white",
             "minorgridcolor": "white",
             "startlinecolor": "#2a3f5f"
            },
            "baxis": {
             "endlinecolor": "#2a3f5f",
             "gridcolor": "white",
             "linecolor": "white",
             "minorgridcolor": "white",
             "startlinecolor": "#2a3f5f"
            },
            "type": "carpet"
           }
          ],
          "choropleth": [
           {
            "colorbar": {
             "outlinewidth": 0,
             "ticks": ""
            },
            "type": "choropleth"
           }
          ],
          "contour": [
           {
            "colorbar": {
             "outlinewidth": 0,
             "ticks": ""
            },
            "colorscale": [
             [
              0,
              "#0d0887"
             ],
             [
              0.1111111111111111,
              "#46039f"
             ],
             [
              0.2222222222222222,
              "#7201a8"
             ],
             [
              0.3333333333333333,
              "#9c179e"
             ],
             [
              0.4444444444444444,
              "#bd3786"
             ],
             [
              0.5555555555555556,
              "#d8576b"
             ],
             [
              0.6666666666666666,
              "#ed7953"
             ],
             [
              0.7777777777777778,
              "#fb9f3a"
             ],
             [
              0.8888888888888888,
              "#fdca26"
             ],
             [
              1,
              "#f0f921"
             ]
            ],
            "type": "contour"
           }
          ],
          "contourcarpet": [
           {
            "colorbar": {
             "outlinewidth": 0,
             "ticks": ""
            },
            "type": "contourcarpet"
           }
          ],
          "heatmap": [
           {
            "colorbar": {
             "outlinewidth": 0,
             "ticks": ""
            },
            "colorscale": [
             [
              0,
              "#0d0887"
             ],
             [
              0.1111111111111111,
              "#46039f"
             ],
             [
              0.2222222222222222,
              "#7201a8"
             ],
             [
              0.3333333333333333,
              "#9c179e"
             ],
             [
              0.4444444444444444,
              "#bd3786"
             ],
             [
              0.5555555555555556,
              "#d8576b"
             ],
             [
              0.6666666666666666,
              "#ed7953"
             ],
             [
              0.7777777777777778,
              "#fb9f3a"
             ],
             [
              0.8888888888888888,
              "#fdca26"
             ],
             [
              1,
              "#f0f921"
             ]
            ],
            "type": "heatmap"
           }
          ],
          "heatmapgl": [
           {
            "colorbar": {
             "outlinewidth": 0,
             "ticks": ""
            },
            "colorscale": [
             [
              0,
              "#0d0887"
             ],
             [
              0.1111111111111111,
              "#46039f"
             ],
             [
              0.2222222222222222,
              "#7201a8"
             ],
             [
              0.3333333333333333,
              "#9c179e"
             ],
             [
              0.4444444444444444,
              "#bd3786"
             ],
             [
              0.5555555555555556,
              "#d8576b"
             ],
             [
              0.6666666666666666,
              "#ed7953"
             ],
             [
              0.7777777777777778,
              "#fb9f3a"
             ],
             [
              0.8888888888888888,
              "#fdca26"
             ],
             [
              1,
              "#f0f921"
             ]
            ],
            "type": "heatmapgl"
           }
          ],
          "histogram": [
           {
            "marker": {
             "pattern": {
              "fillmode": "overlay",
              "size": 10,
              "solidity": 0.2
             }
            },
            "type": "histogram"
           }
          ],
          "histogram2d": [
           {
            "colorbar": {
             "outlinewidth": 0,
             "ticks": ""
            },
            "colorscale": [
             [
              0,
              "#0d0887"
             ],
             [
              0.1111111111111111,
              "#46039f"
             ],
             [
              0.2222222222222222,
              "#7201a8"
             ],
             [
              0.3333333333333333,
              "#9c179e"
             ],
             [
              0.4444444444444444,
              "#bd3786"
             ],
             [
              0.5555555555555556,
              "#d8576b"
             ],
             [
              0.6666666666666666,
              "#ed7953"
             ],
             [
              0.7777777777777778,
              "#fb9f3a"
             ],
             [
              0.8888888888888888,
              "#fdca26"
             ],
             [
              1,
              "#f0f921"
             ]
            ],
            "type": "histogram2d"
           }
          ],
          "histogram2dcontour": [
           {
            "colorbar": {
             "outlinewidth": 0,
             "ticks": ""
            },
            "colorscale": [
             [
              0,
              "#0d0887"
             ],
             [
              0.1111111111111111,
              "#46039f"
             ],
             [
              0.2222222222222222,
              "#7201a8"
             ],
             [
              0.3333333333333333,
              "#9c179e"
             ],
             [
              0.4444444444444444,
              "#bd3786"
             ],
             [
              0.5555555555555556,
              "#d8576b"
             ],
             [
              0.6666666666666666,
              "#ed7953"
             ],
             [
              0.7777777777777778,
              "#fb9f3a"
             ],
             [
              0.8888888888888888,
              "#fdca26"
             ],
             [
              1,
              "#f0f921"
             ]
            ],
            "type": "histogram2dcontour"
           }
          ],
          "mesh3d": [
           {
            "colorbar": {
             "outlinewidth": 0,
             "ticks": ""
            },
            "type": "mesh3d"
           }
          ],
          "parcoords": [
           {
            "line": {
             "colorbar": {
              "outlinewidth": 0,
              "ticks": ""
             }
            },
            "type": "parcoords"
           }
          ],
          "pie": [
           {
            "automargin": true,
            "type": "pie"
           }
          ],
          "scatter": [
           {
            "fillpattern": {
             "fillmode": "overlay",
             "size": 10,
             "solidity": 0.2
            },
            "type": "scatter"
           }
          ],
          "scatter3d": [
           {
            "line": {
             "colorbar": {
              "outlinewidth": 0,
              "ticks": ""
             }
            },
            "marker": {
             "colorbar": {
              "outlinewidth": 0,
              "ticks": ""
             }
            },
            "type": "scatter3d"
           }
          ],
          "scattercarpet": [
           {
            "marker": {
             "colorbar": {
              "outlinewidth": 0,
              "ticks": ""
             }
            },
            "type": "scattercarpet"
           }
          ],
          "scattergeo": [
           {
            "marker": {
             "colorbar": {
              "outlinewidth": 0,
              "ticks": ""
             }
            },
            "type": "scattergeo"
           }
          ],
          "scattergl": [
           {
            "marker": {
             "colorbar": {
              "outlinewidth": 0,
              "ticks": ""
             }
            },
            "type": "scattergl"
           }
          ],
          "scattermapbox": [
           {
            "marker": {
             "colorbar": {
              "outlinewidth": 0,
              "ticks": ""
             }
            },
            "type": "scattermapbox"
           }
          ],
          "scatterpolar": [
           {
            "marker": {
             "colorbar": {
              "outlinewidth": 0,
              "ticks": ""
             }
            },
            "type": "scatterpolar"
           }
          ],
          "scatterpolargl": [
           {
            "marker": {
             "colorbar": {
              "outlinewidth": 0,
              "ticks": ""
             }
            },
            "type": "scatterpolargl"
           }
          ],
          "scatterternary": [
           {
            "marker": {
             "colorbar": {
              "outlinewidth": 0,
              "ticks": ""
             }
            },
            "type": "scatterternary"
           }
          ],
          "surface": [
           {
            "colorbar": {
             "outlinewidth": 0,
             "ticks": ""
            },
            "colorscale": [
             [
              0,
              "#0d0887"
             ],
             [
              0.1111111111111111,
              "#46039f"
             ],
             [
              0.2222222222222222,
              "#7201a8"
             ],
             [
              0.3333333333333333,
              "#9c179e"
             ],
             [
              0.4444444444444444,
              "#bd3786"
             ],
             [
              0.5555555555555556,
              "#d8576b"
             ],
             [
              0.6666666666666666,
              "#ed7953"
             ],
             [
              0.7777777777777778,
              "#fb9f3a"
             ],
             [
              0.8888888888888888,
              "#fdca26"
             ],
             [
              1,
              "#f0f921"
             ]
            ],
            "type": "surface"
           }
          ],
          "table": [
           {
            "cells": {
             "fill": {
              "color": "#EBF0F8"
             },
             "line": {
              "color": "white"
             }
            },
            "header": {
             "fill": {
              "color": "#C8D4E3"
             },
             "line": {
              "color": "white"
             }
            },
            "type": "table"
           }
          ]
         },
         "layout": {
          "annotationdefaults": {
           "arrowcolor": "#2a3f5f",
           "arrowhead": 0,
           "arrowwidth": 1
          },
          "autotypenumbers": "strict",
          "coloraxis": {
           "colorbar": {
            "outlinewidth": 0,
            "ticks": ""
           }
          },
          "colorscale": {
           "diverging": [
            [
             0,
             "#8e0152"
            ],
            [
             0.1,
             "#c51b7d"
            ],
            [
             0.2,
             "#de77ae"
            ],
            [
             0.3,
             "#f1b6da"
            ],
            [
             0.4,
             "#fde0ef"
            ],
            [
             0.5,
             "#f7f7f7"
            ],
            [
             0.6,
             "#e6f5d0"
            ],
            [
             0.7,
             "#b8e186"
            ],
            [
             0.8,
             "#7fbc41"
            ],
            [
             0.9,
             "#4d9221"
            ],
            [
             1,
             "#276419"
            ]
           ],
           "sequential": [
            [
             0,
             "#0d0887"
            ],
            [
             0.1111111111111111,
             "#46039f"
            ],
            [
             0.2222222222222222,
             "#7201a8"
            ],
            [
             0.3333333333333333,
             "#9c179e"
            ],
            [
             0.4444444444444444,
             "#bd3786"
            ],
            [
             0.5555555555555556,
             "#d8576b"
            ],
            [
             0.6666666666666666,
             "#ed7953"
            ],
            [
             0.7777777777777778,
             "#fb9f3a"
            ],
            [
             0.8888888888888888,
             "#fdca26"
            ],
            [
             1,
             "#f0f921"
            ]
           ],
           "sequentialminus": [
            [
             0,
             "#0d0887"
            ],
            [
             0.1111111111111111,
             "#46039f"
            ],
            [
             0.2222222222222222,
             "#7201a8"
            ],
            [
             0.3333333333333333,
             "#9c179e"
            ],
            [
             0.4444444444444444,
             "#bd3786"
            ],
            [
             0.5555555555555556,
             "#d8576b"
            ],
            [
             0.6666666666666666,
             "#ed7953"
            ],
            [
             0.7777777777777778,
             "#fb9f3a"
            ],
            [
             0.8888888888888888,
             "#fdca26"
            ],
            [
             1,
             "#f0f921"
            ]
           ]
          },
          "colorway": [
           "#636efa",
           "#EF553B",
           "#00cc96",
           "#ab63fa",
           "#FFA15A",
           "#19d3f3",
           "#FF6692",
           "#B6E880",
           "#FF97FF",
           "#FECB52"
          ],
          "font": {
           "color": "#2a3f5f"
          },
          "geo": {
           "bgcolor": "white",
           "lakecolor": "white",
           "landcolor": "#E5ECF6",
           "showlakes": true,
           "showland": true,
           "subunitcolor": "white"
          },
          "hoverlabel": {
           "align": "left"
          },
          "hovermode": "closest",
          "mapbox": {
           "style": "light"
          },
          "paper_bgcolor": "white",
          "plot_bgcolor": "#E5ECF6",
          "polar": {
           "angularaxis": {
            "gridcolor": "white",
            "linecolor": "white",
            "ticks": ""
           },
           "bgcolor": "#E5ECF6",
           "radialaxis": {
            "gridcolor": "white",
            "linecolor": "white",
            "ticks": ""
           }
          },
          "scene": {
           "xaxis": {
            "backgroundcolor": "#E5ECF6",
            "gridcolor": "white",
            "gridwidth": 2,
            "linecolor": "white",
            "showbackground": true,
            "ticks": "",
            "zerolinecolor": "white"
           },
           "yaxis": {
            "backgroundcolor": "#E5ECF6",
            "gridcolor": "white",
            "gridwidth": 2,
            "linecolor": "white",
            "showbackground": true,
            "ticks": "",
            "zerolinecolor": "white"
           },
           "zaxis": {
            "backgroundcolor": "#E5ECF6",
            "gridcolor": "white",
            "gridwidth": 2,
            "linecolor": "white",
            "showbackground": true,
            "ticks": "",
            "zerolinecolor": "white"
           }
          },
          "shapedefaults": {
           "line": {
            "color": "#2a3f5f"
           }
          },
          "ternary": {
           "aaxis": {
            "gridcolor": "white",
            "linecolor": "white",
            "ticks": ""
           },
           "baxis": {
            "gridcolor": "white",
            "linecolor": "white",
            "ticks": ""
           },
           "bgcolor": "#E5ECF6",
           "caxis": {
            "gridcolor": "white",
            "linecolor": "white",
            "ticks": ""
           }
          },
          "title": {
           "x": 0.05
          },
          "xaxis": {
           "automargin": true,
           "gridcolor": "white",
           "linecolor": "white",
           "ticks": "",
           "title": {
            "standoff": 15
           },
           "zerolinecolor": "white",
           "zerolinewidth": 2
          },
          "yaxis": {
           "automargin": true,
           "gridcolor": "white",
           "linecolor": "white",
           "ticks": "",
           "title": {
            "standoff": 15
           },
           "zerolinecolor": "white",
           "zerolinewidth": 2
          }
         }
        },
        "title": {
         "text": "Plots of Most Popular First-Week Authors (Over the Entire Semester)",
         "x": 0.5
        },
        "width": 1400,
        "xaxis": {
         "anchor": "y",
         "domain": [
          0,
          0.16799999999999998
         ]
        },
        "xaxis10": {
         "anchor": "y10",
         "domain": [
          0.832,
          1
         ]
        },
        "xaxis2": {
         "anchor": "y2",
         "domain": [
          0.208,
          0.376
         ]
        },
        "xaxis3": {
         "anchor": "y3",
         "domain": [
          0.416,
          0.584
         ]
        },
        "xaxis4": {
         "anchor": "y4",
         "domain": [
          0.624,
          0.792
         ]
        },
        "xaxis5": {
         "anchor": "y5",
         "domain": [
          0.832,
          1
         ]
        },
        "xaxis6": {
         "anchor": "y6",
         "domain": [
          0,
          0.16799999999999998
         ]
        },
        "xaxis7": {
         "anchor": "y7",
         "domain": [
          0.208,
          0.376
         ]
        },
        "xaxis8": {
         "anchor": "y8",
         "domain": [
          0.416,
          0.584
         ]
        },
        "xaxis9": {
         "anchor": "y9",
         "domain": [
          0.624,
          0.792
         ]
        },
        "yaxis": {
         "anchor": "x",
         "domain": [
          0.55,
          1
         ],
         "title": {
          "text": "Number of Mentions"
         }
        },
        "yaxis10": {
         "anchor": "x10",
         "domain": [
          0,
          0.45
         ]
        },
        "yaxis2": {
         "anchor": "x2",
         "domain": [
          0.55,
          1
         ]
        },
        "yaxis3": {
         "anchor": "x3",
         "domain": [
          0.55,
          1
         ]
        },
        "yaxis4": {
         "anchor": "x4",
         "domain": [
          0.55,
          1
         ]
        },
        "yaxis5": {
         "anchor": "x5",
         "domain": [
          0.55,
          1
         ]
        },
        "yaxis6": {
         "anchor": "x6",
         "domain": [
          0,
          0.45
         ]
        },
        "yaxis7": {
         "anchor": "x7",
         "domain": [
          0,
          0.45
         ]
        },
        "yaxis8": {
         "anchor": "x8",
         "domain": [
          0,
          0.45
         ]
        },
        "yaxis9": {
         "anchor": "x9",
         "domain": [
          0,
          0.45
         ]
        }
       }
      }
     },
     "metadata": {},
     "output_type": "display_data"
    }
   ],
   "source": [
    "\n",
    "from plotly.subplots import make_subplots\n",
    "\n",
    "semester_year_list = ['fall_2019', 'spring_2020', 'summer_2020', 'fall_2020',\n",
    "       'spring_2021', 'summer_2021', 'fall_2021', 'spring_2022',\n",
    "       'fall_2022', 'spring_2023']\n",
    "\n",
    "num_rows = 2\n",
    "num_cols = 5\n",
    "fig = make_subplots(rows=num_rows, cols=num_cols, shared_xaxes=False, vertical_spacing=0.1)\n",
    "\n",
    "for i, semester_year in enumerate(semester_year_list):\n",
    "    row = i // num_cols + 1  # Calculate the row index\n",
    "    col = i % num_cols + 1  # Calculate the column index\n",
    "\n",
    "    # Filter the dataframe by semester_year\n",
    "    just_semester_year = all_together[all_together['semester_year'] == semester_year]\n",
    "    just_semester_year['author_mentions'] = just_semester_year['author_mentions'].apply(set)\n",
    "\n",
    "    just_semester_year_exploded_df = just_semester_year.explode('author_mentions')\n",
    "\n",
    "    specific_author_ids = [1, 2, 3, 4, 5, 123, 124]\n",
    "\n",
    "    # Filter the DataFrame based on the specific author_ids\n",
    "    just_semester_year_exploded_df = just_semester_year_exploded_df[just_semester_year_exploded_df['author_mentions'].isin(specific_author_ids)]\n",
    "\n",
    "    # Select out the two relevant columns, sort the values on 'created_at' column and get the cumulative counts\n",
    "    plotly_df = just_semester_year_exploded_df[['created_at', 'author_mentions']]\n",
    "    plotly_df = plotly_df.sort_values('created_at')\n",
    "    plotly_df['cumulative_count'] = plotly_df.groupby('author_mentions').cumcount() + 1\n",
    "\n",
    "    show_legend = i == 0\n",
    "\n",
    "    for author_mention in plotly_df['author_mentions'].unique():\n",
    "        data = plotly_df[plotly_df['author_mentions'] == author_mention]\n",
    "        author_name = author_mapping.get(author_mention, str(author_mention))\n",
    "        fig.add_trace(go.Scatter(\n",
    "            x=data['created_at'],\n",
    "            y=data['cumulative_count'],\n",
    "            name=author_name,\n",
    "            mode='markers',\n",
    "            showlegend=show_legend\n",
    "        ), row=row, col=col)\n",
    "\n",
    "fig.update_layout(\n",
    "    title_text='Plots of Most Popular First-Week Authors (Over the Entire Semester)',\n",
    "    title_x=0.5,\n",
    "    width=1400,\n",
    "    height=1000,  # Adjust the height as per your preference\n",
    "    yaxis=dict(title='Number of Mentions'),\n",
    "    showlegend=True\n",
    ")\n",
    "\n",
    "fig.show()\n",
    "fig.write_html(r\"G:\\My Drive\\DHStuff\\projects\\weird_fiction_from_scratch\\plots\\all_theoretical_author_mentions_over_time.html\")"
   ]
  },
  {
   "cell_type": "code",
   "execution_count": 65,
   "metadata": {},
   "outputs": [
    {
     "data": {
      "application/vnd.plotly.v1+json": {
       "config": {
        "plotlyServerURL": "https://plot.ly"
       },
       "data": [
        {
         "marker": {
          "color": "mediumorchid"
         },
         "mode": "markers",
         "type": "scatter",
         "x": [
          "2022-08-27T06:30:33+00:00",
          "2022-08-27T17:41:03+00:00",
          "2022-08-27T23:02:16+00:00",
          "2022-08-27T23:04:58+00:00",
          "2022-08-28T00:16:36+00:00",
          "2022-08-28T00:17:09+00:00",
          "2022-08-28T01:26:16+00:00",
          "2022-08-28T05:07:00+00:00",
          "2022-08-28T15:58:24+00:00",
          "2022-08-28T16:01:21+00:00",
          "2022-08-28T16:16:01+00:00",
          "2022-08-28T17:57:11+00:00",
          "2022-08-28T20:03:45+00:00",
          "2022-08-28T20:54:08+00:00",
          "2022-08-28T23:40:03+00:00",
          "2022-08-28T23:51:24+00:00",
          "2022-08-29T00:05:39+00:00",
          "2022-08-29T00:09:01+00:00",
          "2022-08-29T00:41:24+00:00",
          "2022-08-29T00:54:46+00:00",
          "2022-08-29T01:15:32+00:00",
          "2022-08-29T01:18:47+00:00",
          "2022-08-29T02:22:31+00:00",
          "2022-08-29T02:30:21+00:00",
          "2022-08-29T02:43:26+00:00",
          "2022-08-29T03:29:09+00:00",
          "2022-08-29T04:10:15+00:00",
          "2022-08-29T04:36:26+00:00",
          "2022-08-29T04:51:21+00:00",
          "2022-08-29T05:24:50+00:00",
          "2022-08-29T18:41:49+00:00",
          "2022-08-29T19:17:11+00:00",
          "2022-08-29T23:03:32+00:00"
         ],
         "y": [
          1,
          2,
          3,
          4,
          5,
          6,
          7,
          8,
          9,
          10,
          11,
          12,
          13,
          14,
          15,
          16,
          17,
          18,
          19,
          20,
          21,
          22,
          23,
          24,
          25,
          26,
          27,
          28,
          29,
          30,
          31,
          32,
          33
         ]
        }
       ],
       "layout": {
        "annotations": [
         {
          "arrowhead": 1,
          "showarrow": false,
          "text": "Due Date",
          "x": "2022-08-29T04:59:59Z",
          "y": 45
         }
        ],
        "height": 500,
        "shapes": [
         {
          "line": {
           "color": "red",
           "dash": "dash",
           "width": 3
          },
          "type": "line",
          "x0": "2022-08-29T04:59:59Z",
          "x1": "2022-08-29T04:59:59Z",
          "xref": "x",
          "y0": 0,
          "y1": 1,
          "yref": "y domain"
         }
        ],
        "template": {
         "data": {
          "bar": [
           {
            "error_x": {
             "color": "#2a3f5f"
            },
            "error_y": {
             "color": "#2a3f5f"
            },
            "marker": {
             "line": {
              "color": "#E5ECF6",
              "width": 0.5
             },
             "pattern": {
              "fillmode": "overlay",
              "size": 10,
              "solidity": 0.2
             }
            },
            "type": "bar"
           }
          ],
          "barpolar": [
           {
            "marker": {
             "line": {
              "color": "#E5ECF6",
              "width": 0.5
             },
             "pattern": {
              "fillmode": "overlay",
              "size": 10,
              "solidity": 0.2
             }
            },
            "type": "barpolar"
           }
          ],
          "carpet": [
           {
            "aaxis": {
             "endlinecolor": "#2a3f5f",
             "gridcolor": "white",
             "linecolor": "white",
             "minorgridcolor": "white",
             "startlinecolor": "#2a3f5f"
            },
            "baxis": {
             "endlinecolor": "#2a3f5f",
             "gridcolor": "white",
             "linecolor": "white",
             "minorgridcolor": "white",
             "startlinecolor": "#2a3f5f"
            },
            "type": "carpet"
           }
          ],
          "choropleth": [
           {
            "colorbar": {
             "outlinewidth": 0,
             "ticks": ""
            },
            "type": "choropleth"
           }
          ],
          "contour": [
           {
            "colorbar": {
             "outlinewidth": 0,
             "ticks": ""
            },
            "colorscale": [
             [
              0,
              "#0d0887"
             ],
             [
              0.1111111111111111,
              "#46039f"
             ],
             [
              0.2222222222222222,
              "#7201a8"
             ],
             [
              0.3333333333333333,
              "#9c179e"
             ],
             [
              0.4444444444444444,
              "#bd3786"
             ],
             [
              0.5555555555555556,
              "#d8576b"
             ],
             [
              0.6666666666666666,
              "#ed7953"
             ],
             [
              0.7777777777777778,
              "#fb9f3a"
             ],
             [
              0.8888888888888888,
              "#fdca26"
             ],
             [
              1,
              "#f0f921"
             ]
            ],
            "type": "contour"
           }
          ],
          "contourcarpet": [
           {
            "colorbar": {
             "outlinewidth": 0,
             "ticks": ""
            },
            "type": "contourcarpet"
           }
          ],
          "heatmap": [
           {
            "colorbar": {
             "outlinewidth": 0,
             "ticks": ""
            },
            "colorscale": [
             [
              0,
              "#0d0887"
             ],
             [
              0.1111111111111111,
              "#46039f"
             ],
             [
              0.2222222222222222,
              "#7201a8"
             ],
             [
              0.3333333333333333,
              "#9c179e"
             ],
             [
              0.4444444444444444,
              "#bd3786"
             ],
             [
              0.5555555555555556,
              "#d8576b"
             ],
             [
              0.6666666666666666,
              "#ed7953"
             ],
             [
              0.7777777777777778,
              "#fb9f3a"
             ],
             [
              0.8888888888888888,
              "#fdca26"
             ],
             [
              1,
              "#f0f921"
             ]
            ],
            "type": "heatmap"
           }
          ],
          "heatmapgl": [
           {
            "colorbar": {
             "outlinewidth": 0,
             "ticks": ""
            },
            "colorscale": [
             [
              0,
              "#0d0887"
             ],
             [
              0.1111111111111111,
              "#46039f"
             ],
             [
              0.2222222222222222,
              "#7201a8"
             ],
             [
              0.3333333333333333,
              "#9c179e"
             ],
             [
              0.4444444444444444,
              "#bd3786"
             ],
             [
              0.5555555555555556,
              "#d8576b"
             ],
             [
              0.6666666666666666,
              "#ed7953"
             ],
             [
              0.7777777777777778,
              "#fb9f3a"
             ],
             [
              0.8888888888888888,
              "#fdca26"
             ],
             [
              1,
              "#f0f921"
             ]
            ],
            "type": "heatmapgl"
           }
          ],
          "histogram": [
           {
            "marker": {
             "pattern": {
              "fillmode": "overlay",
              "size": 10,
              "solidity": 0.2
             }
            },
            "type": "histogram"
           }
          ],
          "histogram2d": [
           {
            "colorbar": {
             "outlinewidth": 0,
             "ticks": ""
            },
            "colorscale": [
             [
              0,
              "#0d0887"
             ],
             [
              0.1111111111111111,
              "#46039f"
             ],
             [
              0.2222222222222222,
              "#7201a8"
             ],
             [
              0.3333333333333333,
              "#9c179e"
             ],
             [
              0.4444444444444444,
              "#bd3786"
             ],
             [
              0.5555555555555556,
              "#d8576b"
             ],
             [
              0.6666666666666666,
              "#ed7953"
             ],
             [
              0.7777777777777778,
              "#fb9f3a"
             ],
             [
              0.8888888888888888,
              "#fdca26"
             ],
             [
              1,
              "#f0f921"
             ]
            ],
            "type": "histogram2d"
           }
          ],
          "histogram2dcontour": [
           {
            "colorbar": {
             "outlinewidth": 0,
             "ticks": ""
            },
            "colorscale": [
             [
              0,
              "#0d0887"
             ],
             [
              0.1111111111111111,
              "#46039f"
             ],
             [
              0.2222222222222222,
              "#7201a8"
             ],
             [
              0.3333333333333333,
              "#9c179e"
             ],
             [
              0.4444444444444444,
              "#bd3786"
             ],
             [
              0.5555555555555556,
              "#d8576b"
             ],
             [
              0.6666666666666666,
              "#ed7953"
             ],
             [
              0.7777777777777778,
              "#fb9f3a"
             ],
             [
              0.8888888888888888,
              "#fdca26"
             ],
             [
              1,
              "#f0f921"
             ]
            ],
            "type": "histogram2dcontour"
           }
          ],
          "mesh3d": [
           {
            "colorbar": {
             "outlinewidth": 0,
             "ticks": ""
            },
            "type": "mesh3d"
           }
          ],
          "parcoords": [
           {
            "line": {
             "colorbar": {
              "outlinewidth": 0,
              "ticks": ""
             }
            },
            "type": "parcoords"
           }
          ],
          "pie": [
           {
            "automargin": true,
            "type": "pie"
           }
          ],
          "scatter": [
           {
            "fillpattern": {
             "fillmode": "overlay",
             "size": 10,
             "solidity": 0.2
            },
            "type": "scatter"
           }
          ],
          "scatter3d": [
           {
            "line": {
             "colorbar": {
              "outlinewidth": 0,
              "ticks": ""
             }
            },
            "marker": {
             "colorbar": {
              "outlinewidth": 0,
              "ticks": ""
             }
            },
            "type": "scatter3d"
           }
          ],
          "scattercarpet": [
           {
            "marker": {
             "colorbar": {
              "outlinewidth": 0,
              "ticks": ""
             }
            },
            "type": "scattercarpet"
           }
          ],
          "scattergeo": [
           {
            "marker": {
             "colorbar": {
              "outlinewidth": 0,
              "ticks": ""
             }
            },
            "type": "scattergeo"
           }
          ],
          "scattergl": [
           {
            "marker": {
             "colorbar": {
              "outlinewidth": 0,
              "ticks": ""
             }
            },
            "type": "scattergl"
           }
          ],
          "scattermapbox": [
           {
            "marker": {
             "colorbar": {
              "outlinewidth": 0,
              "ticks": ""
             }
            },
            "type": "scattermapbox"
           }
          ],
          "scatterpolar": [
           {
            "marker": {
             "colorbar": {
              "outlinewidth": 0,
              "ticks": ""
             }
            },
            "type": "scatterpolar"
           }
          ],
          "scatterpolargl": [
           {
            "marker": {
             "colorbar": {
              "outlinewidth": 0,
              "ticks": ""
             }
            },
            "type": "scatterpolargl"
           }
          ],
          "scatterternary": [
           {
            "marker": {
             "colorbar": {
              "outlinewidth": 0,
              "ticks": ""
             }
            },
            "type": "scatterternary"
           }
          ],
          "surface": [
           {
            "colorbar": {
             "outlinewidth": 0,
             "ticks": ""
            },
            "colorscale": [
             [
              0,
              "#0d0887"
             ],
             [
              0.1111111111111111,
              "#46039f"
             ],
             [
              0.2222222222222222,
              "#7201a8"
             ],
             [
              0.3333333333333333,
              "#9c179e"
             ],
             [
              0.4444444444444444,
              "#bd3786"
             ],
             [
              0.5555555555555556,
              "#d8576b"
             ],
             [
              0.6666666666666666,
              "#ed7953"
             ],
             [
              0.7777777777777778,
              "#fb9f3a"
             ],
             [
              0.8888888888888888,
              "#fdca26"
             ],
             [
              1,
              "#f0f921"
             ]
            ],
            "type": "surface"
           }
          ],
          "table": [
           {
            "cells": {
             "fill": {
              "color": "#EBF0F8"
             },
             "line": {
              "color": "white"
             }
            },
            "header": {
             "fill": {
              "color": "#C8D4E3"
             },
             "line": {
              "color": "white"
             }
            },
            "type": "table"
           }
          ]
         },
         "layout": {
          "annotationdefaults": {
           "arrowcolor": "#2a3f5f",
           "arrowhead": 0,
           "arrowwidth": 1
          },
          "autotypenumbers": "strict",
          "coloraxis": {
           "colorbar": {
            "outlinewidth": 0,
            "ticks": ""
           }
          },
          "colorscale": {
           "diverging": [
            [
             0,
             "#8e0152"
            ],
            [
             0.1,
             "#c51b7d"
            ],
            [
             0.2,
             "#de77ae"
            ],
            [
             0.3,
             "#f1b6da"
            ],
            [
             0.4,
             "#fde0ef"
            ],
            [
             0.5,
             "#f7f7f7"
            ],
            [
             0.6,
             "#e6f5d0"
            ],
            [
             0.7,
             "#b8e186"
            ],
            [
             0.8,
             "#7fbc41"
            ],
            [
             0.9,
             "#4d9221"
            ],
            [
             1,
             "#276419"
            ]
           ],
           "sequential": [
            [
             0,
             "#0d0887"
            ],
            [
             0.1111111111111111,
             "#46039f"
            ],
            [
             0.2222222222222222,
             "#7201a8"
            ],
            [
             0.3333333333333333,
             "#9c179e"
            ],
            [
             0.4444444444444444,
             "#bd3786"
            ],
            [
             0.5555555555555556,
             "#d8576b"
            ],
            [
             0.6666666666666666,
             "#ed7953"
            ],
            [
             0.7777777777777778,
             "#fb9f3a"
            ],
            [
             0.8888888888888888,
             "#fdca26"
            ],
            [
             1,
             "#f0f921"
            ]
           ],
           "sequentialminus": [
            [
             0,
             "#0d0887"
            ],
            [
             0.1111111111111111,
             "#46039f"
            ],
            [
             0.2222222222222222,
             "#7201a8"
            ],
            [
             0.3333333333333333,
             "#9c179e"
            ],
            [
             0.4444444444444444,
             "#bd3786"
            ],
            [
             0.5555555555555556,
             "#d8576b"
            ],
            [
             0.6666666666666666,
             "#ed7953"
            ],
            [
             0.7777777777777778,
             "#fb9f3a"
            ],
            [
             0.8888888888888888,
             "#fdca26"
            ],
            [
             1,
             "#f0f921"
            ]
           ]
          },
          "colorway": [
           "#636efa",
           "#EF553B",
           "#00cc96",
           "#ab63fa",
           "#FFA15A",
           "#19d3f3",
           "#FF6692",
           "#B6E880",
           "#FF97FF",
           "#FECB52"
          ],
          "font": {
           "color": "#2a3f5f"
          },
          "geo": {
           "bgcolor": "white",
           "lakecolor": "white",
           "landcolor": "#E5ECF6",
           "showlakes": true,
           "showland": true,
           "subunitcolor": "white"
          },
          "hoverlabel": {
           "align": "left"
          },
          "hovermode": "closest",
          "mapbox": {
           "style": "light"
          },
          "paper_bgcolor": "white",
          "plot_bgcolor": "#E5ECF6",
          "polar": {
           "angularaxis": {
            "gridcolor": "white",
            "linecolor": "white",
            "ticks": ""
           },
           "bgcolor": "#E5ECF6",
           "radialaxis": {
            "gridcolor": "white",
            "linecolor": "white",
            "ticks": ""
           }
          },
          "scene": {
           "xaxis": {
            "backgroundcolor": "#E5ECF6",
            "gridcolor": "white",
            "gridwidth": 2,
            "linecolor": "white",
            "showbackground": true,
            "ticks": "",
            "zerolinecolor": "white"
           },
           "yaxis": {
            "backgroundcolor": "#E5ECF6",
            "gridcolor": "white",
            "gridwidth": 2,
            "linecolor": "white",
            "showbackground": true,
            "ticks": "",
            "zerolinecolor": "white"
           },
           "zaxis": {
            "backgroundcolor": "#E5ECF6",
            "gridcolor": "white",
            "gridwidth": 2,
            "linecolor": "white",
            "showbackground": true,
            "ticks": "",
            "zerolinecolor": "white"
           }
          },
          "shapedefaults": {
           "line": {
            "color": "#2a3f5f"
           }
          },
          "ternary": {
           "aaxis": {
            "gridcolor": "white",
            "linecolor": "white",
            "ticks": ""
           },
           "baxis": {
            "gridcolor": "white",
            "linecolor": "white",
            "ticks": ""
           },
           "bgcolor": "#E5ECF6",
           "caxis": {
            "gridcolor": "white",
            "linecolor": "white",
            "ticks": ""
           }
          },
          "title": {
           "x": 0.05
          },
          "xaxis": {
           "automargin": true,
           "gridcolor": "white",
           "linecolor": "white",
           "ticks": "",
           "title": {
            "standoff": 15
           },
           "zerolinecolor": "white",
           "zerolinewidth": 2
          },
          "yaxis": {
           "automargin": true,
           "gridcolor": "white",
           "linecolor": "white",
           "ticks": "",
           "title": {
            "standoff": 15
           },
           "zerolinecolor": "white",
           "zerolinewidth": 2
          }
         }
        },
        "title": {
         "text": "Charting Mentions of H.P. Lovecraft's \"Supernatural Horror in Literature\" in Fall 2022 (Over the Entire Semester)",
         "x": 0.5
        },
        "width": 1000,
        "xaxis": {
         "title": {
          "text": "Timestamp"
         }
        },
        "yaxis": {
         "title": {
          "text": "Cumulative Count"
         }
        }
       }
      }
     },
     "metadata": {},
     "output_type": "display_data"
    }
   ],
   "source": [
    "# Define the start and end timestamps for the desired time frame\n",
    "start_time = pd.Timestamp('2022-08-24 00:00:00').tz_localize('UTC')\n",
    "end_time = pd.Timestamp('2022-09-01 23:59:59').tz_localize('UTC')\n",
    "due_date = \"2022-08-29T04:59:59Z\"\n",
    "due_date_arrow = \"2022-08-29T03:45:01Z\"\n",
    "\n",
    "# Filter the DataFrame for the desired time frame\n",
    "filtered_data_by_time_frame = filtered_data[(filtered_data['created_at'] >= start_time) & (filtered_data['created_at'] <= end_time)]\n",
    "\n",
    "# Create the scatter plot\n",
    "fig = go.Figure()\n",
    "\n",
    "# Add the scatter trace\n",
    "fig.add_trace(go.Scatter(\n",
    "    x=filtered_data_by_time_frame['created_at'],\n",
    "    y=filtered_data_by_time_frame['cumulative_count'],\n",
    "    mode='markers'\n",
    "))\n",
    "\n",
    "fig.update_traces(marker=dict(color='mediumorchid'))\n",
    "\n",
    "fig.add_vline(x=due_date, line_width=3, line_dash=\"dash\", line_color=\"red\")\n",
    "fig.add_annotation(x=due_date, y=45, text=\"Due Date\", showarrow=False, arrowhead=1)\n",
    "\n",
    "fig.update_layout(\n",
    "    title_text= \"Charting Mentions of H.P. Lovecraft's \\\"Supernatural Horror in Literature\\\" in Fall 2022 (Over the Entire Semester)\",\n",
    "    title_x=0.5,\n",
    "    width=1000,\n",
    "    height=500,\n",
    "    yaxis=dict(title='Number of Mentions')\n",
    ")\n",
    "# Set the x-axis and y-axis labels\n",
    "fig.update_xaxes(title_text='Timestamp')\n",
    "fig.update_yaxes(title_text='Cumulative Count')\n",
    "\n",
    "# Show the plot\n",
    "fig.show()"
   ]
  }
 ],
 "metadata": {
  "kernelspec": {
   "display_name": "python311",
   "language": "python",
   "name": "python3"
  },
  "language_info": {
   "codemirror_mode": {
    "name": "ipython",
    "version": 3
   },
   "file_extension": ".py",
   "mimetype": "text/x-python",
   "name": "python",
   "nbconvert_exporter": "python",
   "pygments_lexer": "ipython3",
   "version": "3.11.0"
  },
  "orig_nbformat": 4
 },
 "nbformat": 4,
 "nbformat_minor": 2
}
